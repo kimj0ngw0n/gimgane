{
 "cells": [
  {
   "cell_type": "markdown",
   "id": "765b11e4",
   "metadata": {},
   "source": [
    "# 김가네 팀플 (4) 데이터 분석 (워드클라우드)_ 230622\n",
    "- 팀원 별로 분담해서 분석 진행"
   ]
  },
  {
   "cell_type": "code",
   "execution_count": 2,
   "id": "3372e085",
   "metadata": {},
   "outputs": [],
   "source": [
    "from IPython.core.interactiveshell import InteractiveShell\n",
    "InteractiveShell.ast_node_interactivity=\"all\""
   ]
  },
  {
   "cell_type": "code",
   "execution_count": 3,
   "id": "845a6ac5",
   "metadata": {},
   "outputs": [],
   "source": [
    "import numpy as np\n",
    "import pandas as pd\n",
    "import seaborn as sns\n",
    "import matplotlib.pyplot as plt\n",
    "%matplotlib inline"
   ]
  },
  {
   "cell_type": "code",
   "execution_count": 4,
   "id": "7ced1a3c",
   "metadata": {},
   "outputs": [],
   "source": [
    "pd.set_option('mode.chained_assignment',  None)"
   ]
  },
  {
   "cell_type": "code",
   "execution_count": 8,
   "id": "d2f492f7",
   "metadata": {},
   "outputs": [
    {
     "name": "stdout",
     "output_type": "stream",
     "text": [
      "<class 'pandas.core.frame.DataFrame'>\n",
      "RangeIndex: 20624 entries, 0 to 20623\n",
      "Data columns (total 24 columns):\n",
      " #   Column         Non-Null Count  Dtype\n",
      "---  ------         --------------  -----\n",
      " 0   view_cnt       20624 non-null  int64\n",
      " 1   where_cnt      20624 non-null  int64\n",
      " 2   attend_cnt     20624 non-null  int64\n",
      " 3   volunteer_cnt  20624 non-null  int64\n",
      " 4   history_cnt    20624 non-null  int64\n",
      " 5   festival_cnt   20624 non-null  int64\n",
      " 6   standard       20624 non-null  int64\n",
      " 7   block          20624 non-null  int64\n",
      " 8   expense        20624 non-null  int64\n",
      " 9   expense_f      20624 non-null  int64\n",
      " 10  difficulty     20624 non-null  int64\n",
      " 11  intention      20624 non-null  int64\n",
      " 12  history        20624 non-null  int64\n",
      " 13  history_f      20624 non-null  int64\n",
      " 14  festival       20624 non-null  int64\n",
      " 15  festival_f     20624 non-null  int64\n",
      " 16  sex            20624 non-null  int64\n",
      " 17  age            20624 non-null  int64\n",
      " 18  education      20624 non-null  int64\n",
      " 19  married        20624 non-null  int64\n",
      " 20  work           20624 non-null  int64\n",
      " 21  income         20624 non-null  int64\n",
      " 22  sido           20624 non-null  int64\n",
      " 23  disabled       20624 non-null  int64\n",
      "dtypes: int64(24)\n",
      "memory usage: 3.8 MB\n"
     ]
    }
   ],
   "source": [
    "# 전처리 완료된 데이터 파일 불러오기\n",
    "CS = pd.read_csv('CS.csv', encoding='euc-kr')\n",
    "CS.info()"
   ]
  },
  {
   "cell_type": "markdown",
   "id": "fb66b7a0",
   "metadata": {},
   "source": [
    "## 워드 클라우드 진행"
   ]
  },
  {
   "cell_type": "code",
   "execution_count": 9,
   "id": "2d08783a",
   "metadata": {},
   "outputs": [
    {
     "name": "stdout",
     "output_type": "stream",
     "text": [
      "Collecting wordcloud\n",
      "  Downloading wordcloud-1.9.2-cp310-cp310-macosx_10_9_x86_64.whl (160 kB)\n",
      "\u001b[2K     \u001b[90m━━━━━━━━━━━━━━━━━━━━━━━━━━━━━━━━━━━━━━━\u001b[0m \u001b[32m160.5/160.5 kB\u001b[0m \u001b[31m3.3 MB/s\u001b[0m eta \u001b[36m0:00:00\u001b[0ma \u001b[36m0:00:01\u001b[0m\n",
      "\u001b[?25hRequirement already satisfied: numpy>=1.6.1 in /Users/kimjiewoo/.pyenv/versions/3.10.10/lib/python3.10/site-packages (from wordcloud) (1.24.3)\n",
      "Requirement already satisfied: matplotlib in /Users/kimjiewoo/.pyenv/versions/3.10.10/lib/python3.10/site-packages (from wordcloud) (3.7.1)\n",
      "Requirement already satisfied: pillow in /Users/kimjiewoo/.pyenv/versions/3.10.10/lib/python3.10/site-packages (from wordcloud) (9.5.0)\n",
      "Requirement already satisfied: pyparsing>=2.3.1 in /Users/kimjiewoo/.pyenv/versions/3.10.10/lib/python3.10/site-packages (from matplotlib->wordcloud) (3.0.9)\n",
      "Requirement already satisfied: cycler>=0.10 in /Users/kimjiewoo/.pyenv/versions/3.10.10/lib/python3.10/site-packages (from matplotlib->wordcloud) (0.11.0)\n",
      "Requirement already satisfied: python-dateutil>=2.7 in /Users/kimjiewoo/.pyenv/versions/3.10.10/lib/python3.10/site-packages (from matplotlib->wordcloud) (2.8.2)\n",
      "Requirement already satisfied: packaging>=20.0 in /Users/kimjiewoo/.pyenv/versions/3.10.10/lib/python3.10/site-packages (from matplotlib->wordcloud) (23.0)\n",
      "Requirement already satisfied: kiwisolver>=1.0.1 in /Users/kimjiewoo/.pyenv/versions/3.10.10/lib/python3.10/site-packages (from matplotlib->wordcloud) (1.4.4)\n",
      "Requirement already satisfied: fonttools>=4.22.0 in /Users/kimjiewoo/.pyenv/versions/3.10.10/lib/python3.10/site-packages (from matplotlib->wordcloud) (4.39.4)\n",
      "Requirement already satisfied: contourpy>=1.0.1 in /Users/kimjiewoo/.pyenv/versions/3.10.10/lib/python3.10/site-packages (from matplotlib->wordcloud) (1.0.7)\n",
      "Requirement already satisfied: six>=1.5 in /Users/kimjiewoo/.pyenv/versions/3.10.10/lib/python3.10/site-packages (from python-dateutil>=2.7->matplotlib->wordcloud) (1.16.0)\n",
      "Installing collected packages: wordcloud\n",
      "Successfully installed wordcloud-1.9.2\n",
      "\n",
      "\u001b[1m[\u001b[0m\u001b[34;49mnotice\u001b[0m\u001b[1;39;49m]\u001b[0m\u001b[39;49m A new release of pip available: \u001b[0m\u001b[31;49m22.3.1\u001b[0m\u001b[39;49m -> \u001b[0m\u001b[32;49m23.1.2\u001b[0m\n",
      "\u001b[1m[\u001b[0m\u001b[34;49mnotice\u001b[0m\u001b[1;39;49m]\u001b[0m\u001b[39;49m To update, run: \u001b[0m\u001b[32;49mpip install --upgrade pip\u001b[0m\n"
     ]
    }
   ],
   "source": [
    "# 워드클라우드 만들 때 필요한 wordcloud 패키지 설치하기 \n",
    "# !pip install wordcloud"
   ]
  },
  {
   "cell_type": "code",
   "execution_count": 10,
   "id": "0994194b",
   "metadata": {},
   "outputs": [
    {
     "name": "stdout",
     "output_type": "stream",
     "text": [
      "Requirement already satisfied: pillow in /Users/kimjiewoo/.pyenv/versions/3.10.10/lib/python3.10/site-packages (9.5.0)\n",
      "\n",
      "\u001b[1m[\u001b[0m\u001b[34;49mnotice\u001b[0m\u001b[1;39;49m]\u001b[0m\u001b[39;49m A new release of pip available: \u001b[0m\u001b[31;49m22.3.1\u001b[0m\u001b[39;49m -> \u001b[0m\u001b[32;49m23.1.2\u001b[0m\n",
      "\u001b[1m[\u001b[0m\u001b[34;49mnotice\u001b[0m\u001b[1;39;49m]\u001b[0m\u001b[39;49m To update, run: \u001b[0m\u001b[32;49mpip install --upgrade pip\u001b[0m\n"
     ]
    }
   ],
   "source": [
    "# 워드클라우드를 원하는 형태의 이미지를 이용해 처리하기 위해\n",
    "# 파이썬 이미지 처리 패키지인 pillow(PIL) 패키지 설치\n",
    "# PIL = Python Imaging Library\n",
    "\n",
    "# !pip install pillow"
   ]
  },
  {
   "cell_type": "code",
   "execution_count": 11,
   "id": "94a51cb1",
   "metadata": {},
   "outputs": [],
   "source": [
    "# 위에서 설치한 라이브러리 import \n",
    "from wordcloud import WordCloud\n",
    "from PIL import *"
   ]
  },
  {
   "cell_type": "markdown",
   "id": "fec4b12f",
   "metadata": {},
   "source": [
    "### 워드클라우드 예제 적용 가능한지 확인"
   ]
  },
  {
   "cell_type": "code",
   "execution_count": 15,
   "id": "7c8c390d",
   "metadata": {
    "scrolled": true
   },
   "outputs": [
    {
     "data": {
      "text/plain": [
       "array([[[255, 255, 255, 255],\n",
       "        [254, 254, 254, 255],\n",
       "        [254, 254, 254, 255],\n",
       "        ...,\n",
       "        [254, 254, 254, 255],\n",
       "        [254, 254, 254, 255],\n",
       "        [254, 254, 254, 255]],\n",
       "\n",
       "       [[255, 255, 255, 255],\n",
       "        [255, 255, 255, 255],\n",
       "        [255, 255, 255, 255],\n",
       "        ...,\n",
       "        [255, 255, 255, 255],\n",
       "        [255, 255, 255, 255],\n",
       "        [255, 255, 255, 255]],\n",
       "\n",
       "       [[255, 255, 255, 255],\n",
       "        [255, 255, 255, 255],\n",
       "        [255, 255, 255, 255],\n",
       "        ...,\n",
       "        [255, 255, 255, 255],\n",
       "        [255, 255, 255, 255],\n",
       "        [255, 255, 255, 255]],\n",
       "\n",
       "       ...,\n",
       "\n",
       "       [[255, 255, 255, 255],\n",
       "        [255, 255, 255, 255],\n",
       "        [255, 255, 255, 255],\n",
       "        ...,\n",
       "        [255, 255, 255, 255],\n",
       "        [255, 255, 255, 255],\n",
       "        [255, 255, 255, 255]],\n",
       "\n",
       "       [[255, 255, 255, 255],\n",
       "        [255, 255, 255, 255],\n",
       "        [255, 255, 255, 255],\n",
       "        ...,\n",
       "        [255, 255, 255, 255],\n",
       "        [255, 255, 255, 255],\n",
       "        [255, 255, 255, 255]],\n",
       "\n",
       "       [[255, 255, 255, 255],\n",
       "        [255, 255, 255, 255],\n",
       "        [255, 255, 255, 255],\n",
       "        ...,\n",
       "        [255, 255, 255, 255],\n",
       "        [255, 255, 255, 255],\n",
       "        [255, 255, 255, 255]]], dtype=uint8)"
      ]
     },
     "execution_count": 15,
     "metadata": {},
     "output_type": "execute_result"
    }
   ],
   "source": [
    "# 워드클라우드 모양 잡기\n",
    "cand_mask = np.array(Image.open('circle_image.jpg'))\n",
    "\n",
    "cand_mask"
   ]
  },
  {
   "cell_type": "code",
   "execution_count": 16,
   "id": "74714acf",
   "metadata": {},
   "outputs": [],
   "source": [
    "# 워드클라우드에 출력할 딕셔너리 생성\n",
    "words = {\n",
    "    '돔돔이블로그':1965,\n",
    "    'domdom':1666,\n",
    "    '티스토리':955,\n",
    "    '돔돔':855,\n",
    "    '워드':841,\n",
    "    '클라우드':612,\n",
    "    '파이썬':598,\n",
    "    'tistory':576,\n",
    "    '코딩':542,\n",
    "    '장인':487,\n",
    "    '블로그':412,\n",
    "    '방문자':401,\n",
    "    '댓글':397,\n",
    "    '롤':391,\n",
    "    '칼바람':308,\n",
    "    '나락':284,\n",
    "    '환영':255,\n",
    "    '자바':231,\n",
    "    '장고':175,\n",
    "    '자바스크립트':152,\n",
    "    '스프링':109,\n",
    "    '부트':71,\n",
    "    '스타벅스':68,\n",
    "    '제주말차':59,\n",
    "    '프라푸치노':21,\n",
    "    '먹고싶다':19,\n",
    "    '디저트':6,\n",
    "    '꿀잼':2\n",
    "}"
   ]
  },
  {
   "cell_type": "code",
   "execution_count": 21,
   "id": "d1ff5745",
   "metadata": {},
   "outputs": [],
   "source": [
    "# 워드클라우드 생성\n",
    "wordcloud = WordCloud(\n",
    "    font_path = 'malgun.ttf', # 한글 글씨체 설정\n",
    "    background_color='white', # 배경색은 흰색으로 \n",
    "    colormap='Reds', # 글씨색은 빨간색으로\n",
    "    mask=cand_mask, # 워드클라우드 모양 설정\n",
    ").generate_from_frequencies(words)"
   ]
  },
  {
   "cell_type": "code",
   "execution_count": 22,
   "id": "2866c8f2",
   "metadata": {},
   "outputs": [
    {
     "data": {
      "text/plain": [
       "<Figure size 500x500 with 0 Axes>"
      ]
     },
     "execution_count": 22,
     "metadata": {},
     "output_type": "execute_result"
    },
    {
     "data": {
      "text/plain": [
       "<matplotlib.image.AxesImage at 0x125304d90>"
      ]
     },
     "execution_count": 22,
     "metadata": {},
     "output_type": "execute_result"
    },
    {
     "data": {
      "text/plain": [
       "(-0.5, 400.5, 389.5, -0.5)"
      ]
     },
     "execution_count": 22,
     "metadata": {},
     "output_type": "execute_result"
    },
    {
     "data": {
      "image/png": "[encoded data removed]",
      "text/plain": [
       "<Figure size 500x500 with 1 Axes>"
      ]
     },
     "metadata": {},
     "output_type": "display_data"
    }
   ],
   "source": [
    "# 워드클라우드 출력\n",
    "# 사이즈 설정\n",
    "plt.figure(figsize=(5,5))\n",
    "plt.imshow(wordcloud, interpolation='bilinear')\n",
    "plt.axis('off') # 차트로 나오지 않게"
   ]
  },
  {
   "cell_type": "code",
   "execution_count": null,
   "id": "fe8fadda",
   "metadata": {},
   "outputs": [],
   "source": [
    "# 워드클라우드 이미지 저장\n",
    "# plt.savefig('test.png')"
   ]
  },
  {
   "cell_type": "markdown",
   "id": "2f3567c4",
   "metadata": {},
   "source": [
    "## 국민문화예술활동조사 데이터로 워드클라우드 생성"
   ]
  },
  {
   "cell_type": "markdown",
   "id": "32a5fabc",
   "metadata": {},
   "source": [
    "### 워드클라우드 시각화가 필요한 feature\n",
    "\n",
    "- standard : 기준\n",
    "- block : 걸림돌\n",
    "- difficulty : 어려움\n",
    "- expense : 가장 많이 지출한 1순위 (후순위 작업)\n",
    "- expense_f : 향후 지출 의향 1순위 (후순위 작업)\n",
    "\n"
   ]
  },
  {
   "cell_type": "markdown",
   "id": "3e1179d2",
   "metadata": {},
   "source": [
    "### block 과 difficulty 기준 분리\n",
    "- block : 문화행사 '직접 관람' 시 어려움\n",
    "- difficulty : 문화행사 '참여' 시 어려움"
   ]
  },
  {
   "cell_type": "markdown",
   "id": "97acf84d",
   "metadata": {},
   "source": [
    "### 각 feature 별 범주 코드 기준 확인"
   ]
  },
  {
   "cell_type": "code",
   "execution_count": 36,
   "id": "fcdd98ef",
   "metadata": {},
   "outputs": [],
   "source": [
    "standard_words = {\n",
    "    1:'컨텐츠 및 퀄리티',\n",
    "    2:'비용',\n",
    "    3:'작가 및 출연진',\n",
    "    4:'개최 장소의 유명도',\n",
    "    5:'교통',\n",
    "    6:'편의시설여부',\n",
    "    7:'전문가 의견 및 언론보도',\n",
    "    8:'주위 의견 및 네티즌 의견',\n",
    "    9:'접근성',\n",
    "    10:'기타',\n",
    "}"
   ]
  },
  {
   "cell_type": "code",
   "execution_count": 37,
   "id": "a867fdcc",
   "metadata": {},
   "outputs": [],
   "source": [
    "block_words = {\n",
    "    1:'비용',\n",
    "    2:'시간',\n",
    "    3:'관심도',\n",
    "    4:'교통',\n",
    "    5:'편의시설미비',\n",
    "    6:'관련정보부족',\n",
    "    7:'친구없음',\n",
    "    8:'시설부족',\n",
    "    9:'기타',\n",
    "}"
   ]
  },
  {
   "cell_type": "code",
   "execution_count": 38,
   "id": "61724b00",
   "metadata": {},
   "outputs": [],
   "source": [
    "difficulty_words = {\n",
    "    1:'비용',\n",
    "    2:'시간',\n",
    "    3:'관심도',\n",
    "    4:'교통',\n",
    "    5:'편의시설미비',\n",
    "    6:'관련정보부족',\n",
    "    7:'친구없음',\n",
    "    8:'시설부족',\n",
    "    9:'기타',\n",
    "}"
   ]
  },
  {
   "cell_type": "code",
   "execution_count": 130,
   "id": "ece11629",
   "metadata": {},
   "outputs": [],
   "source": [
    "expense_words = {\n",
    "    1:'문학',\n",
    "    2:'미술',\n",
    "    3:'서양음악',\n",
    "    4:'전통예술',\n",
    "    5:'연극/뮤지컬',\n",
    "    6:'무용',\n",
    "    7:'영화',\n",
    "    8:'대중음악',\n",
    "    9:'전시회',\n",
    "    10:'서양음악',\n",
    "    11:'전통예술',\n",
    "    12:'연극/뮤지컬',\n",
    "    13:'무용',\n",
    "    14:'영화',\n",
    "    15:'대중음악',\n",
    "    16:'기타',\n",
    "    17:'해당사항없음'\n",
    "}"
   ]
  },
  {
   "cell_type": "markdown",
   "id": "5ef3cbb6",
   "metadata": {},
   "source": [
    "### 기존의 숫자 코드 -> 문자 기준으로 변경"
   ]
  },
  {
   "cell_type": "code",
   "execution_count": 139,
   "id": "6f29a485",
   "metadata": {},
   "outputs": [
    {
     "data": {
      "text/html": [
       "<div>\n",
       "<style scoped>\n",
       "    .dataframe tbody tr th:only-of-type {\n",
       "        vertical-align: middle;\n",
       "    }\n",
       "\n",
       "    .dataframe tbody tr th {\n",
       "        vertical-align: top;\n",
       "    }\n",
       "\n",
       "    .dataframe thead th {\n",
       "        text-align: right;\n",
       "    }\n",
       "</style>\n",
       "<table border=\"1\" class=\"dataframe\">\n",
       "  <thead>\n",
       "    <tr style=\"text-align: right;\">\n",
       "      <th></th>\n",
       "      <th>standard</th>\n",
       "      <th>block</th>\n",
       "      <th>difficulty</th>\n",
       "      <th>expense</th>\n",
       "      <th>expense_f</th>\n",
       "    </tr>\n",
       "  </thead>\n",
       "  <tbody>\n",
       "    <tr>\n",
       "      <th>0</th>\n",
       "      <td>1</td>\n",
       "      <td>1</td>\n",
       "      <td>3</td>\n",
       "      <td>14</td>\n",
       "      <td>14</td>\n",
       "    </tr>\n",
       "    <tr>\n",
       "      <th>1</th>\n",
       "      <td>2</td>\n",
       "      <td>6</td>\n",
       "      <td>1</td>\n",
       "      <td>14</td>\n",
       "      <td>9</td>\n",
       "    </tr>\n",
       "    <tr>\n",
       "      <th>2</th>\n",
       "      <td>2</td>\n",
       "      <td>1</td>\n",
       "      <td>1</td>\n",
       "      <td>8</td>\n",
       "      <td>15</td>\n",
       "    </tr>\n",
       "    <tr>\n",
       "      <th>3</th>\n",
       "      <td>1</td>\n",
       "      <td>2</td>\n",
       "      <td>4</td>\n",
       "      <td>14</td>\n",
       "      <td>14</td>\n",
       "    </tr>\n",
       "    <tr>\n",
       "      <th>4</th>\n",
       "      <td>2</td>\n",
       "      <td>1</td>\n",
       "      <td>4</td>\n",
       "      <td>14</td>\n",
       "      <td>14</td>\n",
       "    </tr>\n",
       "    <tr>\n",
       "      <th>...</th>\n",
       "      <td>...</td>\n",
       "      <td>...</td>\n",
       "      <td>...</td>\n",
       "      <td>...</td>\n",
       "      <td>...</td>\n",
       "    </tr>\n",
       "    <tr>\n",
       "      <th>20619</th>\n",
       "      <td>4</td>\n",
       "      <td>3</td>\n",
       "      <td>6</td>\n",
       "      <td>12</td>\n",
       "      <td>12</td>\n",
       "    </tr>\n",
       "    <tr>\n",
       "      <th>20620</th>\n",
       "      <td>1</td>\n",
       "      <td>2</td>\n",
       "      <td>2</td>\n",
       "      <td>12</td>\n",
       "      <td>12</td>\n",
       "    </tr>\n",
       "    <tr>\n",
       "      <th>20621</th>\n",
       "      <td>1</td>\n",
       "      <td>2</td>\n",
       "      <td>2</td>\n",
       "      <td>17</td>\n",
       "      <td>12</td>\n",
       "    </tr>\n",
       "    <tr>\n",
       "      <th>20622</th>\n",
       "      <td>1</td>\n",
       "      <td>2</td>\n",
       "      <td>2</td>\n",
       "      <td>12</td>\n",
       "      <td>12</td>\n",
       "    </tr>\n",
       "    <tr>\n",
       "      <th>20623</th>\n",
       "      <td>4</td>\n",
       "      <td>2</td>\n",
       "      <td>2</td>\n",
       "      <td>12</td>\n",
       "      <td>15</td>\n",
       "    </tr>\n",
       "  </tbody>\n",
       "</table>\n",
       "<p>20624 rows × 5 columns</p>\n",
       "</div>"
      ],
      "text/plain": [
       "       standard  block  difficulty  expense  expense_f\n",
       "0             1      1           3       14         14\n",
       "1             2      6           1       14          9\n",
       "2             2      1           1        8         15\n",
       "3             1      2           4       14         14\n",
       "4             2      1           4       14         14\n",
       "...         ...    ...         ...      ...        ...\n",
       "20619         4      3           6       12         12\n",
       "20620         1      2           2       12         12\n",
       "20621         1      2           2       17         12\n",
       "20622         1      2           2       12         12\n",
       "20623         4      2           2       12         15\n",
       "\n",
       "[20624 rows x 5 columns]"
      ]
     },
     "execution_count": 139,
     "metadata": {},
     "output_type": "execute_result"
    }
   ],
   "source": [
    "# 워드클라우드 생성을 위한 데이터프레임 할당\n",
    "CS_wordcloud = CS[['standard', 'block', 'difficulty', 'expense', 'expense_f']]\n",
    "CS_wordcloud"
   ]
  },
  {
   "cell_type": "code",
   "execution_count": 140,
   "id": "b2c0f1a9",
   "metadata": {},
   "outputs": [],
   "source": [
    "# 코드 변경이 필요한 열 이름\n",
    "need_setting_columns = [\n",
    "    'standard',\n",
    "    'block',\n",
    "    'difficulty',\n",
    "    'expense',\n",
    "    'expense_f'\n",
    "]"
   ]
  },
  {
   "cell_type": "code",
   "execution_count": 141,
   "id": "49458ca0",
   "metadata": {
    "scrolled": true
   },
   "outputs": [
    {
     "data": {
      "text/plain": [
       "standard\n",
       "1     6542\n",
       "2     5412\n",
       "9     2233\n",
       "5     2167\n",
       "3     2036\n",
       "4      866\n",
       "7      470\n",
       "6      441\n",
       "8      428\n",
       "10      29\n",
       "Name: count, dtype: int64"
      ]
     },
     "execution_count": 141,
     "metadata": {},
     "output_type": "execute_result"
    },
    {
     "data": {
      "text/plain": [
       "block\n",
       "2    5738\n",
       "1    5401\n",
       "3    3468\n",
       "6    2087\n",
       "8    1476\n",
       "4    1277\n",
       "5     568\n",
       "7     527\n",
       "9      82\n",
       "Name: count, dtype: int64"
      ]
     },
     "execution_count": 141,
     "metadata": {},
     "output_type": "execute_result"
    },
    {
     "data": {
      "text/plain": [
       "difficulty\n",
       "2    6209\n",
       "3    4408\n",
       "1    3511\n",
       "6    2977\n",
       "8    1189\n",
       "4    1030\n",
       "5     623\n",
       "7     600\n",
       "9      77\n",
       "Name: count, dtype: int64"
      ]
     },
     "execution_count": 141,
     "metadata": {},
     "output_type": "execute_result"
    },
    {
     "data": {
      "text/plain": [
       "expense\n",
       "14    5771\n",
       "17    5233\n",
       "12    4786\n",
       "5     1081\n",
       "15     747\n",
       "1      706\n",
       "8      560\n",
       "7      511\n",
       "11     248\n",
       "9      238\n",
       "13     201\n",
       "16     189\n",
       "2       89\n",
       "10      87\n",
       "6       67\n",
       "4       65\n",
       "3       45\n",
       "Name: count, dtype: int64"
      ]
     },
     "execution_count": 141,
     "metadata": {},
     "output_type": "execute_result"
    },
    {
     "data": {
      "text/plain": [
       "expense_f\n",
       "12    5837\n",
       "14    4724\n",
       "15    2161\n",
       "17    1801\n",
       "1      876\n",
       "5      780\n",
       "9      745\n",
       "11     740\n",
       "13     687\n",
       "8      570\n",
       "16     459\n",
       "7      440\n",
       "10     297\n",
       "6      166\n",
       "4      135\n",
       "2      129\n",
       "3       77\n",
       "Name: count, dtype: int64"
      ]
     },
     "execution_count": 141,
     "metadata": {},
     "output_type": "execute_result"
    }
   ],
   "source": [
    "# 코드값 변경이 필요한 열들의 변경 전 빈도값 출력\n",
    "for column in need_setting_columns:\n",
    "    CS_wordcloud[column].value_counts(ascending=False)"
   ]
  },
  {
   "cell_type": "code",
   "execution_count": 142,
   "id": "4dabb508",
   "metadata": {},
   "outputs": [],
   "source": [
    "# 위에서 만들어준 딕셔너리 하나의 리스트로 묶기\n",
    "setting_codes = [standard_words, block_words, difficulty_words, expense_words, expense_words]"
   ]
  },
  {
   "cell_type": "code",
   "execution_count": 143,
   "id": "8a12fb57",
   "metadata": {},
   "outputs": [],
   "source": [
    "# 코드 변경 함수 선언\n",
    "def get_list_setting_column(column, setting_prev_next):\n",
    "    setting_done_list = []\n",
    "    \n",
    "    for code_value in column:\n",
    "        setting_done_list.append(setting_prev_next[code_value])\n",
    "    \n",
    "    return setting_done_list"
   ]
  },
  {
   "cell_type": "code",
   "execution_count": 144,
   "id": "a8633f30",
   "metadata": {},
   "outputs": [],
   "source": [
    "# 코드 변경이 필요한 모든 열에 대해 코드 변경\n",
    "for i, column in enumerate(need_setting_columns):\n",
    "    CS_wordcloud[column] = get_list_setting_column(CS_wordcloud[column], setting_codes[i])"
   ]
  },
  {
   "cell_type": "code",
   "execution_count": 145,
   "id": "d6ba740e",
   "metadata": {},
   "outputs": [
    {
     "data": {
      "text/plain": [
       "standard\n",
       "컨텐츠 및 퀄리티         6542\n",
       "비용                5412\n",
       "접근성               2233\n",
       "교통                2167\n",
       "작가 및 출연진          2036\n",
       "개최 장소의 유명도         866\n",
       "전문가 의견 및 언론보도      470\n",
       "편의시설여부             441\n",
       "주위 의견 및 네티즌 의견     428\n",
       "기타                  29\n",
       "Name: count, dtype: int64"
      ]
     },
     "execution_count": 145,
     "metadata": {},
     "output_type": "execute_result"
    },
    {
     "data": {
      "text/plain": [
       "block\n",
       "시간        5738\n",
       "비용        5401\n",
       "관심도       3468\n",
       "관련정보부족    2087\n",
       "시설부족      1476\n",
       "교통        1277\n",
       "편의시설미비     568\n",
       "친구없음       527\n",
       "기타          82\n",
       "Name: count, dtype: int64"
      ]
     },
     "execution_count": 145,
     "metadata": {},
     "output_type": "execute_result"
    },
    {
     "data": {
      "text/plain": [
       "difficulty\n",
       "시간        6209\n",
       "관심도       4408\n",
       "비용        3511\n",
       "관련정보부족    2977\n",
       "시설부족      1189\n",
       "교통        1030\n",
       "편의시설미비     623\n",
       "친구없음       600\n",
       "기타          77\n",
       "Name: count, dtype: int64"
      ]
     },
     "execution_count": 145,
     "metadata": {},
     "output_type": "execute_result"
    },
    {
     "data": {
      "text/plain": [
       "expense\n",
       "영화        6282\n",
       "연극/뮤지컬    5867\n",
       "해당사항없음    5233\n",
       "대중음악      1307\n",
       "문학         706\n",
       "전통예술       313\n",
       "무용         268\n",
       "전시회        238\n",
       "기타         189\n",
       "서양음악       132\n",
       "미술          89\n",
       "Name: count, dtype: int64"
      ]
     },
     "execution_count": 145,
     "metadata": {},
     "output_type": "execute_result"
    },
    {
     "data": {
      "text/plain": [
       "expense_f\n",
       "연극/뮤지컬    6617\n",
       "영화        5164\n",
       "대중음악      2731\n",
       "해당사항없음    1801\n",
       "문학         876\n",
       "전통예술       875\n",
       "무용         853\n",
       "전시회        745\n",
       "기타         459\n",
       "서양음악       374\n",
       "미술         129\n",
       "Name: count, dtype: int64"
      ]
     },
     "execution_count": 145,
     "metadata": {},
     "output_type": "execute_result"
    }
   ],
   "source": [
    "# 코드값 변경이 필요한 열들의 변경 후 빈도값 출력\n",
    "for column in need_setting_columns:\n",
    "    CS_wordcloud[column].value_counts(ascending=False)"
   ]
  },
  {
   "cell_type": "markdown",
   "id": "c424376b",
   "metadata": {},
   "source": [
    "## 숫자 코드 --> 문자 기준으로 바꾼 결과\n",
    "- 바뀐 데이터프레임 확인\n",
    "- 각 열에 해당하는 시리즈를 딕셔너리로 변환"
   ]
  },
  {
   "cell_type": "code",
   "execution_count": 146,
   "id": "9844e31c",
   "metadata": {},
   "outputs": [
    {
     "data": {
      "text/html": [
       "<div>\n",
       "<style scoped>\n",
       "    .dataframe tbody tr th:only-of-type {\n",
       "        vertical-align: middle;\n",
       "    }\n",
       "\n",
       "    .dataframe tbody tr th {\n",
       "        vertical-align: top;\n",
       "    }\n",
       "\n",
       "    .dataframe thead th {\n",
       "        text-align: right;\n",
       "    }\n",
       "</style>\n",
       "<table border=\"1\" class=\"dataframe\">\n",
       "  <thead>\n",
       "    <tr style=\"text-align: right;\">\n",
       "      <th></th>\n",
       "      <th>standard</th>\n",
       "      <th>block</th>\n",
       "      <th>difficulty</th>\n",
       "      <th>expense</th>\n",
       "      <th>expense_f</th>\n",
       "    </tr>\n",
       "  </thead>\n",
       "  <tbody>\n",
       "    <tr>\n",
       "      <th>0</th>\n",
       "      <td>컨텐츠 및 퀄리티</td>\n",
       "      <td>비용</td>\n",
       "      <td>관심도</td>\n",
       "      <td>영화</td>\n",
       "      <td>영화</td>\n",
       "    </tr>\n",
       "    <tr>\n",
       "      <th>1</th>\n",
       "      <td>비용</td>\n",
       "      <td>관련정보부족</td>\n",
       "      <td>비용</td>\n",
       "      <td>영화</td>\n",
       "      <td>전시회</td>\n",
       "    </tr>\n",
       "    <tr>\n",
       "      <th>2</th>\n",
       "      <td>비용</td>\n",
       "      <td>비용</td>\n",
       "      <td>비용</td>\n",
       "      <td>대중음악</td>\n",
       "      <td>대중음악</td>\n",
       "    </tr>\n",
       "    <tr>\n",
       "      <th>3</th>\n",
       "      <td>컨텐츠 및 퀄리티</td>\n",
       "      <td>시간</td>\n",
       "      <td>교통</td>\n",
       "      <td>영화</td>\n",
       "      <td>영화</td>\n",
       "    </tr>\n",
       "    <tr>\n",
       "      <th>4</th>\n",
       "      <td>비용</td>\n",
       "      <td>비용</td>\n",
       "      <td>교통</td>\n",
       "      <td>영화</td>\n",
       "      <td>영화</td>\n",
       "    </tr>\n",
       "    <tr>\n",
       "      <th>...</th>\n",
       "      <td>...</td>\n",
       "      <td>...</td>\n",
       "      <td>...</td>\n",
       "      <td>...</td>\n",
       "      <td>...</td>\n",
       "    </tr>\n",
       "    <tr>\n",
       "      <th>20619</th>\n",
       "      <td>개최 장소의 유명도</td>\n",
       "      <td>관심도</td>\n",
       "      <td>관련정보부족</td>\n",
       "      <td>연극/뮤지컬</td>\n",
       "      <td>연극/뮤지컬</td>\n",
       "    </tr>\n",
       "    <tr>\n",
       "      <th>20620</th>\n",
       "      <td>컨텐츠 및 퀄리티</td>\n",
       "      <td>시간</td>\n",
       "      <td>시간</td>\n",
       "      <td>연극/뮤지컬</td>\n",
       "      <td>연극/뮤지컬</td>\n",
       "    </tr>\n",
       "    <tr>\n",
       "      <th>20621</th>\n",
       "      <td>컨텐츠 및 퀄리티</td>\n",
       "      <td>시간</td>\n",
       "      <td>시간</td>\n",
       "      <td>해당사항없음</td>\n",
       "      <td>연극/뮤지컬</td>\n",
       "    </tr>\n",
       "    <tr>\n",
       "      <th>20622</th>\n",
       "      <td>컨텐츠 및 퀄리티</td>\n",
       "      <td>시간</td>\n",
       "      <td>시간</td>\n",
       "      <td>연극/뮤지컬</td>\n",
       "      <td>연극/뮤지컬</td>\n",
       "    </tr>\n",
       "    <tr>\n",
       "      <th>20623</th>\n",
       "      <td>개최 장소의 유명도</td>\n",
       "      <td>시간</td>\n",
       "      <td>시간</td>\n",
       "      <td>연극/뮤지컬</td>\n",
       "      <td>대중음악</td>\n",
       "    </tr>\n",
       "  </tbody>\n",
       "</table>\n",
       "<p>20624 rows × 5 columns</p>\n",
       "</div>"
      ],
      "text/plain": [
       "         standard   block difficulty expense expense_f\n",
       "0       컨텐츠 및 퀄리티      비용        관심도      영화        영화\n",
       "1              비용  관련정보부족         비용      영화       전시회\n",
       "2              비용      비용         비용    대중음악      대중음악\n",
       "3       컨텐츠 및 퀄리티      시간         교통      영화        영화\n",
       "4              비용      비용         교통      영화        영화\n",
       "...           ...     ...        ...     ...       ...\n",
       "20619  개최 장소의 유명도     관심도     관련정보부족  연극/뮤지컬    연극/뮤지컬\n",
       "20620   컨텐츠 및 퀄리티      시간         시간  연극/뮤지컬    연극/뮤지컬\n",
       "20621   컨텐츠 및 퀄리티      시간         시간  해당사항없음    연극/뮤지컬\n",
       "20622   컨텐츠 및 퀄리티      시간         시간  연극/뮤지컬    연극/뮤지컬\n",
       "20623  개최 장소의 유명도      시간         시간  연극/뮤지컬      대중음악\n",
       "\n",
       "[20624 rows x 5 columns]"
      ]
     },
     "execution_count": 146,
     "metadata": {},
     "output_type": "execute_result"
    }
   ],
   "source": [
    "CS_wordcloud"
   ]
  },
  {
   "cell_type": "code",
   "execution_count": 148,
   "id": "463b604b",
   "metadata": {},
   "outputs": [
    {
     "data": {
      "text/plain": [
       "{'컨텐츠 및 퀄리티': 6542,\n",
       " '비용': 5412,\n",
       " '접근성': 2233,\n",
       " '교통': 2167,\n",
       " '작가 및 출연진': 2036,\n",
       " '개최 장소의 유명도': 866,\n",
       " '전문가 의견 및 언론보도': 470,\n",
       " '편의시설여부': 441,\n",
       " '주위 의견 및 네티즌 의견': 428,\n",
       " '기타': 29}"
      ]
     },
     "execution_count": 148,
     "metadata": {},
     "output_type": "execute_result"
    },
    {
     "data": {
      "text/plain": [
       "{'시간': 5738,\n",
       " '비용': 5401,\n",
       " '관심도': 3468,\n",
       " '관련정보부족': 2087,\n",
       " '시설부족': 1476,\n",
       " '교통': 1277,\n",
       " '편의시설미비': 568,\n",
       " '친구없음': 527,\n",
       " '기타': 82}"
      ]
     },
     "execution_count": 148,
     "metadata": {},
     "output_type": "execute_result"
    },
    {
     "data": {
      "text/plain": [
       "{'시간': 6209,\n",
       " '관심도': 4408,\n",
       " '비용': 3511,\n",
       " '관련정보부족': 2977,\n",
       " '시설부족': 1189,\n",
       " '교통': 1030,\n",
       " '편의시설미비': 623,\n",
       " '친구없음': 600,\n",
       " '기타': 77}"
      ]
     },
     "execution_count": 148,
     "metadata": {},
     "output_type": "execute_result"
    },
    {
     "data": {
      "text/plain": [
       "{'영화': 6282,\n",
       " '연극/뮤지컬': 5867,\n",
       " '해당사항없음': 5233,\n",
       " '대중음악': 1307,\n",
       " '문학': 706,\n",
       " '전통예술': 313,\n",
       " '무용': 268,\n",
       " '전시회': 238,\n",
       " '기타': 189,\n",
       " '서양음악': 132,\n",
       " '미술': 89}"
      ]
     },
     "execution_count": 148,
     "metadata": {},
     "output_type": "execute_result"
    },
    {
     "data": {
      "text/plain": [
       "{'연극/뮤지컬': 6617,\n",
       " '영화': 5164,\n",
       " '대중음악': 2731,\n",
       " '해당사항없음': 1801,\n",
       " '문학': 876,\n",
       " '전통예술': 875,\n",
       " '무용': 853,\n",
       " '전시회': 745,\n",
       " '기타': 459,\n",
       " '서양음악': 374,\n",
       " '미술': 129}"
      ]
     },
     "execution_count": 148,
     "metadata": {},
     "output_type": "execute_result"
    }
   ],
   "source": [
    "# {'기준' : 개수} 로 딕셔너리 생성\n",
    "\n",
    "standard_dict = CS_wordcloud['standard'].value_counts(ascending=False).to_dict()\n",
    "block_dict = CS_wordcloud['block'].value_counts(ascending=False).to_dict()\n",
    "difficulty_dict = CS_wordcloud['difficulty'].value_counts(ascending=False).to_dict()\n",
    "expense_dict = CS_wordcloud['expense'].value_counts(ascending=False).to_dict()\n",
    "expense_f_dict = CS_wordcloud['expense_f'].value_counts(ascending=False).to_dict()\n",
    "\n",
    "standard_dict\n",
    "block_dict\n",
    "difficulty_dict\n",
    "expense_dict\n",
    "expense_f_dict"
   ]
  },
  {
   "cell_type": "markdown",
   "id": "add9d0ae",
   "metadata": {},
   "source": [
    "## 최종 워드클라우드 생성"
   ]
  },
  {
   "cell_type": "code",
   "execution_count": 123,
   "id": "352c2354",
   "metadata": {},
   "outputs": [],
   "source": [
    "# standard_dict 워드클라우드 생성\n",
    "wordcloud = WordCloud(\n",
    "    font_path = 'malgun.ttf', # 한글 글씨체 설정\n",
    "    background_color='white', # 배경색은 흰색으로 \n",
    "    colormap='ocean', # 글씨색\n",
    "    mask=cand_mask, # 워드클라우드 모양 설정\n",
    ").generate_from_frequencies(standard_dict)"
   ]
  },
  {
   "cell_type": "code",
   "execution_count": 124,
   "id": "77645a54",
   "metadata": {},
   "outputs": [
    {
     "data": {
      "text/plain": [
       "<Figure size 500x500 with 0 Axes>"
      ]
     },
     "execution_count": 124,
     "metadata": {},
     "output_type": "execute_result"
    },
    {
     "data": {
      "text/plain": [
       "<matplotlib.image.AxesImage at 0x1256ba530>"
      ]
     },
     "execution_count": 124,
     "metadata": {},
     "output_type": "execute_result"
    },
    {
     "data": {
      "text/plain": [
       "(-0.5, 400.5, 389.5, -0.5)"
      ]
     },
     "execution_count": 124,
     "metadata": {},
     "output_type": "execute_result"
    },
    {
     "data": {
      "image/png": "[encoded data removed]",
      "text/plain": [
       "<Figure size 500x500 with 1 Axes>"
      ]
     },
     "metadata": {},
     "output_type": "display_data"
    }
   ],
   "source": [
    "# 워드클라우드 출력\n",
    "# 사이즈 설정\n",
    "plt.figure(figsize=(5,5))\n",
    "plt.imshow(wordcloud, interpolation='bilinear')\n",
    "plt.axis('off') # 차트로 나오지 않게\n",
    "\n",
    "# 워드클라우드 이미지 저장\n",
    "# plt.savefig('test.png')"
   ]
  },
  {
   "cell_type": "code",
   "execution_count": 167,
   "id": "c7314bdf",
   "metadata": {},
   "outputs": [],
   "source": [
    "# block_dict 워드클라우드 생성\n",
    "wordcloud = WordCloud(\n",
    "    font_path = 'malgun.ttf', # 한글 글씨체 설정\n",
    "    background_color='white', # 배경색은 흰색으로 \n",
    "    colormap='Reds', # 글씨색\n",
    "    mask=cand_mask, # 워드클라우드 모양 설정\n",
    ").generate_from_frequencies(block_dict)"
   ]
  },
  {
   "cell_type": "code",
   "execution_count": 168,
   "id": "804251bb",
   "metadata": {},
   "outputs": [
    {
     "data": {
      "text/plain": [
       "<Figure size 500x500 with 0 Axes>"
      ]
     },
     "execution_count": 168,
     "metadata": {},
     "output_type": "execute_result"
    },
    {
     "data": {
      "text/plain": [
       "<matplotlib.image.AxesImage at 0x125972dd0>"
      ]
     },
     "execution_count": 168,
     "metadata": {},
     "output_type": "execute_result"
    },
    {
     "data": {
      "text/plain": [
       "(-0.5, 400.5, 389.5, -0.5)"
      ]
     },
     "execution_count": 168,
     "metadata": {},
     "output_type": "execute_result"
    },
    {
     "data": {
      "image/png": "[encoded data removed]",
      "text/plain": [
       "<Figure size 500x500 with 1 Axes>"
      ]
     },
     "metadata": {},
     "output_type": "display_data"
    }
   ],
   "source": [
    "# 워드클라우드 출력\n",
    "# 사이즈 설정\n",
    "plt.figure(figsize=(5,5))\n",
    "plt.imshow(wordcloud, interpolation='bilinear')\n",
    "plt.axis('off') # 차트로 나오지 않게\n",
    "\n",
    "# 워드클라우드 이미지 저장\n",
    "# plt.savefig('test.png')"
   ]
  },
  {
   "cell_type": "code",
   "execution_count": 127,
   "id": "f4fdf9d1",
   "metadata": {},
   "outputs": [],
   "source": [
    "# difficulty_dict 워드클라우드 생성\n",
    "wordcloud = WordCloud(\n",
    "    font_path = 'malgun.ttf', # 한글 글씨체 설정\n",
    "    background_color='white', # 배경색은 흰색으로 \n",
    "    colormap='Blues', # 글씨색\n",
    "    mask=cand_mask, # 워드클라우드 모양 설정\n",
    ").generate_from_frequencies(difficulty_dict)"
   ]
  },
  {
   "cell_type": "code",
   "execution_count": 128,
   "id": "6b69d213",
   "metadata": {},
   "outputs": [
    {
     "data": {
      "text/plain": [
       "<Figure size 500x500 with 0 Axes>"
      ]
     },
     "execution_count": 128,
     "metadata": {},
     "output_type": "execute_result"
    },
    {
     "data": {
      "text/plain": [
       "<matplotlib.image.AxesImage at 0x1258036a0>"
      ]
     },
     "execution_count": 128,
     "metadata": {},
     "output_type": "execute_result"
    },
    {
     "data": {
      "text/plain": [
       "(-0.5, 400.5, 389.5, -0.5)"
      ]
     },
     "execution_count": 128,
     "metadata": {},
     "output_type": "execute_result"
    },
    {
     "data": {
      "image/png": "[encoded data removed]",
      "text/plain": [
       "<Figure size 500x500 with 1 Axes>"
      ]
     },
     "metadata": {},
     "output_type": "display_data"
    }
   ],
   "source": [
    "# 워드클라우드 출력\n",
    "# 사이즈 설정\n",
    "plt.figure(figsize=(5,5))\n",
    "plt.imshow(wordcloud, interpolation='bilinear')\n",
    "plt.axis('off') # 차트로 나오지 않게\n",
    "\n",
    "# 워드클라우드 이미지 저장\n",
    "# plt.savefig('test.png')"
   ]
  },
  {
   "cell_type": "code",
   "execution_count": 169,
   "id": "5f4359b6",
   "metadata": {},
   "outputs": [],
   "source": [
    "# 딕셔너리에 '해당사항없음' value 제거\n",
    "del expense_dict['해당사항없음']"
   ]
  },
  {
   "cell_type": "code",
   "execution_count": 170,
   "id": "894fbed6",
   "metadata": {},
   "outputs": [],
   "source": [
    "# expense_dict 워드클라우드 생성\n",
    "wordcloud = WordCloud(\n",
    "    font_path = 'malgun.ttf', # 한글 글씨체 설정\n",
    "    background_color='white', # 배경색은 흰색으로 \n",
    "    colormap='Reds', # 글씨색\n",
    "    mask=cand_mask, # 워드클라우드 모양 설정\n",
    ").generate_from_frequencies(expense_dict)"
   ]
  },
  {
   "cell_type": "code",
   "execution_count": 171,
   "id": "6aee7b13",
   "metadata": {},
   "outputs": [
    {
     "data": {
      "text/plain": [
       "<Figure size 500x500 with 0 Axes>"
      ]
     },
     "execution_count": 171,
     "metadata": {},
     "output_type": "execute_result"
    },
    {
     "data": {
      "text/plain": [
       "<matplotlib.image.AxesImage at 0x1258d9240>"
      ]
     },
     "execution_count": 171,
     "metadata": {},
     "output_type": "execute_result"
    },
    {
     "data": {
      "text/plain": [
       "(-0.5, 400.5, 389.5, -0.5)"
      ]
     },
     "execution_count": 171,
     "metadata": {},
     "output_type": "execute_result"
    },
    {
     "data": {
      "image/png": "[encoded data removed]",
      "text/plain": [
       "<Figure size 500x500 with 1 Axes>"
      ]
     },
     "metadata": {},
     "output_type": "display_data"
    }
   ],
   "source": [
    "# 워드클라우드 출력\n",
    "# 사이즈 설정\n",
    "plt.figure(figsize=(5,5))\n",
    "plt.imshow(wordcloud, interpolation='bilinear')\n",
    "plt.axis('off') # 차트로 나오지 않게\n",
    "\n",
    "# 워드클라우드 이미지 저장\n",
    "# plt.savefig('test.png')"
   ]
  },
  {
   "cell_type": "code",
   "execution_count": 172,
   "id": "4b5c41bf",
   "metadata": {},
   "outputs": [],
   "source": [
    "# 딕셔너리에 '해당사항없음' value 제거\n",
    "del expense_f_dict['해당사항없음']"
   ]
  },
  {
   "cell_type": "code",
   "execution_count": 173,
   "id": "2d9c6d0a",
   "metadata": {},
   "outputs": [],
   "source": [
    "# expense_f_dict 워드클라우드 생성\n",
    "wordcloud = WordCloud(\n",
    "    font_path = 'malgun.ttf', # 한글 글씨체 설정\n",
    "    background_color='white', # 배경색은 흰색으로 \n",
    "    colormap='Reds', # 글씨색\n",
    "    mask=cand_mask, # 워드클라우드 모양 설정\n",
    ").generate_from_frequencies(expense_f_dict)"
   ]
  },
  {
   "cell_type": "code",
   "execution_count": 174,
   "id": "0fdee435",
   "metadata": {},
   "outputs": [
    {
     "data": {
      "text/plain": [
       "<Figure size 500x500 with 0 Axes>"
      ]
     },
     "execution_count": 174,
     "metadata": {},
     "output_type": "execute_result"
    },
    {
     "data": {
      "text/plain": [
       "<matplotlib.image.AxesImage at 0x1259d76a0>"
      ]
     },
     "execution_count": 174,
     "metadata": {},
     "output_type": "execute_result"
    },
    {
     "data": {
      "text/plain": [
       "(-0.5, 400.5, 389.5, -0.5)"
      ]
     },
     "execution_count": 174,
     "metadata": {},
     "output_type": "execute_result"
    },
    {
     "data": {
      "image/png": "[encoded data removed]",
      "text/plain": [
       "<Figure size 500x500 with 1 Axes>"
      ]
     },
     "metadata": {},
     "output_type": "display_data"
    }
   ],
   "source": [
    "# 워드클라우드 출력\n",
    "# 사이즈 설정\n",
    "plt.figure(figsize=(5,5))\n",
    "plt.imshow(wordcloud, interpolation='bilinear')\n",
    "plt.axis('off') # 차트로 나오지 않게\n",
    "\n",
    "# 워드클라우드 이미지 저장\n",
    "# plt.savefig('test.png')"
   ]
  },
  {
   "cell_type": "markdown",
   "id": "c869a772",
   "metadata": {},
   "source": [
    "## 연령대별 (시니어) 필터링 후 워드클라우드 진행"
   ]
  },
  {
   "cell_type": "code",
   "execution_count": 180,
   "id": "4bd013ff",
   "metadata": {},
   "outputs": [
    {
     "data": {
      "text/html": [
       "<div>\n",
       "<style scoped>\n",
       "    .dataframe tbody tr th:only-of-type {\n",
       "        vertical-align: middle;\n",
       "    }\n",
       "\n",
       "    .dataframe tbody tr th {\n",
       "        vertical-align: top;\n",
       "    }\n",
       "\n",
       "    .dataframe thead th {\n",
       "        text-align: right;\n",
       "    }\n",
       "</style>\n",
       "<table border=\"1\" class=\"dataframe\">\n",
       "  <thead>\n",
       "    <tr style=\"text-align: right;\">\n",
       "      <th></th>\n",
       "      <th>view_cnt</th>\n",
       "      <th>where_cnt</th>\n",
       "      <th>attend_cnt</th>\n",
       "      <th>volunteer_cnt</th>\n",
       "      <th>history_cnt</th>\n",
       "      <th>festival_cnt</th>\n",
       "      <th>standard</th>\n",
       "      <th>block</th>\n",
       "      <th>expense</th>\n",
       "      <th>expense_f</th>\n",
       "      <th>...</th>\n",
       "      <th>festival</th>\n",
       "      <th>festival_f</th>\n",
       "      <th>sex</th>\n",
       "      <th>age</th>\n",
       "      <th>education</th>\n",
       "      <th>married</th>\n",
       "      <th>work</th>\n",
       "      <th>income</th>\n",
       "      <th>sido</th>\n",
       "      <th>disabled</th>\n",
       "    </tr>\n",
       "  </thead>\n",
       "  <tbody>\n",
       "    <tr>\n",
       "      <th>0</th>\n",
       "      <td>49</td>\n",
       "      <td>0</td>\n",
       "      <td>0</td>\n",
       "      <td>0</td>\n",
       "      <td>5</td>\n",
       "      <td>0</td>\n",
       "      <td>1</td>\n",
       "      <td>1</td>\n",
       "      <td>14</td>\n",
       "      <td>14</td>\n",
       "      <td>...</td>\n",
       "      <td>2</td>\n",
       "      <td>6</td>\n",
       "      <td>2</td>\n",
       "      <td>5</td>\n",
       "      <td>3</td>\n",
       "      <td>1</td>\n",
       "      <td>5</td>\n",
       "      <td>3</td>\n",
       "      <td>1</td>\n",
       "      <td>1</td>\n",
       "    </tr>\n",
       "    <tr>\n",
       "      <th>1</th>\n",
       "      <td>3</td>\n",
       "      <td>3</td>\n",
       "      <td>3</td>\n",
       "      <td>0</td>\n",
       "      <td>1</td>\n",
       "      <td>0</td>\n",
       "      <td>2</td>\n",
       "      <td>6</td>\n",
       "      <td>14</td>\n",
       "      <td>9</td>\n",
       "      <td>...</td>\n",
       "      <td>2</td>\n",
       "      <td>7</td>\n",
       "      <td>2</td>\n",
       "      <td>5</td>\n",
       "      <td>3</td>\n",
       "      <td>2</td>\n",
       "      <td>5</td>\n",
       "      <td>7</td>\n",
       "      <td>1</td>\n",
       "      <td>1</td>\n",
       "    </tr>\n",
       "    <tr>\n",
       "      <th>6</th>\n",
       "      <td>22</td>\n",
       "      <td>15</td>\n",
       "      <td>0</td>\n",
       "      <td>0</td>\n",
       "      <td>0</td>\n",
       "      <td>0</td>\n",
       "      <td>2</td>\n",
       "      <td>2</td>\n",
       "      <td>14</td>\n",
       "      <td>14</td>\n",
       "      <td>...</td>\n",
       "      <td>2</td>\n",
       "      <td>5</td>\n",
       "      <td>2</td>\n",
       "      <td>5</td>\n",
       "      <td>4</td>\n",
       "      <td>3</td>\n",
       "      <td>1</td>\n",
       "      <td>5</td>\n",
       "      <td>1</td>\n",
       "      <td>1</td>\n",
       "    </tr>\n",
       "    <tr>\n",
       "      <th>7</th>\n",
       "      <td>10</td>\n",
       "      <td>0</td>\n",
       "      <td>0</td>\n",
       "      <td>0</td>\n",
       "      <td>2</td>\n",
       "      <td>2</td>\n",
       "      <td>2</td>\n",
       "      <td>4</td>\n",
       "      <td>17</td>\n",
       "      <td>11</td>\n",
       "      <td>...</td>\n",
       "      <td>1</td>\n",
       "      <td>6</td>\n",
       "      <td>1</td>\n",
       "      <td>5</td>\n",
       "      <td>4</td>\n",
       "      <td>2</td>\n",
       "      <td>1</td>\n",
       "      <td>6</td>\n",
       "      <td>1</td>\n",
       "      <td>1</td>\n",
       "    </tr>\n",
       "    <tr>\n",
       "      <th>9</th>\n",
       "      <td>7</td>\n",
       "      <td>0</td>\n",
       "      <td>0</td>\n",
       "      <td>0</td>\n",
       "      <td>0</td>\n",
       "      <td>0</td>\n",
       "      <td>3</td>\n",
       "      <td>2</td>\n",
       "      <td>15</td>\n",
       "      <td>12</td>\n",
       "      <td>...</td>\n",
       "      <td>2</td>\n",
       "      <td>5</td>\n",
       "      <td>2</td>\n",
       "      <td>5</td>\n",
       "      <td>3</td>\n",
       "      <td>2</td>\n",
       "      <td>1</td>\n",
       "      <td>5</td>\n",
       "      <td>1</td>\n",
       "      <td>1</td>\n",
       "    </tr>\n",
       "    <tr>\n",
       "      <th>...</th>\n",
       "      <td>...</td>\n",
       "      <td>...</td>\n",
       "      <td>...</td>\n",
       "      <td>...</td>\n",
       "      <td>...</td>\n",
       "      <td>...</td>\n",
       "      <td>...</td>\n",
       "      <td>...</td>\n",
       "      <td>...</td>\n",
       "      <td>...</td>\n",
       "      <td>...</td>\n",
       "      <td>...</td>\n",
       "      <td>...</td>\n",
       "      <td>...</td>\n",
       "      <td>...</td>\n",
       "      <td>...</td>\n",
       "      <td>...</td>\n",
       "      <td>...</td>\n",
       "      <td>...</td>\n",
       "      <td>...</td>\n",
       "      <td>...</td>\n",
       "    </tr>\n",
       "    <tr>\n",
       "      <th>20611</th>\n",
       "      <td>10</td>\n",
       "      <td>1</td>\n",
       "      <td>0</td>\n",
       "      <td>0</td>\n",
       "      <td>0</td>\n",
       "      <td>0</td>\n",
       "      <td>1</td>\n",
       "      <td>2</td>\n",
       "      <td>1</td>\n",
       "      <td>12</td>\n",
       "      <td>...</td>\n",
       "      <td>2</td>\n",
       "      <td>5</td>\n",
       "      <td>1</td>\n",
       "      <td>5</td>\n",
       "      <td>3</td>\n",
       "      <td>3</td>\n",
       "      <td>1</td>\n",
       "      <td>4</td>\n",
       "      <td>4</td>\n",
       "      <td>3</td>\n",
       "    </tr>\n",
       "    <tr>\n",
       "      <th>20613</th>\n",
       "      <td>45</td>\n",
       "      <td>0</td>\n",
       "      <td>0</td>\n",
       "      <td>0</td>\n",
       "      <td>3</td>\n",
       "      <td>0</td>\n",
       "      <td>9</td>\n",
       "      <td>3</td>\n",
       "      <td>17</td>\n",
       "      <td>15</td>\n",
       "      <td>...</td>\n",
       "      <td>2</td>\n",
       "      <td>4</td>\n",
       "      <td>2</td>\n",
       "      <td>6</td>\n",
       "      <td>2</td>\n",
       "      <td>2</td>\n",
       "      <td>5</td>\n",
       "      <td>6</td>\n",
       "      <td>3</td>\n",
       "      <td>1</td>\n",
       "    </tr>\n",
       "    <tr>\n",
       "      <th>20616</th>\n",
       "      <td>35</td>\n",
       "      <td>7</td>\n",
       "      <td>0</td>\n",
       "      <td>0</td>\n",
       "      <td>1</td>\n",
       "      <td>0</td>\n",
       "      <td>1</td>\n",
       "      <td>2</td>\n",
       "      <td>1</td>\n",
       "      <td>12</td>\n",
       "      <td>...</td>\n",
       "      <td>2</td>\n",
       "      <td>6</td>\n",
       "      <td>1</td>\n",
       "      <td>5</td>\n",
       "      <td>4</td>\n",
       "      <td>2</td>\n",
       "      <td>3</td>\n",
       "      <td>6</td>\n",
       "      <td>4</td>\n",
       "      <td>1</td>\n",
       "    </tr>\n",
       "    <tr>\n",
       "      <th>20618</th>\n",
       "      <td>7</td>\n",
       "      <td>2</td>\n",
       "      <td>0</td>\n",
       "      <td>0</td>\n",
       "      <td>4</td>\n",
       "      <td>0</td>\n",
       "      <td>1</td>\n",
       "      <td>2</td>\n",
       "      <td>16</td>\n",
       "      <td>16</td>\n",
       "      <td>...</td>\n",
       "      <td>2</td>\n",
       "      <td>5</td>\n",
       "      <td>2</td>\n",
       "      <td>5</td>\n",
       "      <td>3</td>\n",
       "      <td>2</td>\n",
       "      <td>3</td>\n",
       "      <td>6</td>\n",
       "      <td>1</td>\n",
       "      <td>1</td>\n",
       "    </tr>\n",
       "    <tr>\n",
       "      <th>20621</th>\n",
       "      <td>4</td>\n",
       "      <td>0</td>\n",
       "      <td>0</td>\n",
       "      <td>0</td>\n",
       "      <td>0</td>\n",
       "      <td>0</td>\n",
       "      <td>1</td>\n",
       "      <td>2</td>\n",
       "      <td>17</td>\n",
       "      <td>12</td>\n",
       "      <td>...</td>\n",
       "      <td>2</td>\n",
       "      <td>4</td>\n",
       "      <td>1</td>\n",
       "      <td>5</td>\n",
       "      <td>4</td>\n",
       "      <td>2</td>\n",
       "      <td>2</td>\n",
       "      <td>6</td>\n",
       "      <td>1</td>\n",
       "      <td>1</td>\n",
       "    </tr>\n",
       "  </tbody>\n",
       "</table>\n",
       "<p>6727 rows × 24 columns</p>\n",
       "</div>"
      ],
      "text/plain": [
       "       view_cnt  where_cnt  attend_cnt  volunteer_cnt  history_cnt   \n",
       "0            49          0           0              0            5  \\\n",
       "1             3          3           3              0            1   \n",
       "6            22         15           0              0            0   \n",
       "7            10          0           0              0            2   \n",
       "9             7          0           0              0            0   \n",
       "...         ...        ...         ...            ...          ...   \n",
       "20611        10          1           0              0            0   \n",
       "20613        45          0           0              0            3   \n",
       "20616        35          7           0              0            1   \n",
       "20618         7          2           0              0            4   \n",
       "20621         4          0           0              0            0   \n",
       "\n",
       "       festival_cnt  standard  block  expense  expense_f  ...  festival   \n",
       "0                 0         1      1       14         14  ...         2  \\\n",
       "1                 0         2      6       14          9  ...         2   \n",
       "6                 0         2      2       14         14  ...         2   \n",
       "7                 2         2      4       17         11  ...         1   \n",
       "9                 0         3      2       15         12  ...         2   \n",
       "...             ...       ...    ...      ...        ...  ...       ...   \n",
       "20611             0         1      2        1         12  ...         2   \n",
       "20613             0         9      3       17         15  ...         2   \n",
       "20616             0         1      2        1         12  ...         2   \n",
       "20618             0         1      2       16         16  ...         2   \n",
       "20621             0         1      2       17         12  ...         2   \n",
       "\n",
       "       festival_f  sex  age  education  married  work  income  sido  disabled  \n",
       "0               6    2    5          3        1     5       3     1         1  \n",
       "1               7    2    5          3        2     5       7     1         1  \n",
       "6               5    2    5          4        3     1       5     1         1  \n",
       "7               6    1    5          4        2     1       6     1         1  \n",
       "9               5    2    5          3        2     1       5     1         1  \n",
       "...           ...  ...  ...        ...      ...   ...     ...   ...       ...  \n",
       "20611           5    1    5          3        3     1       4     4         3  \n",
       "20613           4    2    6          2        2     5       6     3         1  \n",
       "20616           6    1    5          4        2     3       6     4         1  \n",
       "20618           5    2    5          3        2     3       6     1         1  \n",
       "20621           4    1    5          4        2     2       6     1         1  \n",
       "\n",
       "[6727 rows x 24 columns]"
      ]
     },
     "execution_count": 180,
     "metadata": {},
     "output_type": "execute_result"
    }
   ],
   "source": [
    "# 연령대별 필터링 데이터프레임\n",
    "CS_senior = CS.copy()\n",
    "CS_senior = CS_senior[(CS_senior.age == 5) | (CS_senior.age ==6)]\n",
    "\n",
    "CS_senior"
   ]
  },
  {
   "cell_type": "code",
   "execution_count": 181,
   "id": "b407f1d1",
   "metadata": {},
   "outputs": [
    {
     "data": {
      "text/html": [
       "<div>\n",
       "<style scoped>\n",
       "    .dataframe tbody tr th:only-of-type {\n",
       "        vertical-align: middle;\n",
       "    }\n",
       "\n",
       "    .dataframe tbody tr th {\n",
       "        vertical-align: top;\n",
       "    }\n",
       "\n",
       "    .dataframe thead th {\n",
       "        text-align: right;\n",
       "    }\n",
       "</style>\n",
       "<table border=\"1\" class=\"dataframe\">\n",
       "  <thead>\n",
       "    <tr style=\"text-align: right;\">\n",
       "      <th></th>\n",
       "      <th>standard</th>\n",
       "      <th>block</th>\n",
       "      <th>difficulty</th>\n",
       "      <th>expense</th>\n",
       "      <th>expense_f</th>\n",
       "    </tr>\n",
       "  </thead>\n",
       "  <tbody>\n",
       "    <tr>\n",
       "      <th>0</th>\n",
       "      <td>1</td>\n",
       "      <td>1</td>\n",
       "      <td>3</td>\n",
       "      <td>14</td>\n",
       "      <td>14</td>\n",
       "    </tr>\n",
       "    <tr>\n",
       "      <th>1</th>\n",
       "      <td>2</td>\n",
       "      <td>6</td>\n",
       "      <td>1</td>\n",
       "      <td>14</td>\n",
       "      <td>9</td>\n",
       "    </tr>\n",
       "    <tr>\n",
       "      <th>6</th>\n",
       "      <td>2</td>\n",
       "      <td>2</td>\n",
       "      <td>5</td>\n",
       "      <td>14</td>\n",
       "      <td>14</td>\n",
       "    </tr>\n",
       "    <tr>\n",
       "      <th>7</th>\n",
       "      <td>2</td>\n",
       "      <td>4</td>\n",
       "      <td>2</td>\n",
       "      <td>17</td>\n",
       "      <td>11</td>\n",
       "    </tr>\n",
       "    <tr>\n",
       "      <th>9</th>\n",
       "      <td>3</td>\n",
       "      <td>2</td>\n",
       "      <td>2</td>\n",
       "      <td>15</td>\n",
       "      <td>12</td>\n",
       "    </tr>\n",
       "    <tr>\n",
       "      <th>...</th>\n",
       "      <td>...</td>\n",
       "      <td>...</td>\n",
       "      <td>...</td>\n",
       "      <td>...</td>\n",
       "      <td>...</td>\n",
       "    </tr>\n",
       "    <tr>\n",
       "      <th>20611</th>\n",
       "      <td>1</td>\n",
       "      <td>2</td>\n",
       "      <td>2</td>\n",
       "      <td>1</td>\n",
       "      <td>12</td>\n",
       "    </tr>\n",
       "    <tr>\n",
       "      <th>20613</th>\n",
       "      <td>9</td>\n",
       "      <td>3</td>\n",
       "      <td>1</td>\n",
       "      <td>17</td>\n",
       "      <td>15</td>\n",
       "    </tr>\n",
       "    <tr>\n",
       "      <th>20616</th>\n",
       "      <td>1</td>\n",
       "      <td>2</td>\n",
       "      <td>2</td>\n",
       "      <td>1</td>\n",
       "      <td>12</td>\n",
       "    </tr>\n",
       "    <tr>\n",
       "      <th>20618</th>\n",
       "      <td>1</td>\n",
       "      <td>2</td>\n",
       "      <td>2</td>\n",
       "      <td>16</td>\n",
       "      <td>16</td>\n",
       "    </tr>\n",
       "    <tr>\n",
       "      <th>20621</th>\n",
       "      <td>1</td>\n",
       "      <td>2</td>\n",
       "      <td>2</td>\n",
       "      <td>17</td>\n",
       "      <td>12</td>\n",
       "    </tr>\n",
       "  </tbody>\n",
       "</table>\n",
       "<p>6727 rows × 5 columns</p>\n",
       "</div>"
      ],
      "text/plain": [
       "       standard  block  difficulty  expense  expense_f\n",
       "0             1      1           3       14         14\n",
       "1             2      6           1       14          9\n",
       "6             2      2           5       14         14\n",
       "7             2      4           2       17         11\n",
       "9             3      2           2       15         12\n",
       "...         ...    ...         ...      ...        ...\n",
       "20611         1      2           2        1         12\n",
       "20613         9      3           1       17         15\n",
       "20616         1      2           2        1         12\n",
       "20618         1      2           2       16         16\n",
       "20621         1      2           2       17         12\n",
       "\n",
       "[6727 rows x 5 columns]"
      ]
     },
     "execution_count": 181,
     "metadata": {},
     "output_type": "execute_result"
    }
   ],
   "source": [
    "# 5가지 열만 사용\n",
    "CS_senior = CS_senior[['standard', 'block', 'difficulty', 'expense', 'expense_f']]\n",
    "CS_senior"
   ]
  },
  {
   "cell_type": "code",
   "execution_count": 182,
   "id": "a348a4e0",
   "metadata": {},
   "outputs": [
    {
     "data": {
      "text/plain": [
       "standard\n",
       "1     1977\n",
       "2     1866\n",
       "9      845\n",
       "5      747\n",
       "3      637\n",
       "4      264\n",
       "7      159\n",
       "6      118\n",
       "8      102\n",
       "10      12\n",
       "Name: count, dtype: int64"
      ]
     },
     "execution_count": 182,
     "metadata": {},
     "output_type": "execute_result"
    },
    {
     "data": {
      "text/plain": [
       "block\n",
       "2    2010\n",
       "1    1597\n",
       "3    1161\n",
       "6     755\n",
       "8     467\n",
       "4     400\n",
       "7     205\n",
       "5     118\n",
       "9      14\n",
       "Name: count, dtype: int64"
      ]
     },
     "execution_count": 182,
     "metadata": {},
     "output_type": "execute_result"
    },
    {
     "data": {
      "text/plain": [
       "difficulty\n",
       "2    2106\n",
       "3    1447\n",
       "1    1062\n",
       "6     994\n",
       "8     382\n",
       "4     309\n",
       "7     216\n",
       "5     186\n",
       "9      25\n",
       "Name: count, dtype: int64"
      ]
     },
     "execution_count": 182,
     "metadata": {},
     "output_type": "execute_result"
    },
    {
     "data": {
      "text/plain": [
       "expense\n",
       "17    2340\n",
       "14    1575\n",
       "12    1226\n",
       "5      306\n",
       "15     276\n",
       "8      222\n",
       "1      170\n",
       "7      170\n",
       "11     121\n",
       "9       86\n",
       "16      73\n",
       "13      39\n",
       "10      31\n",
       "2       30\n",
       "3       25\n",
       "4       22\n",
       "6       15\n",
       "Name: count, dtype: int64"
      ]
     },
     "execution_count": 182,
     "metadata": {},
     "output_type": "execute_result"
    },
    {
     "data": {
      "text/plain": [
       "expense_f\n",
       "12    1770\n",
       "14    1517\n",
       "15     800\n",
       "17     714\n",
       "11     291\n",
       "9      242\n",
       "1      237\n",
       "5      230\n",
       "8      192\n",
       "16     180\n",
       "13     157\n",
       "7      147\n",
       "10      87\n",
       "6       51\n",
       "4       44\n",
       "2       37\n",
       "3       31\n",
       "Name: count, dtype: int64"
      ]
     },
     "execution_count": 182,
     "metadata": {},
     "output_type": "execute_result"
    }
   ],
   "source": [
    "# 코드값 변경이 필요한 열들의 변경 전 빈도값 출력\n",
    "for column in need_setting_columns:\n",
    "    CS_senior[column].value_counts(ascending=False)"
   ]
  },
  {
   "cell_type": "code",
   "execution_count": 183,
   "id": "7cfc0610",
   "metadata": {},
   "outputs": [],
   "source": [
    "# 위에서 만들어준 딕셔너리 하나의 리스트로 묶기\n",
    "setting_codes = [standard_words, block_words, difficulty_words, expense_words, expense_words]"
   ]
  },
  {
   "cell_type": "code",
   "execution_count": 185,
   "id": "dc67f73f",
   "metadata": {},
   "outputs": [],
   "source": [
    "# 코드 변경이 필요한 모든 열에 대해 코드 변경\n",
    "for i, column in enumerate(need_setting_columns):\n",
    "    CS_senior[column] = get_list_setting_column(CS_senior[column], setting_codes[i])"
   ]
  },
  {
   "cell_type": "code",
   "execution_count": 187,
   "id": "77a1551e",
   "metadata": {},
   "outputs": [
    {
     "data": {
      "text/plain": [
       "standard\n",
       "컨텐츠 및 퀄리티         1977\n",
       "비용                1866\n",
       "접근성                845\n",
       "교통                 747\n",
       "작가 및 출연진           637\n",
       "개최 장소의 유명도         264\n",
       "전문가 의견 및 언론보도      159\n",
       "편의시설여부             118\n",
       "주위 의견 및 네티즌 의견     102\n",
       "기타                  12\n",
       "Name: count, dtype: int64"
      ]
     },
     "execution_count": 187,
     "metadata": {},
     "output_type": "execute_result"
    },
    {
     "data": {
      "text/plain": [
       "block\n",
       "시간        2010\n",
       "비용        1597\n",
       "관심도       1161\n",
       "관련정보부족     755\n",
       "시설부족       467\n",
       "교통         400\n",
       "친구없음       205\n",
       "편의시설미비     118\n",
       "기타          14\n",
       "Name: count, dtype: int64"
      ]
     },
     "execution_count": 187,
     "metadata": {},
     "output_type": "execute_result"
    },
    {
     "data": {
      "text/plain": [
       "difficulty\n",
       "시간        2106\n",
       "관심도       1447\n",
       "비용        1062\n",
       "관련정보부족     994\n",
       "시설부족       382\n",
       "교통         309\n",
       "친구없음       216\n",
       "편의시설미비     186\n",
       "기타          25\n",
       "Name: count, dtype: int64"
      ]
     },
     "execution_count": 187,
     "metadata": {},
     "output_type": "execute_result"
    },
    {
     "data": {
      "text/plain": [
       "expense\n",
       "해당사항없음    2340\n",
       "영화        1745\n",
       "연극/뮤지컬    1532\n",
       "대중음악       498\n",
       "문학         170\n",
       "전통예술       143\n",
       "전시회         86\n",
       "기타          73\n",
       "서양음악        56\n",
       "무용          54\n",
       "미술          30\n",
       "Name: count, dtype: int64"
      ]
     },
     "execution_count": 187,
     "metadata": {},
     "output_type": "execute_result"
    },
    {
     "data": {
      "text/plain": [
       "expense_f\n",
       "연극/뮤지컬    2000\n",
       "영화        1664\n",
       "대중음악       992\n",
       "해당사항없음     714\n",
       "전통예술       335\n",
       "전시회        242\n",
       "문학         237\n",
       "무용         208\n",
       "기타         180\n",
       "서양음악       118\n",
       "미술          37\n",
       "Name: count, dtype: int64"
      ]
     },
     "execution_count": 187,
     "metadata": {},
     "output_type": "execute_result"
    }
   ],
   "source": [
    "# 코드값 변경이 필요한 열들의 변경 후 빈도값 출력\n",
    "for column in need_setting_columns:\n",
    "    CS_senior[column].value_counts(ascending=False)"
   ]
  },
  {
   "cell_type": "code",
   "execution_count": 189,
   "id": "c2143adf",
   "metadata": {},
   "outputs": [
    {
     "data": {
      "text/html": [
       "<div>\n",
       "<style scoped>\n",
       "    .dataframe tbody tr th:only-of-type {\n",
       "        vertical-align: middle;\n",
       "    }\n",
       "\n",
       "    .dataframe tbody tr th {\n",
       "        vertical-align: top;\n",
       "    }\n",
       "\n",
       "    .dataframe thead th {\n",
       "        text-align: right;\n",
       "    }\n",
       "</style>\n",
       "<table border=\"1\" class=\"dataframe\">\n",
       "  <thead>\n",
       "    <tr style=\"text-align: right;\">\n",
       "      <th></th>\n",
       "      <th>standard</th>\n",
       "      <th>block</th>\n",
       "      <th>difficulty</th>\n",
       "      <th>expense</th>\n",
       "      <th>expense_f</th>\n",
       "    </tr>\n",
       "  </thead>\n",
       "  <tbody>\n",
       "    <tr>\n",
       "      <th>0</th>\n",
       "      <td>컨텐츠 및 퀄리티</td>\n",
       "      <td>비용</td>\n",
       "      <td>관심도</td>\n",
       "      <td>영화</td>\n",
       "      <td>영화</td>\n",
       "    </tr>\n",
       "    <tr>\n",
       "      <th>1</th>\n",
       "      <td>비용</td>\n",
       "      <td>관련정보부족</td>\n",
       "      <td>비용</td>\n",
       "      <td>영화</td>\n",
       "      <td>전시회</td>\n",
       "    </tr>\n",
       "    <tr>\n",
       "      <th>6</th>\n",
       "      <td>비용</td>\n",
       "      <td>시간</td>\n",
       "      <td>편의시설미비</td>\n",
       "      <td>영화</td>\n",
       "      <td>영화</td>\n",
       "    </tr>\n",
       "    <tr>\n",
       "      <th>7</th>\n",
       "      <td>비용</td>\n",
       "      <td>교통</td>\n",
       "      <td>시간</td>\n",
       "      <td>해당사항없음</td>\n",
       "      <td>전통예술</td>\n",
       "    </tr>\n",
       "    <tr>\n",
       "      <th>9</th>\n",
       "      <td>작가 및 출연진</td>\n",
       "      <td>시간</td>\n",
       "      <td>시간</td>\n",
       "      <td>대중음악</td>\n",
       "      <td>연극/뮤지컬</td>\n",
       "    </tr>\n",
       "    <tr>\n",
       "      <th>...</th>\n",
       "      <td>...</td>\n",
       "      <td>...</td>\n",
       "      <td>...</td>\n",
       "      <td>...</td>\n",
       "      <td>...</td>\n",
       "    </tr>\n",
       "    <tr>\n",
       "      <th>20611</th>\n",
       "      <td>컨텐츠 및 퀄리티</td>\n",
       "      <td>시간</td>\n",
       "      <td>시간</td>\n",
       "      <td>문학</td>\n",
       "      <td>연극/뮤지컬</td>\n",
       "    </tr>\n",
       "    <tr>\n",
       "      <th>20613</th>\n",
       "      <td>접근성</td>\n",
       "      <td>관심도</td>\n",
       "      <td>비용</td>\n",
       "      <td>해당사항없음</td>\n",
       "      <td>대중음악</td>\n",
       "    </tr>\n",
       "    <tr>\n",
       "      <th>20616</th>\n",
       "      <td>컨텐츠 및 퀄리티</td>\n",
       "      <td>시간</td>\n",
       "      <td>시간</td>\n",
       "      <td>문학</td>\n",
       "      <td>연극/뮤지컬</td>\n",
       "    </tr>\n",
       "    <tr>\n",
       "      <th>20618</th>\n",
       "      <td>컨텐츠 및 퀄리티</td>\n",
       "      <td>시간</td>\n",
       "      <td>시간</td>\n",
       "      <td>기타</td>\n",
       "      <td>기타</td>\n",
       "    </tr>\n",
       "    <tr>\n",
       "      <th>20621</th>\n",
       "      <td>컨텐츠 및 퀄리티</td>\n",
       "      <td>시간</td>\n",
       "      <td>시간</td>\n",
       "      <td>해당사항없음</td>\n",
       "      <td>연극/뮤지컬</td>\n",
       "    </tr>\n",
       "  </tbody>\n",
       "</table>\n",
       "<p>6727 rows × 5 columns</p>\n",
       "</div>"
      ],
      "text/plain": [
       "        standard   block difficulty expense expense_f\n",
       "0      컨텐츠 및 퀄리티      비용        관심도      영화        영화\n",
       "1             비용  관련정보부족         비용      영화       전시회\n",
       "6             비용      시간     편의시설미비      영화        영화\n",
       "7             비용      교통         시간  해당사항없음      전통예술\n",
       "9       작가 및 출연진      시간         시간    대중음악    연극/뮤지컬\n",
       "...          ...     ...        ...     ...       ...\n",
       "20611  컨텐츠 및 퀄리티      시간         시간      문학    연극/뮤지컬\n",
       "20613        접근성     관심도         비용  해당사항없음      대중음악\n",
       "20616  컨텐츠 및 퀄리티      시간         시간      문학    연극/뮤지컬\n",
       "20618  컨텐츠 및 퀄리티      시간         시간      기타        기타\n",
       "20621  컨텐츠 및 퀄리티      시간         시간  해당사항없음    연극/뮤지컬\n",
       "\n",
       "[6727 rows x 5 columns]"
      ]
     },
     "execution_count": 189,
     "metadata": {},
     "output_type": "execute_result"
    }
   ],
   "source": [
    "# 문자로 바꿔준 데이터프레임 확인\n",
    "CS_senior"
   ]
  },
  {
   "cell_type": "code",
   "execution_count": 188,
   "id": "ca209a74",
   "metadata": {},
   "outputs": [
    {
     "data": {
      "text/plain": [
       "{'컨텐츠 및 퀄리티': 1977,\n",
       " '비용': 1866,\n",
       " '접근성': 845,\n",
       " '교통': 747,\n",
       " '작가 및 출연진': 637,\n",
       " '개최 장소의 유명도': 264,\n",
       " '전문가 의견 및 언론보도': 159,\n",
       " '편의시설여부': 118,\n",
       " '주위 의견 및 네티즌 의견': 102,\n",
       " '기타': 12}"
      ]
     },
     "execution_count": 188,
     "metadata": {},
     "output_type": "execute_result"
    },
    {
     "data": {
      "text/plain": [
       "{'시간': 2010,\n",
       " '비용': 1597,\n",
       " '관심도': 1161,\n",
       " '관련정보부족': 755,\n",
       " '시설부족': 467,\n",
       " '교통': 400,\n",
       " '친구없음': 205,\n",
       " '편의시설미비': 118,\n",
       " '기타': 14}"
      ]
     },
     "execution_count": 188,
     "metadata": {},
     "output_type": "execute_result"
    },
    {
     "data": {
      "text/plain": [
       "{'시간': 2106,\n",
       " '관심도': 1447,\n",
       " '비용': 1062,\n",
       " '관련정보부족': 994,\n",
       " '시설부족': 382,\n",
       " '교통': 309,\n",
       " '친구없음': 216,\n",
       " '편의시설미비': 186,\n",
       " '기타': 25}"
      ]
     },
     "execution_count": 188,
     "metadata": {},
     "output_type": "execute_result"
    },
    {
     "data": {
      "text/plain": [
       "{'해당사항없음': 2340,\n",
       " '영화': 1745,\n",
       " '연극/뮤지컬': 1532,\n",
       " '대중음악': 498,\n",
       " '문학': 170,\n",
       " '전통예술': 143,\n",
       " '전시회': 86,\n",
       " '기타': 73,\n",
       " '서양음악': 56,\n",
       " '무용': 54,\n",
       " '미술': 30}"
      ]
     },
     "execution_count": 188,
     "metadata": {},
     "output_type": "execute_result"
    },
    {
     "data": {
      "text/plain": [
       "{'연극/뮤지컬': 2000,\n",
       " '영화': 1664,\n",
       " '대중음악': 992,\n",
       " '해당사항없음': 714,\n",
       " '전통예술': 335,\n",
       " '전시회': 242,\n",
       " '문학': 237,\n",
       " '무용': 208,\n",
       " '기타': 180,\n",
       " '서양음악': 118,\n",
       " '미술': 37}"
      ]
     },
     "execution_count": 188,
     "metadata": {},
     "output_type": "execute_result"
    }
   ],
   "source": [
    "# {'기준' : 개수} 로 딕셔너리 생성\n",
    "\n",
    "standard_dict = CS_senior['standard'].value_counts(ascending=False).to_dict()\n",
    "block_dict = CS_senior['block'].value_counts(ascending=False).to_dict()\n",
    "difficulty_dict = CS_senior['difficulty'].value_counts(ascending=False).to_dict()\n",
    "expense_dict = CS_senior['expense'].value_counts(ascending=False).to_dict()\n",
    "expense_f_dict = CS_senior['expense_f'].value_counts(ascending=False).to_dict()\n",
    "\n",
    "standard_dict\n",
    "block_dict\n",
    "difficulty_dict\n",
    "expense_dict\n",
    "expense_f_dict"
   ]
  },
  {
   "cell_type": "code",
   "execution_count": 203,
   "id": "8b8f67b0",
   "metadata": {},
   "outputs": [
    {
     "data": {
      "text/plain": [
       "<Figure size 500x500 with 0 Axes>"
      ]
     },
     "execution_count": 203,
     "metadata": {},
     "output_type": "execute_result"
    },
    {
     "data": {
      "text/plain": [
       "<matplotlib.image.AxesImage at 0x1257ca0e0>"
      ]
     },
     "execution_count": 203,
     "metadata": {},
     "output_type": "execute_result"
    },
    {
     "data": {
      "text/plain": [
       "(-0.5, 400.5, 389.5, -0.5)"
      ]
     },
     "execution_count": 203,
     "metadata": {},
     "output_type": "execute_result"
    },
    {
     "data": {
      "image/png": "[encoded data removed]",
      "text/plain": [
       "<Figure size 500x500 with 1 Axes>"
      ]
     },
     "metadata": {},
     "output_type": "display_data"
    }
   ],
   "source": [
    "# standard_dict 워드클라우드 생성\n",
    "wordcloud = WordCloud(\n",
    "    font_path = 'malgun.ttf', # 한글 글씨체 설정\n",
    "    background_color='white', # 배경색은 흰색으로 \n",
    "    colormap='Reds', # 글씨색\n",
    "    mask=cand_mask, # 워드클라우드 모양 설정\n",
    ").generate_from_frequencies(standard_dict)\n",
    "\n",
    "# 워드클라우드 출력\n",
    "# 사이즈 설정\n",
    "plt.figure(figsize=(5,5))\n",
    "plt.imshow(wordcloud, interpolation='bilinear')\n",
    "plt.axis('off') # 차트로 나오지 않게\n",
    "\n",
    "# 워드클라우드 이미지 저장\n",
    "# plt.savefig('test.png')"
   ]
  },
  {
   "cell_type": "code",
   "execution_count": 202,
   "id": "5dc3554c",
   "metadata": {},
   "outputs": [
    {
     "data": {
      "text/plain": [
       "<Figure size 500x500 with 0 Axes>"
      ]
     },
     "execution_count": 202,
     "metadata": {},
     "output_type": "execute_result"
    },
    {
     "data": {
      "text/plain": [
       "<matplotlib.image.AxesImage at 0x125802560>"
      ]
     },
     "execution_count": 202,
     "metadata": {},
     "output_type": "execute_result"
    },
    {
     "data": {
      "text/plain": [
       "(-0.5, 400.5, 389.5, -0.5)"
      ]
     },
     "execution_count": 202,
     "metadata": {},
     "output_type": "execute_result"
    },
    {
     "data": {
      "image/png": "[encoded data removed]",
      "text/plain": [
       "<Figure size 500x500 with 1 Axes>"
      ]
     },
     "metadata": {},
     "output_type": "display_data"
    }
   ],
   "source": [
    "# block_dict 워드클라우드 생성\n",
    "wordcloud = WordCloud(\n",
    "    font_path = 'malgun.ttf', # 한글 글씨체 설정\n",
    "    background_color='white', # 배경색은 흰색으로 \n",
    "    colormap='Blues', # 글씨색\n",
    "    mask=cand_mask, # 워드클라우드 모양 설정\n",
    ").generate_from_frequencies(block_dict)\n",
    "\n",
    "# 워드클라우드 출력\n",
    "# 사이즈 설정\n",
    "plt.figure(figsize=(5,5))\n",
    "plt.imshow(wordcloud, interpolation='bilinear')\n",
    "plt.axis('off') # 차트로 나오지 않게\n",
    "\n",
    "# 워드클라우드 이미지 저장\n",
    "# plt.savefig('test.png')"
   ]
  },
  {
   "cell_type": "code",
   "execution_count": 198,
   "id": "9ea0a846",
   "metadata": {},
   "outputs": [
    {
     "data": {
      "text/plain": [
       "<Figure size 500x500 with 0 Axes>"
      ]
     },
     "execution_count": 198,
     "metadata": {},
     "output_type": "execute_result"
    },
    {
     "data": {
      "text/plain": [
       "<matplotlib.image.AxesImage at 0x1258a7850>"
      ]
     },
     "execution_count": 198,
     "metadata": {},
     "output_type": "execute_result"
    },
    {
     "data": {
      "text/plain": [
       "(-0.5, 400.5, 389.5, -0.5)"
      ]
     },
     "execution_count": 198,
     "metadata": {},
     "output_type": "execute_result"
    },
    {
     "data": {
      "image/png": "[encoded data removed]",
      "text/plain": [
       "<Figure size 500x500 with 1 Axes>"
      ]
     },
     "metadata": {},
     "output_type": "display_data"
    }
   ],
   "source": [
    "# difficulty_dict 워드클라우드 생성\n",
    "wordcloud = WordCloud(\n",
    "    font_path = 'malgun.ttf', # 한글 글씨체 설정\n",
    "    background_color='white', # 배경색은 흰색으로 \n",
    "    colormap='Blues', # 글씨색\n",
    "    mask=cand_mask, # 워드클라우드 모양 설정\n",
    ").generate_from_frequencies(difficulty_dict)\n",
    "\n",
    "# 워드클라우드 출력\n",
    "# 사이즈 설정\n",
    "plt.figure(figsize=(5,5))\n",
    "plt.imshow(wordcloud, interpolation='bilinear')\n",
    "plt.axis('off') # 차트로 나오지 않게\n",
    "\n",
    "# 워드클라우드 이미지 저장\n",
    "# plt.savefig('test.png')"
   ]
  },
  {
   "cell_type": "code",
   "execution_count": 195,
   "id": "d774c54c",
   "metadata": {},
   "outputs": [
    {
     "data": {
      "text/plain": [
       "<Figure size 500x500 with 0 Axes>"
      ]
     },
     "execution_count": 195,
     "metadata": {},
     "output_type": "execute_result"
    },
    {
     "data": {
      "text/plain": [
       "<matplotlib.image.AxesImage at 0x125a40730>"
      ]
     },
     "execution_count": 195,
     "metadata": {},
     "output_type": "execute_result"
    },
    {
     "data": {
      "text/plain": [
       "(-0.5, 400.5, 389.5, -0.5)"
      ]
     },
     "execution_count": 195,
     "metadata": {},
     "output_type": "execute_result"
    },
    {
     "data": {
      "image/png": "[encoded data removed]",
      "text/plain": [
       "<Figure size 500x500 with 1 Axes>"
      ]
     },
     "metadata": {},
     "output_type": "display_data"
    }
   ],
   "source": [
    "# expense_dict 워드클라우드 생성\n",
    "wordcloud = WordCloud(\n",
    "    font_path = 'malgun.ttf', # 한글 글씨체 설정\n",
    "    background_color='white', # 배경색은 흰색으로 \n",
    "    colormap='Reds', # 글씨색\n",
    "    mask=cand_mask, # 워드클라우드 모양 설정\n",
    ").generate_from_frequencies(expense_dict)\n",
    "\n",
    "# 워드클라우드 출력\n",
    "# 사이즈 설정\n",
    "plt.figure(figsize=(5,5))\n",
    "plt.imshow(wordcloud, interpolation='bilinear')\n",
    "plt.axis('off') # 차트로 나오지 않게\n",
    "\n",
    "# 워드클라우드 이미지 저장\n",
    "# plt.savefig('test.png')"
   ]
  },
  {
   "cell_type": "code",
   "execution_count": 192,
   "id": "e1b89987",
   "metadata": {},
   "outputs": [
    {
     "data": {
      "text/plain": [
       "<Figure size 500x500 with 0 Axes>"
      ]
     },
     "execution_count": 192,
     "metadata": {},
     "output_type": "execute_result"
    },
    {
     "data": {
      "text/plain": [
       "<matplotlib.image.AxesImage at 0x1256bbdf0>"
      ]
     },
     "execution_count": 192,
     "metadata": {},
     "output_type": "execute_result"
    },
    {
     "data": {
      "text/plain": [
       "(-0.5, 400.5, 389.5, -0.5)"
      ]
     },
     "execution_count": 192,
     "metadata": {},
     "output_type": "execute_result"
    },
    {
     "data": {
      "image/png": "[encoded data removed]",
      "text/plain": [
       "<Figure size 500x500 with 1 Axes>"
      ]
     },
     "metadata": {},
     "output_type": "display_data"
    }
   ],
   "source": [
    "# expense_f_dict 워드클라우드 생성\n",
    "wordcloud = WordCloud(\n",
    "    font_path = 'malgun.ttf', # 한글 글씨체 설정\n",
    "    background_color='white', # 배경색은 흰색으로 \n",
    "    colormap='Reds', # 글씨색\n",
    "    mask=cand_mask, # 워드클라우드 모양 설정\n",
    ").generate_from_frequencies(expense_f_dict)\n",
    "\n",
    "# 워드클라우드 출력\n",
    "# 사이즈 설정\n",
    "plt.figure(figsize=(5,5))\n",
    "plt.imshow(wordcloud, interpolation='bilinear')\n",
    "plt.axis('off') # 차트로 나오지 않게\n",
    "\n",
    "# 워드클라우드 이미지 저장\n",
    "# plt.savefig('test.png')"
   ]
  },
  {
   "cell_type": "code",
   "execution_count": null,
   "id": "8b8688ae",
   "metadata": {},
   "outputs": [],
   "source": []
  }
 ],
 "metadata": {
  "kernelspec": {
   "display_name": "Python 3 (ipykernel)",
   "language": "python",
   "name": "python3"
  },
  "language_info": {
   "codemirror_mode": {
    "name": "ipython",
    "version": 3
   },
   "file_extension": ".py",
   "mimetype": "text/x-python",
   "name": "python",
   "nbconvert_exporter": "python",
   "pygments_lexer": "ipython3",
   "version": "3.10.10"
  }
 },
 "nbformat": 4,
 "nbformat_minor": 5
}

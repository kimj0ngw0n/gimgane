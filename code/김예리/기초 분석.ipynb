{
 "cells": [
  {
   "cell_type": "markdown",
   "metadata": {},
   "source": [
    "## 기초 분석\n",
    "- 시도\n",
    "- 장애등록여부\n",
    "- 문화예술관련 향후 지출을 늘리고 싶은 항목 1순위\n",
    "- 1년이내 축제 참여 의향"
   ]
  },
  {
   "cell_type": "code",
   "execution_count": 1,
   "metadata": {},
   "outputs": [],
   "source": [
    "# 한 셀에서 여러 변수 출력코드\n",
    "from IPython.core.interactiveshell import InteractiveShell\n",
    "InteractiveShell.ast_node_interactivity=\"all\""
   ]
  },
  {
   "cell_type": "code",
   "execution_count": 2,
   "metadata": {},
   "outputs": [],
   "source": [
    "import pandas as pd\n",
    "import numpy as np"
   ]
  },
  {
   "cell_type": "markdown",
   "metadata": {},
   "source": [
    "## 데이터로드"
   ]
  },
  {
   "cell_type": "code",
   "execution_count": 5,
   "metadata": {},
   "outputs": [],
   "source": [
    "df_2018 = pd.read_csv('../data/2018(기초분석).csv', encoding='EUC-KR')\n",
    "df_2020 = pd.read_csv('../data/2020(기초분석).csv', encoding='EUC-KR')"
   ]
  },
  {
   "cell_type": "code",
   "execution_count": 6,
   "metadata": {},
   "outputs": [
    {
     "data": {
      "text/html": [
       "<div>\n",
       "<style scoped>\n",
       "    .dataframe tbody tr th:only-of-type {\n",
       "        vertical-align: middle;\n",
       "    }\n",
       "\n",
       "    .dataframe tbody tr th {\n",
       "        vertical-align: top;\n",
       "    }\n",
       "\n",
       "    .dataframe thead th {\n",
       "        text-align: right;\n",
       "    }\n",
       "</style>\n",
       "<table border=\"1\" class=\"dataframe\">\n",
       "  <thead>\n",
       "    <tr style=\"text-align: right;\">\n",
       "      <th></th>\n",
       "      <th>문6-2. 문화예술 관련 향후 지출을 늘리고 싶은 항목1순위</th>\n",
       "      <th>문19. 1년 이내 축제 참여 의향</th>\n",
       "      <th>문23. 장애등록여부</th>\n",
       "      <th>[분석용] 시도</th>\n",
       "    </tr>\n",
       "  </thead>\n",
       "  <tbody>\n",
       "    <tr>\n",
       "      <th>0</th>\n",
       "      <td>1</td>\n",
       "      <td>1</td>\n",
       "      <td>1</td>\n",
       "      <td>39</td>\n",
       "    </tr>\n",
       "    <tr>\n",
       "      <th>1</th>\n",
       "      <td>1</td>\n",
       "      <td>2</td>\n",
       "      <td>1</td>\n",
       "      <td>11</td>\n",
       "    </tr>\n",
       "    <tr>\n",
       "      <th>2</th>\n",
       "      <td>1</td>\n",
       "      <td>3</td>\n",
       "      <td>1</td>\n",
       "      <td>11</td>\n",
       "    </tr>\n",
       "  </tbody>\n",
       "</table>\n",
       "</div>"
      ],
      "text/plain": [
       "   문6-2. 문화예술 관련 향후 지출을 늘리고 싶은 항목1순위  문19. 1년 이내 축제 참여 의향  문23. 장애등록여부  \\\n",
       "0                                  1                    1            1   \n",
       "1                                  1                    2            1   \n",
       "2                                  1                    3            1   \n",
       "\n",
       "   [분석용] 시도  \n",
       "0        39  \n",
       "1        11  \n",
       "2        11  "
      ]
     },
     "execution_count": 6,
     "metadata": {},
     "output_type": "execute_result"
    },
    {
     "data": {
      "text/html": [
       "<div>\n",
       "<style scoped>\n",
       "    .dataframe tbody tr th:only-of-type {\n",
       "        vertical-align: middle;\n",
       "    }\n",
       "\n",
       "    .dataframe tbody tr th {\n",
       "        vertical-align: top;\n",
       "    }\n",
       "\n",
       "    .dataframe thead th {\n",
       "        text-align: right;\n",
       "    }\n",
       "</style>\n",
       "<table border=\"1\" class=\"dataframe\">\n",
       "  <thead>\n",
       "    <tr style=\"text-align: right;\">\n",
       "      <th></th>\n",
       "      <th>문7-2.문화예술관련향후지출을늘리고싶은항목_1순위</th>\n",
       "      <th>문21.1년이내축제참여의향</th>\n",
       "      <th>시도</th>\n",
       "      <th>장애등록여부</th>\n",
       "    </tr>\n",
       "  </thead>\n",
       "  <tbody>\n",
       "    <tr>\n",
       "      <th>0</th>\n",
       "      <td>1</td>\n",
       "      <td>1</td>\n",
       "      <td>1</td>\n",
       "      <td>1</td>\n",
       "    </tr>\n",
       "    <tr>\n",
       "      <th>1</th>\n",
       "      <td>1</td>\n",
       "      <td>1</td>\n",
       "      <td>1</td>\n",
       "      <td>1</td>\n",
       "    </tr>\n",
       "    <tr>\n",
       "      <th>2</th>\n",
       "      <td>1</td>\n",
       "      <td>1</td>\n",
       "      <td>1</td>\n",
       "      <td>1</td>\n",
       "    </tr>\n",
       "  </tbody>\n",
       "</table>\n",
       "</div>"
      ],
      "text/plain": [
       "   문7-2.문화예술관련향후지출을늘리고싶은항목_1순위  문21.1년이내축제참여의향  시도  장애등록여부\n",
       "0                            1               1   1       1\n",
       "1                            1               1   1       1\n",
       "2                            1               1   1       1"
      ]
     },
     "execution_count": 6,
     "metadata": {},
     "output_type": "execute_result"
    }
   ],
   "source": [
    "df_2018.head(3)\n",
    "df_2020.head(3)"
   ]
  },
  {
   "cell_type": "code",
   "execution_count": 20,
   "metadata": {},
   "outputs": [
    {
     "name": "stdout",
     "output_type": "stream",
     "text": [
      "<class 'pandas.core.frame.DataFrame'>\n",
      "RangeIndex: 10558 entries, 0 to 10557\n",
      "Data columns (total 4 columns):\n",
      " #   Column      Non-Null Count  Dtype\n",
      "---  ------      --------------  -----\n",
      " 0   expense_f   10558 non-null  int64\n",
      " 1   festival_f  10558 non-null  int64\n",
      " 2   disabled    10558 non-null  int64\n",
      " 3   sido        10558 non-null  int64\n",
      "dtypes: int64(4)\n",
      "memory usage: 330.1 KB\n",
      "<class 'pandas.core.frame.DataFrame'>\n",
      "RangeIndex: 10099 entries, 0 to 10098\n",
      "Data columns (total 4 columns):\n",
      " #   Column      Non-Null Count  Dtype\n",
      "---  ------      --------------  -----\n",
      " 0   expense_f   10099 non-null  int64\n",
      " 1   festival_f  10099 non-null  int64\n",
      " 2   sido        10099 non-null  int64\n",
      " 3   disabled    10099 non-null  int64\n",
      "dtypes: int64(4)\n",
      "memory usage: 315.7 KB\n"
     ]
    }
   ],
   "source": [
    "# 데이터 정리하기 전 info 확인\n",
    "df_2018.info()\n",
    "df_2020.info()"
   ]
  },
  {
   "cell_type": "markdown",
   "metadata": {},
   "source": [
    "## 2018년 & 2020년 데이터 정리\n",
    "- 데이터 열 이름, 순서 변경"
   ]
  },
  {
   "cell_type": "code",
   "execution_count": 7,
   "metadata": {},
   "outputs": [
    {
     "data": {
      "text/plain": [
       "Index(['문6-2. 문화예술 관련 향후 지출을 늘리고 싶은 항목1순위', '문19. 1년 이내 축제 참여 의향',\n",
       "       '문23. 장애등록여부', '[분석용] 시도'],\n",
       "      dtype='object')"
      ]
     },
     "execution_count": 7,
     "metadata": {},
     "output_type": "execute_result"
    }
   ],
   "source": [
    "# 2018년 columns 확인\n",
    "df_2018.columns"
   ]
  },
  {
   "cell_type": "code",
   "execution_count": 8,
   "metadata": {},
   "outputs": [
    {
     "data": {
      "text/plain": [
       "Index(['문7-2.문화예술관련향후지출을늘리고싶은항목_1순위', '문21.1년이내축제참여의향', '시도', '장애등록여부'], dtype='object')"
      ]
     },
     "execution_count": 8,
     "metadata": {},
     "output_type": "execute_result"
    }
   ],
   "source": [
    "# 2020년 columns 확인\n",
    "df_2020.columns"
   ]
  },
  {
   "cell_type": "code",
   "execution_count": 9,
   "metadata": {},
   "outputs": [],
   "source": [
    "# 필요한 열 이름 변경(2018)\n",
    "df_2018.rename(columns={'문6-2. 문화예술 관련 향후 지출을 늘리고 싶은 항목1순위' : 'expense_f',\n",
    "                        '문19. 1년 이내 축제 참여 의향' : 'festival_f',\n",
    "                        '문23. 장애등록여부' : 'disabled',\n",
    "                        '[분석용] 시도' : 'sido'\n",
    "                       }, inplace=True)"
   ]
  },
  {
   "cell_type": "code",
   "execution_count": 11,
   "metadata": {},
   "outputs": [
    {
     "data": {
      "text/html": [
       "<div>\n",
       "<style scoped>\n",
       "    .dataframe tbody tr th:only-of-type {\n",
       "        vertical-align: middle;\n",
       "    }\n",
       "\n",
       "    .dataframe tbody tr th {\n",
       "        vertical-align: top;\n",
       "    }\n",
       "\n",
       "    .dataframe thead th {\n",
       "        text-align: right;\n",
       "    }\n",
       "</style>\n",
       "<table border=\"1\" class=\"dataframe\">\n",
       "  <thead>\n",
       "    <tr style=\"text-align: right;\">\n",
       "      <th></th>\n",
       "      <th>sido</th>\n",
       "      <th>disabled</th>\n",
       "      <th>expense_f</th>\n",
       "      <th>festival_f</th>\n",
       "    </tr>\n",
       "  </thead>\n",
       "  <tbody>\n",
       "    <tr>\n",
       "      <th>0</th>\n",
       "      <td>39</td>\n",
       "      <td>1</td>\n",
       "      <td>1</td>\n",
       "      <td>1</td>\n",
       "    </tr>\n",
       "    <tr>\n",
       "      <th>1</th>\n",
       "      <td>11</td>\n",
       "      <td>1</td>\n",
       "      <td>1</td>\n",
       "      <td>2</td>\n",
       "    </tr>\n",
       "    <tr>\n",
       "      <th>2</th>\n",
       "      <td>11</td>\n",
       "      <td>1</td>\n",
       "      <td>1</td>\n",
       "      <td>3</td>\n",
       "    </tr>\n",
       "    <tr>\n",
       "      <th>3</th>\n",
       "      <td>11</td>\n",
       "      <td>1</td>\n",
       "      <td>1</td>\n",
       "      <td>3</td>\n",
       "    </tr>\n",
       "    <tr>\n",
       "      <th>4</th>\n",
       "      <td>11</td>\n",
       "      <td>1</td>\n",
       "      <td>1</td>\n",
       "      <td>3</td>\n",
       "    </tr>\n",
       "    <tr>\n",
       "      <th>...</th>\n",
       "      <td>...</td>\n",
       "      <td>...</td>\n",
       "      <td>...</td>\n",
       "      <td>...</td>\n",
       "    </tr>\n",
       "    <tr>\n",
       "      <th>10553</th>\n",
       "      <td>36</td>\n",
       "      <td>1</td>\n",
       "      <td>9</td>\n",
       "      <td>7</td>\n",
       "    </tr>\n",
       "    <tr>\n",
       "      <th>10554</th>\n",
       "      <td>36</td>\n",
       "      <td>1</td>\n",
       "      <td>9</td>\n",
       "      <td>7</td>\n",
       "    </tr>\n",
       "    <tr>\n",
       "      <th>10555</th>\n",
       "      <td>37</td>\n",
       "      <td>1</td>\n",
       "      <td>9</td>\n",
       "      <td>7</td>\n",
       "    </tr>\n",
       "    <tr>\n",
       "      <th>10556</th>\n",
       "      <td>39</td>\n",
       "      <td>1</td>\n",
       "      <td>9</td>\n",
       "      <td>7</td>\n",
       "    </tr>\n",
       "    <tr>\n",
       "      <th>10557</th>\n",
       "      <td>39</td>\n",
       "      <td>1</td>\n",
       "      <td>9</td>\n",
       "      <td>7</td>\n",
       "    </tr>\n",
       "  </tbody>\n",
       "</table>\n",
       "<p>10558 rows × 4 columns</p>\n",
       "</div>"
      ],
      "text/plain": [
       "       sido  disabled  expense_f  festival_f\n",
       "0        39         1          1           1\n",
       "1        11         1          1           2\n",
       "2        11         1          1           3\n",
       "3        11         1          1           3\n",
       "4        11         1          1           3\n",
       "...     ...       ...        ...         ...\n",
       "10553    36         1          9           7\n",
       "10554    36         1          9           7\n",
       "10555    37         1          9           7\n",
       "10556    39         1          9           7\n",
       "10557    39         1          9           7\n",
       "\n",
       "[10558 rows x 4 columns]"
      ]
     },
     "execution_count": 11,
     "metadata": {},
     "output_type": "execute_result"
    }
   ],
   "source": [
    "# 열 순서 변경(2018)\n",
    "df_2018.reindex(columns=['sido',\n",
    "                        'disabled',\n",
    "                        'expense_f',\n",
    "                        'festival_f'])"
   ]
  },
  {
   "cell_type": "code",
   "execution_count": 12,
   "metadata": {},
   "outputs": [],
   "source": [
    "# 필요한 열 이름 변경(2020)\n",
    "df_2020.rename(columns={'문7-2.문화예술관련향후지출을늘리고싶은항목_1순위' : 'expense_f',\n",
    "                        '문21.1년이내축제참여의향' : 'festival_f',\n",
    "                        '장애등록여부' : 'disabled',\n",
    "                        '시도' : 'sido'\n",
    "                       }, inplace=True)"
   ]
  },
  {
   "cell_type": "code",
   "execution_count": 13,
   "metadata": {},
   "outputs": [
    {
     "data": {
      "text/html": [
       "<div>\n",
       "<style scoped>\n",
       "    .dataframe tbody tr th:only-of-type {\n",
       "        vertical-align: middle;\n",
       "    }\n",
       "\n",
       "    .dataframe tbody tr th {\n",
       "        vertical-align: top;\n",
       "    }\n",
       "\n",
       "    .dataframe thead th {\n",
       "        text-align: right;\n",
       "    }\n",
       "</style>\n",
       "<table border=\"1\" class=\"dataframe\">\n",
       "  <thead>\n",
       "    <tr style=\"text-align: right;\">\n",
       "      <th></th>\n",
       "      <th>sido</th>\n",
       "      <th>disabled</th>\n",
       "      <th>expense_f</th>\n",
       "      <th>festival_f</th>\n",
       "    </tr>\n",
       "  </thead>\n",
       "  <tbody>\n",
       "    <tr>\n",
       "      <th>0</th>\n",
       "      <td>1</td>\n",
       "      <td>1</td>\n",
       "      <td>1</td>\n",
       "      <td>1</td>\n",
       "    </tr>\n",
       "    <tr>\n",
       "      <th>1</th>\n",
       "      <td>1</td>\n",
       "      <td>1</td>\n",
       "      <td>1</td>\n",
       "      <td>1</td>\n",
       "    </tr>\n",
       "    <tr>\n",
       "      <th>2</th>\n",
       "      <td>1</td>\n",
       "      <td>1</td>\n",
       "      <td>1</td>\n",
       "      <td>1</td>\n",
       "    </tr>\n",
       "    <tr>\n",
       "      <th>3</th>\n",
       "      <td>1</td>\n",
       "      <td>2</td>\n",
       "      <td>1</td>\n",
       "      <td>1</td>\n",
       "    </tr>\n",
       "    <tr>\n",
       "      <th>4</th>\n",
       "      <td>12</td>\n",
       "      <td>1</td>\n",
       "      <td>1</td>\n",
       "      <td>1</td>\n",
       "    </tr>\n",
       "    <tr>\n",
       "      <th>...</th>\n",
       "      <td>...</td>\n",
       "      <td>...</td>\n",
       "      <td>...</td>\n",
       "      <td>...</td>\n",
       "    </tr>\n",
       "    <tr>\n",
       "      <th>10094</th>\n",
       "      <td>3</td>\n",
       "      <td>1</td>\n",
       "      <td>9</td>\n",
       "      <td>7</td>\n",
       "    </tr>\n",
       "    <tr>\n",
       "      <th>10095</th>\n",
       "      <td>3</td>\n",
       "      <td>1</td>\n",
       "      <td>9</td>\n",
       "      <td>7</td>\n",
       "    </tr>\n",
       "    <tr>\n",
       "      <th>10096</th>\n",
       "      <td>6</td>\n",
       "      <td>1</td>\n",
       "      <td>9</td>\n",
       "      <td>7</td>\n",
       "    </tr>\n",
       "    <tr>\n",
       "      <th>10097</th>\n",
       "      <td>9</td>\n",
       "      <td>1</td>\n",
       "      <td>9</td>\n",
       "      <td>7</td>\n",
       "    </tr>\n",
       "    <tr>\n",
       "      <th>10098</th>\n",
       "      <td>9</td>\n",
       "      <td>1</td>\n",
       "      <td>9</td>\n",
       "      <td>7</td>\n",
       "    </tr>\n",
       "  </tbody>\n",
       "</table>\n",
       "<p>10099 rows × 4 columns</p>\n",
       "</div>"
      ],
      "text/plain": [
       "       sido  disabled  expense_f  festival_f\n",
       "0         1         1          1           1\n",
       "1         1         1          1           1\n",
       "2         1         1          1           1\n",
       "3         1         2          1           1\n",
       "4        12         1          1           1\n",
       "...     ...       ...        ...         ...\n",
       "10094     3         1          9           7\n",
       "10095     3         1          9           7\n",
       "10096     6         1          9           7\n",
       "10097     9         1          9           7\n",
       "10098     9         1          9           7\n",
       "\n",
       "[10099 rows x 4 columns]"
      ]
     },
     "execution_count": 13,
     "metadata": {},
     "output_type": "execute_result"
    }
   ],
   "source": [
    "# 열 순서 변경(2020)\n",
    "df_2020.reindex(columns=['sido',\n",
    "                        'disabled',\n",
    "                        'expense_f',\n",
    "                        'festival_f'])"
   ]
  },
  {
   "cell_type": "markdown",
   "metadata": {},
   "source": [
    "### 2018, 2020년 데이터 병합"
   ]
  },
  {
   "cell_type": "code",
   "execution_count": 16,
   "metadata": {},
   "outputs": [],
   "source": [
    "# 데이터 병합\n",
    "df_merge = pd.concat([df_2018, df_2020], axis=0, ignore_index=True)"
   ]
  },
  {
   "cell_type": "code",
   "execution_count": 17,
   "metadata": {},
   "outputs": [
    {
     "data": {
      "text/html": [
       "<div>\n",
       "<style scoped>\n",
       "    .dataframe tbody tr th:only-of-type {\n",
       "        vertical-align: middle;\n",
       "    }\n",
       "\n",
       "    .dataframe tbody tr th {\n",
       "        vertical-align: top;\n",
       "    }\n",
       "\n",
       "    .dataframe thead th {\n",
       "        text-align: right;\n",
       "    }\n",
       "</style>\n",
       "<table border=\"1\" class=\"dataframe\">\n",
       "  <thead>\n",
       "    <tr style=\"text-align: right;\">\n",
       "      <th></th>\n",
       "      <th>expense_f</th>\n",
       "      <th>festival_f</th>\n",
       "      <th>disabled</th>\n",
       "      <th>sido</th>\n",
       "    </tr>\n",
       "  </thead>\n",
       "  <tbody>\n",
       "    <tr>\n",
       "      <th>0</th>\n",
       "      <td>1</td>\n",
       "      <td>1</td>\n",
       "      <td>1</td>\n",
       "      <td>39</td>\n",
       "    </tr>\n",
       "    <tr>\n",
       "      <th>1</th>\n",
       "      <td>1</td>\n",
       "      <td>2</td>\n",
       "      <td>1</td>\n",
       "      <td>11</td>\n",
       "    </tr>\n",
       "    <tr>\n",
       "      <th>2</th>\n",
       "      <td>1</td>\n",
       "      <td>3</td>\n",
       "      <td>1</td>\n",
       "      <td>11</td>\n",
       "    </tr>\n",
       "    <tr>\n",
       "      <th>3</th>\n",
       "      <td>1</td>\n",
       "      <td>3</td>\n",
       "      <td>1</td>\n",
       "      <td>11</td>\n",
       "    </tr>\n",
       "    <tr>\n",
       "      <th>4</th>\n",
       "      <td>1</td>\n",
       "      <td>3</td>\n",
       "      <td>1</td>\n",
       "      <td>11</td>\n",
       "    </tr>\n",
       "    <tr>\n",
       "      <th>...</th>\n",
       "      <td>...</td>\n",
       "      <td>...</td>\n",
       "      <td>...</td>\n",
       "      <td>...</td>\n",
       "    </tr>\n",
       "    <tr>\n",
       "      <th>20652</th>\n",
       "      <td>9</td>\n",
       "      <td>7</td>\n",
       "      <td>1</td>\n",
       "      <td>3</td>\n",
       "    </tr>\n",
       "    <tr>\n",
       "      <th>20653</th>\n",
       "      <td>9</td>\n",
       "      <td>7</td>\n",
       "      <td>1</td>\n",
       "      <td>3</td>\n",
       "    </tr>\n",
       "    <tr>\n",
       "      <th>20654</th>\n",
       "      <td>9</td>\n",
       "      <td>7</td>\n",
       "      <td>1</td>\n",
       "      <td>6</td>\n",
       "    </tr>\n",
       "    <tr>\n",
       "      <th>20655</th>\n",
       "      <td>9</td>\n",
       "      <td>7</td>\n",
       "      <td>1</td>\n",
       "      <td>9</td>\n",
       "    </tr>\n",
       "    <tr>\n",
       "      <th>20656</th>\n",
       "      <td>9</td>\n",
       "      <td>7</td>\n",
       "      <td>1</td>\n",
       "      <td>9</td>\n",
       "    </tr>\n",
       "  </tbody>\n",
       "</table>\n",
       "<p>20657 rows × 4 columns</p>\n",
       "</div>"
      ],
      "text/plain": [
       "       expense_f  festival_f  disabled  sido\n",
       "0              1           1         1    39\n",
       "1              1           2         1    11\n",
       "2              1           3         1    11\n",
       "3              1           3         1    11\n",
       "4              1           3         1    11\n",
       "...          ...         ...       ...   ...\n",
       "20652          9           7         1     3\n",
       "20653          9           7         1     3\n",
       "20654          9           7         1     6\n",
       "20655          9           7         1     9\n",
       "20656          9           7         1     9\n",
       "\n",
       "[20657 rows x 4 columns]"
      ]
     },
     "execution_count": 17,
     "metadata": {},
     "output_type": "execute_result"
    }
   ],
   "source": [
    "df_merge"
   ]
  },
  {
   "cell_type": "markdown",
   "metadata": {},
   "source": [
    "#### 병합한 데이터 info 확인\n",
    "\n",
    "##### 확인 결과\n",
    "- sido, disabled, expense_f, festival_f 모두 null 값 없음\n",
    "- 데이터 타입 : int"
   ]
  },
  {
   "cell_type": "code",
   "execution_count": 19,
   "metadata": {},
   "outputs": [
    {
     "name": "stdout",
     "output_type": "stream",
     "text": [
      "<class 'pandas.core.frame.DataFrame'>\n",
      "RangeIndex: 20657 entries, 0 to 20656\n",
      "Data columns (total 4 columns):\n",
      " #   Column      Non-Null Count  Dtype\n",
      "---  ------      --------------  -----\n",
      " 0   expense_f   20657 non-null  int64\n",
      " 1   festival_f  20657 non-null  int64\n",
      " 2   disabled    20657 non-null  int64\n",
      " 3   sido        20657 non-null  int64\n",
      "dtypes: int64(4)\n",
      "memory usage: 645.7 KB\n"
     ]
    }
   ],
   "source": [
    "# 병합한 데이터 info 확인\n",
    "df_merge.info()"
   ]
  },
  {
   "cell_type": "markdown",
   "metadata": {},
   "source": [
    "### 각각의 컬럼 데이터 분포 확인"
   ]
  },
  {
   "cell_type": "markdown",
   "metadata": {},
   "source": [
    "### sido\n",
    "\n",
    "##### 2018\n",
    "\n",
    "- 11\t서울\t\n",
    "- 21\t부산\t\n",
    "- 22\t대구\t\n",
    "- 23\t인천\t\n",
    "- 24\t광주\n",
    "- 25\t대전\t\n",
    "- 26\t울산\t\n",
    "- 29\t세종\t\n",
    "- 31\t경기\n",
    "- 32\t강원\n",
    "- 33\t충북\n",
    "- 34\t충남\n",
    "- 35\t전북\n",
    "- 36\t전남\n",
    "- 37\t경북\n",
    "- 38\t경남\n",
    "- 39\t제주\n",
    "\n",
    "\n",
    "##### 2020\n",
    "\n",
    "- 1 서울\t\n",
    "- 10 강원\n",
    "- 11 충북\n",
    "- 12 충남\t\n",
    "- 13 전북\t\n",
    "- 14 전남\t\n",
    "- 15 경북\t\n",
    "- 16 경남\t\n",
    "- 17 제주\t\n",
    "- 2 부산\t\n",
    "- 3 대구\t\n",
    "- 4 인천\t\n",
    "- 5 광주\t\n",
    "- 6 대전\t\n",
    "- 7 울산\t\n",
    "- 8 세종\n",
    "- 9 경기"
   ]
  },
  {
   "cell_type": "markdown",
   "metadata": {},
   "source": [
    "#### 데이터 정제 필요\n",
    "1. 2018년 2020년의 동일 지역의 코드값이 다름\n",
    "    - 코드값 & 지역명 정의 필요\n",
    "\n",
    "|지역|2018 코드값|2020 코드값|\n",
    "|:-|:-|:-|\n",
    "|서울|11|1|\n",
    "|부산|21|2|\n",
    "|대구|22|3|\n",
    "|인천|23|4|\n",
    "|광주|24|5|\n",
    "|대전|25|6|\n",
    "|울산|26|7|\n",
    "|세종|29|8|\n",
    "|경기|31|9|\n",
    "|강원|32|10|\n",
    "|충북|33|11|\n",
    "|충남|34|12|\n",
    "|전북|35|13|\n",
    "|전남|36|14|\n",
    "|경북|37|15|\n",
    "|경남|38|16|\n",
    "|제주|39|17|\n",
    "\n",
    "2. 2018 서울 코드값 & 2020 충북 코드값 동일 \n",
    "    - 데이터 병합 전 처리 필요"
   ]
  },
  {
   "cell_type": "code",
   "execution_count": 29,
   "metadata": {},
   "outputs": [
    {
     "data": {
      "text/plain": [
       "9     2412\n",
       "1     1928\n",
       "11    1556\n",
       "31    1333\n",
       "21     759\n",
       "38     730\n",
       "2      686\n",
       "37     671\n",
       "16     667\n",
       "23     646\n",
       "22     636\n",
       "34     586\n",
       "35     561\n",
       "15     549\n",
       "4      549\n",
       "36     543\n",
       "33     501\n",
       "3      491\n",
       "25     490\n",
       "32     482\n",
       "24     480\n",
       "12     436\n",
       "26     421\n",
       "13     376\n",
       "14     361\n",
       "10     314\n",
       "6      303\n",
       "39     301\n",
       "5      293\n",
       "7      222\n",
       "29     191\n",
       "17     121\n",
       "8       62\n",
       "Name: sido, dtype: int64"
      ]
     },
     "execution_count": 29,
     "metadata": {},
     "output_type": "execute_result"
    }
   ],
   "source": [
    "# 각각의 코드 값 확인\n",
    "df_merge['sido'].value_counts().sort_values(ascending=False)"
   ]
  },
  {
   "cell_type": "markdown",
   "metadata": {},
   "source": [
    "3. 2018 & 2020년에 들어있는 지역은 동일함"
   ]
  },
  {
   "cell_type": "code",
   "execution_count": 34,
   "metadata": {},
   "outputs": [
    {
     "data": {
      "text/plain": [
       "17"
      ]
     },
     "execution_count": 34,
     "metadata": {},
     "output_type": "execute_result"
    },
    {
     "data": {
      "text/plain": [
       "17"
      ]
     },
     "execution_count": 34,
     "metadata": {},
     "output_type": "execute_result"
    }
   ],
   "source": [
    "# 겹치는 지역 확인\n",
    "area2018 = {'서울', '부산', '대구', '인천', '광주', '대전', '울산', '세종', '경기', '강원', '충북', '충남', '전북', '전남', '경북', '경남', '제주'} \n",
    "area2020 = {'서울', '강원', '충북', '충남', '전북', '전남', '경북', '경남', '제주', '부산', '대구', '인천', '광주', '대전', '울산', '세종', '경기'}\n",
    "\n",
    "# 전체 지역\n",
    "all_area = area2018.union(area2020)\n",
    "len(all_area)\n",
    "# 겹치는 지역\n",
    "intersection_area = area2018.intersection(area2020)\n",
    "len(intersection_area)"
   ]
  },
  {
   "cell_type": "markdown",
   "metadata": {},
   "source": [
    "### disabled\n",
    "\n",
    "##### 2018\n",
    "\n",
    "- 1 해당사항없음\n",
    "- 2 미등록\n",
    "- 3 장애등록\n",
    "\n",
    "\n",
    "##### 2020\n",
    "\n",
    "- 1 해당사항없음\n",
    "- 2 미등록\n",
    "- 3 장애등록"
   ]
  },
  {
   "cell_type": "code",
   "execution_count": 35,
   "metadata": {},
   "outputs": [
    {
     "data": {
      "text/plain": [
       "1    19803\n",
       "2      533\n",
       "3      321\n",
       "Name: disabled, dtype: int64"
      ]
     },
     "execution_count": 35,
     "metadata": {},
     "output_type": "execute_result"
    }
   ],
   "source": [
    "# 각각의 코드 값 확인\n",
    "df_merge['disabled'].value_counts().sort_values(ascending=False)"
   ]
  },
  {
   "cell_type": "markdown",
   "metadata": {},
   "source": [
    "### expense_f\n",
    "\n",
    "##### 2018\n",
    "- 총 21개\n",
    "\n",
    "- 1\t구입대여-문학\t\n",
    "- 10\t관람-각종 전시회\t\n",
    "- 11\t관람-클래식음악회\t\n",
    "- 12\t관람-전통예술(국악, 풍물, 민속극)\t\n",
    "- 13\t관람-영화\t\n",
    "- 14\t관람-연극(뮤지컬)\t\n",
    "- 15\t관람-무용(서양무용, 한국무용, 현대무용)\t\n",
    "- 16\t관람-연예(방송 프로그램 등) / 콘서트\t\n",
    "- 17\t기타-예술\n",
    "- 18\t기타-예술 창작\t\n",
    "- 19\t기타-인문학(문학,역사,철학)관련 교육비,강습비\n",
    "- 2\t구입대여-비문학\n",
    "- 20\t기타-기타\t\n",
    "- 21\t해당사항 없음\n",
    "- 3\t구입대여-미술\t\n",
    "- 4\t구입대여-클래식음악\t\n",
    "- 5\t구입대여-전통예술\t\n",
    "- 6\t구입대여-영화\t\n",
    "- 7\t구입대여-연극(뮤지컬)\t\n",
    "- 8\t구입대여-무용\n",
    "- 9\t구입대여-대중예술(음악)\t\n",
    "\n",
    "\n",
    "##### 2020\n",
    "\n",
    "- 총 28개\n",
    "\n",
    "- 1 문학(독서 포함)\n",
    "- 10 문학행사(시화전, 도서전시회, 작가와의 대화)\n",
    "- 11 미술(사진/서예/건축/디자인 포함)전시회\t\n",
    "- 12 서양음악(클래식, 오페라, 서양악기 관련)\t\n",
    "- 13 전통예술(국악, 풍물, 민속극)\t\n",
    "- 14 연극\n",
    "- 15 뮤지컬\t\n",
    "- 16 무용(서양무용, 한국무용, 현대무용)\t\n",
    "- 17 영화\t\n",
    "- 18 대중음악(가요콘서트), 연예 기타(강습비, 학원비 등)\n",
    "- 19 문학(글쓰기 포함)\t\n",
    "- 2\t미술(사진/서예/건축/디자인 포함)\t\n",
    "- 20 미술(사진/서예/건축/디자인 포함)\t\n",
    "- 21 서양음악(클래식, 오페라, 서양악기 관련)\t\n",
    "- 22 전통예술(국악, 풍물, 민속극)\n",
    "- 23 연극\t\n",
    "- 24 뮤지컬\t\n",
    "- 25 무용(서양무용, 한국무용, 현대무용)\t\n",
    "- 26 영화\t\n",
    "- 27 대중음악(가요콘서트), 연예\t\n",
    "- 28 해당사항 없음\n",
    "- 3\t서양음악(클래식, 오페라, 서양악기 관련)\n",
    "- 4\t 전통예술(국악, 풍물, 민속극)\n",
    "- 5 연극\t\n",
    "- 6\t뮤지컬\t\n",
    "- 7\t무용(서양무용, 한국무용, 현대무용)\t\n",
    "- 8\t영화\n",
    "- 9\t대중음악(가요콘서트), 연예직접 관람"
   ]
  },
  {
   "cell_type": "code",
   "execution_count": 36,
   "metadata": {},
   "outputs": [
    {
     "data": {
      "text/plain": [
       "13    4898\n",
       "17    4709\n",
       "16    1218\n",
       "14    1177\n",
       "28    1076\n",
       "18    1036\n",
       "1      783\n",
       "21     777\n",
       "8      697\n",
       "15     688\n",
       "12     618\n",
       "10     587\n",
       "9      573\n",
       "6      500\n",
       "11     373\n",
       "2      162\n",
       "5      148\n",
       "7      141\n",
       "19      96\n",
       "3       89\n",
       "4       87\n",
       "27      64\n",
       "20      53\n",
       "26      38\n",
       "22      32\n",
       "24      15\n",
       "23      12\n",
       "25      10\n",
       "Name: expense_f, dtype: int64"
      ]
     },
     "execution_count": 36,
     "metadata": {},
     "output_type": "execute_result"
    }
   ],
   "source": [
    "# 각각의 코드 값 확인\n",
    "df_merge['expense_f'].value_counts().sort_values(ascending=False)"
   ]
  },
  {
   "cell_type": "markdown",
   "metadata": {},
   "source": [
    "### festival_f\n",
    "\n",
    "##### 2018\n",
    "- 총 7개\n",
    "\n",
    "- 1\t①전혀 하고싶지 않다\n",
    "- 2\t②\t\n",
    "- 3\t③\t\n",
    "- 4\t④보통\t\n",
    "- 5\t⑤\t\n",
    "- 6\t⑥\t\n",
    "- 7\t⑦매우 하고싶다)\t\n",
    "\n",
    "\n",
    "##### 2020\n",
    "\n",
    "- 총 7개\n",
    "\n",
    "- 1 ①전혀 없다\t\n",
    "- 2 ②\t\n",
    "- 3 ③\t\n",
    "- 4 ④보통\t\n",
    "- 5 ⑤\t\n",
    "- 6 ⑥\t\n",
    "- 7 ⑦매우 그렇다"
   ]
  },
  {
   "cell_type": "code",
   "execution_count": 37,
   "metadata": {},
   "outputs": [
    {
     "data": {
      "text/plain": [
       "5    7052\n",
       "6    5927\n",
       "4    4645\n",
       "7    1479\n",
       "3     779\n",
       "2     433\n",
       "1     342\n",
       "Name: festival_f, dtype: int64"
      ]
     },
     "execution_count": 37,
     "metadata": {},
     "output_type": "execute_result"
    }
   ],
   "source": [
    "# 각각의 코드 값 확인\n",
    "df_merge['festival_f'].value_counts().sort_values(ascending=False)"
   ]
  },
  {
   "cell_type": "code",
   "execution_count": null,
   "metadata": {},
   "outputs": [],
   "source": []
  },
  {
   "cell_type": "code",
   "execution_count": null,
   "metadata": {},
   "outputs": [],
   "source": []
  },
  {
   "cell_type": "code",
   "execution_count": null,
   "metadata": {},
   "outputs": [],
   "source": []
  },
  {
   "cell_type": "code",
   "execution_count": null,
   "metadata": {},
   "outputs": [],
   "source": []
  }
 ],
 "metadata": {
  "kernelspec": {
   "display_name": "Python 3",
   "language": "python",
   "name": "python3"
  },
  "language_info": {
   "codemirror_mode": {
    "name": "ipython",
    "version": 3
   },
   "file_extension": ".py",
   "mimetype": "text/x-python",
   "name": "python",
   "nbconvert_exporter": "python",
   "pygments_lexer": "ipython3",
   "version": "3.6.10"
  }
 },
 "nbformat": 4,
 "nbformat_minor": 4
}

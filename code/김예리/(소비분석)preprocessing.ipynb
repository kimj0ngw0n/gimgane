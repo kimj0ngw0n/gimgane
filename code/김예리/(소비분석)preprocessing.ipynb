{
 "cells": [
  {
   "cell_type": "markdown",
   "metadata": {},
   "source": [
    "## 소비분석 데이터 전처리\n",
    "\n",
    "\n",
    "- 1번 데이터 셋과 범주 종류 같은지 확인\n",
    "- 카테고리 변경사항 확인 필요한 열들\n",
    "    - 가구소득\n",
    "    - 혼인상태\n",
    "    - 출생년도(나이 구하는 공식(각각의 년도 - 출생년도 + 1), 범주화(15세 미만 삭제))\n",
    "\n",
    "\n",
    "- 열 선택, 이름 변경\n",
    "- 기본 feature 무응답 확인 후 제거\n",
    "- 18년 20년 병합"
   ]
  },
  {
   "cell_type": "code",
   "execution_count": 1,
   "metadata": {},
   "outputs": [],
   "source": [
    "from IPython.core.interactiveshell import InteractiveShell\n",
    "InteractiveShell.ast_node_interactivity=\"all\""
   ]
  },
  {
   "cell_type": "code",
   "execution_count": 2,
   "metadata": {},
   "outputs": [],
   "source": [
    "import pandas as pd\n",
    "import numpy as np"
   ]
  },
  {
   "cell_type": "markdown",
   "metadata": {},
   "source": [
    "### 데이터 로드"
   ]
  },
  {
   "cell_type": "code",
   "execution_count": 3,
   "metadata": {},
   "outputs": [],
   "source": [
    "CS2018_raw = pd.read_csv('../raw_data/소비분석2018.csv', encoding='euc-kr')\n",
    "CS2020_raw = pd.read_csv('../raw_data/소비분석2020.csv', encoding='euc-kr')"
   ]
  },
  {
   "cell_type": "code",
   "execution_count": 4,
   "metadata": {},
   "outputs": [
    {
     "data": {
      "text/html": [
       "<div>\n",
       "<style scoped>\n",
       "    .dataframe tbody tr th:only-of-type {\n",
       "        vertical-align: middle;\n",
       "    }\n",
       "\n",
       "    .dataframe tbody tr th {\n",
       "        vertical-align: top;\n",
       "    }\n",
       "\n",
       "    .dataframe thead th {\n",
       "        text-align: right;\n",
       "    }\n",
       "</style>\n",
       "<table border=\"1\" class=\"dataframe\">\n",
       "  <thead>\n",
       "    <tr style=\"text-align: right;\">\n",
       "      <th></th>\n",
       "      <th>ID</th>\n",
       "      <th>DE1</th>\n",
       "      <th>DE2</th>\n",
       "      <th>DE3</th>\n",
       "      <th>DE4</th>\n",
       "      <th>DE5</th>\n",
       "      <th>DE6</th>\n",
       "      <th>DE7</th>\n",
       "      <th>DE8</th>\n",
       "      <th>DE9</th>\n",
       "      <th>...</th>\n",
       "      <th>ADQ3_2A1</th>\n",
       "      <th>ADQ3_2A2</th>\n",
       "      <th>ADQ3_3A1</th>\n",
       "      <th>ADQ3_3A2</th>\n",
       "      <th>ADQ3_4</th>\n",
       "      <th>ADQ3_5</th>\n",
       "      <th>ADQ3_6</th>\n",
       "      <th>ADQ3_6A</th>\n",
       "      <th>wtb1</th>\n",
       "      <th>wtb2</th>\n",
       "    </tr>\n",
       "  </thead>\n",
       "  <tbody>\n",
       "    <tr>\n",
       "      <th>0</th>\n",
       "      <td>529</td>\n",
       "      <td>1</td>\n",
       "      <td>6</td>\n",
       "      <td>2</td>\n",
       "      <td>6</td>\n",
       "      <td>1</td>\n",
       "      <td>140</td>\n",
       "      <td>1</td>\n",
       "      <td>140</td>\n",
       "      <td>2</td>\n",
       "      <td>...</td>\n",
       "      <td>10.0</td>\n",
       "      <td>0.0</td>\n",
       "      <td>20.0</td>\n",
       "      <td>0.0</td>\n",
       "      <td>1.0</td>\n",
       "      <td>4.0</td>\n",
       "      <td>11.0</td>\n",
       "      <td>NaN</td>\n",
       "      <td>75.729294</td>\n",
       "      <td>0.37627</td>\n",
       "    </tr>\n",
       "  </tbody>\n",
       "</table>\n",
       "<p>1 rows × 199 columns</p>\n",
       "</div>"
      ],
      "text/plain": [
       "    ID  DE1  DE2  DE3  DE4  DE5  DE6  DE7  DE8  DE9  ...  ADQ3_2A1  ADQ3_2A2  \\\n",
       "0  529    1    6    2    6    1  140    1  140    2  ...      10.0       0.0   \n",
       "\n",
       "   ADQ3_3A1  ADQ3_3A2  ADQ3_4  ADQ3_5  ADQ3_6  ADQ3_6A       wtb1     wtb2  \n",
       "0      20.0       0.0     1.0     4.0    11.0      NaN  75.729294  0.37627  \n",
       "\n",
       "[1 rows x 199 columns]"
      ]
     },
     "execution_count": 4,
     "metadata": {},
     "output_type": "execute_result"
    },
    {
     "data": {
      "text/html": [
       "<div>\n",
       "<style scoped>\n",
       "    .dataframe tbody tr th:only-of-type {\n",
       "        vertical-align: middle;\n",
       "    }\n",
       "\n",
       "    .dataframe tbody tr th {\n",
       "        vertical-align: top;\n",
       "    }\n",
       "\n",
       "    .dataframe thead th {\n",
       "        text-align: right;\n",
       "    }\n",
       "</style>\n",
       "<table border=\"1\" class=\"dataframe\">\n",
       "  <thead>\n",
       "    <tr style=\"text-align: right;\">\n",
       "      <th></th>\n",
       "      <th>date</th>\n",
       "      <th>ID</th>\n",
       "      <th>GU</th>\n",
       "      <th>NUM_1</th>\n",
       "      <th>FAM15</th>\n",
       "      <th>HOUSE</th>\n",
       "      <th>LIFE</th>\n",
       "      <th>SQ1_1</th>\n",
       "      <th>SQ1_2</th>\n",
       "      <th>SQ1_3</th>\n",
       "      <th>...</th>\n",
       "      <th>wtb1</th>\n",
       "      <th>wtb2</th>\n",
       "      <th>DEW1</th>\n",
       "      <th>DEW2</th>\n",
       "      <th>DEW3</th>\n",
       "      <th>DEW4</th>\n",
       "      <th>DEW5</th>\n",
       "      <th>DEW6</th>\n",
       "      <th>DEW7</th>\n",
       "      <th>DEW8</th>\n",
       "    </tr>\n",
       "  </thead>\n",
       "  <tbody>\n",
       "    <tr>\n",
       "      <th>0</th>\n",
       "      <td>20211101</td>\n",
       "      <td>2</td>\n",
       "      <td>110</td>\n",
       "      <td>4</td>\n",
       "      <td>4</td>\n",
       "      <td>1</td>\n",
       "      <td>1</td>\n",
       "      <td>1</td>\n",
       "      <td>1</td>\n",
       "      <td>1960</td>\n",
       "      <td>...</td>\n",
       "      <td>132.431</td>\n",
       "      <td>0.654</td>\n",
       "      <td>1.0</td>\n",
       "      <td>6.0</td>\n",
       "      <td>2.0</td>\n",
       "      <td>6.0</td>\n",
       "      <td>1.0</td>\n",
       "      <td>110.0</td>\n",
       "      <td>1.0</td>\n",
       "      <td>3.0</td>\n",
       "    </tr>\n",
       "  </tbody>\n",
       "</table>\n",
       "<p>1 rows × 189 columns</p>\n",
       "</div>"
      ],
      "text/plain": [
       "       date  ID   GU  NUM_1  FAM15  HOUSE  LIFE  SQ1_1  SQ1_2  SQ1_3  ...  \\\n",
       "0  20211101   2  110      4      4      1     1      1      1   1960  ...   \n",
       "\n",
       "      wtb1   wtb2  DEW1  DEW2  DEW3  DEW4  DEW5   DEW6  DEW7  DEW8  \n",
       "0  132.431  0.654   1.0   6.0   2.0   6.0   1.0  110.0   1.0   3.0  \n",
       "\n",
       "[1 rows x 189 columns]"
      ]
     },
     "execution_count": 4,
     "metadata": {},
     "output_type": "execute_result"
    }
   ],
   "source": [
    "CS2018_raw.head(1)\n",
    "CS2020_raw.head(1)"
   ]
  },
  {
   "cell_type": "code",
   "execution_count": 5,
   "metadata": {},
   "outputs": [
    {
     "data": {
      "text/plain": [
       "(42991, 199)"
      ]
     },
     "execution_count": 5,
     "metadata": {},
     "output_type": "execute_result"
    },
    {
     "data": {
      "text/plain": [
       "(40085, 189)"
      ]
     },
     "execution_count": 5,
     "metadata": {},
     "output_type": "execute_result"
    }
   ],
   "source": [
    "CS2018_raw.shape\n",
    "CS2020_raw.shape"
   ]
  },
  {
   "cell_type": "markdown",
   "metadata": {},
   "source": [
    "### 데이터 전처리"
   ]
  },
  {
   "attachments": {},
   "cell_type": "markdown",
   "metadata": {},
   "source": [
    "#### 필요있는 열만 추출, 이름 변경\n",
    "\n",
    "- 성별\n",
    "- 학력별\n",
    "- 소득별\n",
    "- 혼인상태별\n",
    "- 고용형태별\n",
    "- 출생년도\n",
    "- 문11. 문화 활동_연간총비용1) 전시회 관람\n",
    "- 문11. 문화 활동_연간총비용1) 박물관관람\n",
    "- 문11. 문화 활동_연간총비용1) 음악 및 무용 발표회 관람\n",
    "- 문11. 문화 활동_연간총비용1) 전통예술공연 관람\n",
    "- 문11. 문화 활동_연간총비용1) 연극 공연 관람\n",
    "- 문11. 문화 활동_연간총비용1) 극장에서 영화관람\n",
    "- 문11. 문화 활동_연간총비용1) 대중공연 관람\n",
    "- 문화 활동 연간 총비용 합계"
   ]
  },
  {
   "cell_type": "markdown",
   "metadata": {},
   "source": [
    "#### 2018년 & 2020년 데이터 정리"
   ]
  },
  {
   "cell_type": "code",
   "execution_count": 6,
   "metadata": {},
   "outputs": [
    {
     "data": {
      "text/plain": [
       "Index(['ID', 'DE1', 'DE2', 'DE3', 'DE4', 'DE5', 'DE6', 'DE7', 'DE8', 'DE9',\n",
       "       ...\n",
       "       'ADQ3_2A1', 'ADQ3_2A2', 'ADQ3_3A1', 'ADQ3_3A2', 'ADQ3_4', 'ADQ3_5',\n",
       "       'ADQ3_6', 'ADQ3_6A', 'wtb1', 'wtb2'],\n",
       "      dtype='object', length=199)"
      ]
     },
     "execution_count": 6,
     "metadata": {},
     "output_type": "execute_result"
    }
   ],
   "source": [
    "CS2018_raw.columns"
   ]
  },
  {
   "cell_type": "code",
   "execution_count": 7,
   "metadata": {},
   "outputs": [],
   "source": [
    "# 2018년 필요한 열 추출\n",
    "CS2018 = CS2018_raw[['DE1', 'DE3', 'DE4', 'DE5', 'DE11', 'ABIR', \n",
    "                     'AQ11_1_2', 'AQ11_1_4', 'AQ11_1_6', 'AQ11_1_8',\n",
    "                     'AQ11_1_10', 'AQ11_1_12', 'AQ11_1_14'\n",
    "                    ]]"
   ]
  },
  {
   "cell_type": "code",
   "execution_count": 8,
   "metadata": {},
   "outputs": [
    {
     "data": {
      "text/html": [
       "<div>\n",
       "<style scoped>\n",
       "    .dataframe tbody tr th:only-of-type {\n",
       "        vertical-align: middle;\n",
       "    }\n",
       "\n",
       "    .dataframe tbody tr th {\n",
       "        vertical-align: top;\n",
       "    }\n",
       "\n",
       "    .dataframe thead th {\n",
       "        text-align: right;\n",
       "    }\n",
       "</style>\n",
       "<table border=\"1\" class=\"dataframe\">\n",
       "  <thead>\n",
       "    <tr style=\"text-align: right;\">\n",
       "      <th></th>\n",
       "      <th>DE1</th>\n",
       "      <th>DE3</th>\n",
       "      <th>DE4</th>\n",
       "      <th>DE5</th>\n",
       "      <th>DE11</th>\n",
       "      <th>ABIR</th>\n",
       "      <th>AQ11_1_2</th>\n",
       "      <th>AQ11_1_4</th>\n",
       "      <th>AQ11_1_6</th>\n",
       "      <th>AQ11_1_8</th>\n",
       "      <th>AQ11_1_10</th>\n",
       "      <th>AQ11_1_12</th>\n",
       "      <th>AQ11_1_14</th>\n",
       "    </tr>\n",
       "  </thead>\n",
       "  <tbody>\n",
       "    <tr>\n",
       "      <th>0</th>\n",
       "      <td>1</td>\n",
       "      <td>2</td>\n",
       "      <td>6</td>\n",
       "      <td>1</td>\n",
       "      <td>4.0</td>\n",
       "      <td>1948</td>\n",
       "      <td>NaN</td>\n",
       "      <td>NaN</td>\n",
       "      <td>NaN</td>\n",
       "      <td>NaN</td>\n",
       "      <td>NaN</td>\n",
       "      <td>NaN</td>\n",
       "      <td>NaN</td>\n",
       "    </tr>\n",
       "  </tbody>\n",
       "</table>\n",
       "</div>"
      ],
      "text/plain": [
       "   DE1  DE3  DE4  DE5  DE11  ABIR  AQ11_1_2  AQ11_1_4  AQ11_1_6  AQ11_1_8  \\\n",
       "0    1    2    6    1   4.0  1948       NaN       NaN       NaN       NaN   \n",
       "\n",
       "   AQ11_1_10  AQ11_1_12  AQ11_1_14  \n",
       "0        NaN        NaN        NaN  "
      ]
     },
     "execution_count": 8,
     "metadata": {},
     "output_type": "execute_result"
    }
   ],
   "source": [
    "CS2018.head(1)"
   ]
  },
  {
   "cell_type": "code",
   "execution_count": 9,
   "metadata": {},
   "outputs": [],
   "source": [
    "# 2020년 필요한 열 추출\n",
    "CS2020 = CS2020_raw[['SQ1_2', 'ADQ1', 'ADQ3_5', 'SQ1_4',\n",
    "                    'ADQ3_1', 'SQ1_3', 'AQ12B1', 'AQ12B2',\n",
    "                    'AQ12B3', 'AQ12B4', 'AQ12B5', 'AQ12B6', 'AQ12B7'\n",
    "                    ]]"
   ]
  },
  {
   "cell_type": "code",
   "execution_count": 10,
   "metadata": {},
   "outputs": [
    {
     "data": {
      "text/html": [
       "<div>\n",
       "<style scoped>\n",
       "    .dataframe tbody tr th:only-of-type {\n",
       "        vertical-align: middle;\n",
       "    }\n",
       "\n",
       "    .dataframe tbody tr th {\n",
       "        vertical-align: top;\n",
       "    }\n",
       "\n",
       "    .dataframe thead th {\n",
       "        text-align: right;\n",
       "    }\n",
       "</style>\n",
       "<table border=\"1\" class=\"dataframe\">\n",
       "  <thead>\n",
       "    <tr style=\"text-align: right;\">\n",
       "      <th></th>\n",
       "      <th>SQ1_2</th>\n",
       "      <th>ADQ1</th>\n",
       "      <th>ADQ3_5</th>\n",
       "      <th>SQ1_4</th>\n",
       "      <th>ADQ3_1</th>\n",
       "      <th>SQ1_3</th>\n",
       "      <th>AQ12B1</th>\n",
       "      <th>AQ12B2</th>\n",
       "      <th>AQ12B3</th>\n",
       "      <th>AQ12B4</th>\n",
       "      <th>AQ12B5</th>\n",
       "      <th>AQ12B6</th>\n",
       "      <th>AQ12B7</th>\n",
       "    </tr>\n",
       "  </thead>\n",
       "  <tbody>\n",
       "    <tr>\n",
       "      <th>0</th>\n",
       "      <td>1</td>\n",
       "      <td>4</td>\n",
       "      <td>12.0</td>\n",
       "      <td>1</td>\n",
       "      <td>5.0</td>\n",
       "      <td>1960</td>\n",
       "      <td>NaN</td>\n",
       "      <td>NaN</td>\n",
       "      <td>NaN</td>\n",
       "      <td>NaN</td>\n",
       "      <td>NaN</td>\n",
       "      <td>NaN</td>\n",
       "      <td>NaN</td>\n",
       "    </tr>\n",
       "  </tbody>\n",
       "</table>\n",
       "</div>"
      ],
      "text/plain": [
       "   SQ1_2  ADQ1  ADQ3_5  SQ1_4  ADQ3_1  SQ1_3  AQ12B1  AQ12B2  AQ12B3  AQ12B4  \\\n",
       "0      1     4    12.0      1     5.0   1960     NaN     NaN     NaN     NaN   \n",
       "\n",
       "   AQ12B5  AQ12B6  AQ12B7  \n",
       "0     NaN     NaN     NaN  "
      ]
     },
     "execution_count": 10,
     "metadata": {},
     "output_type": "execute_result"
    }
   ],
   "source": [
    "CS2020.head(1)"
   ]
  },
  {
   "cell_type": "code",
   "execution_count": 11,
   "metadata": {},
   "outputs": [],
   "source": [
    "CS2018 = CS2018[['DE1', \n",
    "                 'DE3', \n",
    "                 'DE4', \n",
    "                 'DE5', \n",
    "                 'DE11', \n",
    "                 'ABIR', \n",
    "                 'AQ11_1_2', \n",
    "                 'AQ11_1_4', \n",
    "                 'AQ11_1_6', \n",
    "                 'AQ11_1_8',\n",
    "                 'AQ11_1_10', \n",
    "                 'AQ11_1_12', \n",
    "                 'AQ11_1_14',\n",
    "                ]]"
   ]
  },
  {
   "cell_type": "code",
   "execution_count": 12,
   "metadata": {},
   "outputs": [],
   "source": [
    "CS2018.columns = [\n",
    "    'sex',\n",
    "    'education',\n",
    "    'income',\n",
    "    'married',\n",
    "    'work',\n",
    "    'age',\n",
    "    'exhibition_price',\n",
    "    'museum_price',\n",
    "    'art_price',\n",
    "    'traditional_price',\n",
    "    'theater_price',\n",
    "    'movie_price',\n",
    "    'performance_price',\n",
    "]"
   ]
  },
  {
   "cell_type": "code",
   "execution_count": 13,
   "metadata": {},
   "outputs": [
    {
     "data": {
      "text/plain": [
       "Index(['sex', 'education', 'income', 'married', 'work', 'age',\n",
       "       'exhibition_price', 'museum_price', 'art_price', 'traditional_price',\n",
       "       'theater_price', 'movie_price', 'performance_price'],\n",
       "      dtype='object')"
      ]
     },
     "execution_count": 13,
     "metadata": {},
     "output_type": "execute_result"
    }
   ],
   "source": [
    "CS2018.columns"
   ]
  },
  {
   "cell_type": "code",
   "execution_count": 14,
   "metadata": {},
   "outputs": [
    {
     "data": {
      "text/plain": [
       "(42991, 13)"
      ]
     },
     "execution_count": 14,
     "metadata": {},
     "output_type": "execute_result"
    }
   ],
   "source": [
    "CS2018.shape"
   ]
  },
  {
   "cell_type": "code",
   "execution_count": 15,
   "metadata": {},
   "outputs": [
    {
     "data": {
      "text/html": [
       "<div>\n",
       "<style scoped>\n",
       "    .dataframe tbody tr th:only-of-type {\n",
       "        vertical-align: middle;\n",
       "    }\n",
       "\n",
       "    .dataframe tbody tr th {\n",
       "        vertical-align: top;\n",
       "    }\n",
       "\n",
       "    .dataframe thead th {\n",
       "        text-align: right;\n",
       "    }\n",
       "</style>\n",
       "<table border=\"1\" class=\"dataframe\">\n",
       "  <thead>\n",
       "    <tr style=\"text-align: right;\">\n",
       "      <th></th>\n",
       "      <th>sex</th>\n",
       "      <th>education</th>\n",
       "      <th>income</th>\n",
       "      <th>married</th>\n",
       "      <th>work</th>\n",
       "      <th>age</th>\n",
       "      <th>exhibition_price</th>\n",
       "      <th>museum_price</th>\n",
       "      <th>art_price</th>\n",
       "      <th>traditional_price</th>\n",
       "      <th>theater_price</th>\n",
       "      <th>movie_price</th>\n",
       "      <th>performance_price</th>\n",
       "    </tr>\n",
       "  </thead>\n",
       "  <tbody>\n",
       "    <tr>\n",
       "      <th>0</th>\n",
       "      <td>1</td>\n",
       "      <td>2</td>\n",
       "      <td>6</td>\n",
       "      <td>1</td>\n",
       "      <td>4.0</td>\n",
       "      <td>1948</td>\n",
       "      <td>NaN</td>\n",
       "      <td>NaN</td>\n",
       "      <td>NaN</td>\n",
       "      <td>NaN</td>\n",
       "      <td>NaN</td>\n",
       "      <td>NaN</td>\n",
       "      <td>NaN</td>\n",
       "    </tr>\n",
       "    <tr>\n",
       "      <th>1</th>\n",
       "      <td>2</td>\n",
       "      <td>2</td>\n",
       "      <td>6</td>\n",
       "      <td>1</td>\n",
       "      <td>NaN</td>\n",
       "      <td>1948</td>\n",
       "      <td>NaN</td>\n",
       "      <td>NaN</td>\n",
       "      <td>NaN</td>\n",
       "      <td>NaN</td>\n",
       "      <td>NaN</td>\n",
       "      <td>NaN</td>\n",
       "      <td>NaN</td>\n",
       "    </tr>\n",
       "    <tr>\n",
       "      <th>2</th>\n",
       "      <td>2</td>\n",
       "      <td>2</td>\n",
       "      <td>5</td>\n",
       "      <td>1</td>\n",
       "      <td>NaN</td>\n",
       "      <td>1956</td>\n",
       "      <td>NaN</td>\n",
       "      <td>NaN</td>\n",
       "      <td>NaN</td>\n",
       "      <td>NaN</td>\n",
       "      <td>NaN</td>\n",
       "      <td>30000.0</td>\n",
       "      <td>NaN</td>\n",
       "    </tr>\n",
       "    <tr>\n",
       "      <th>3</th>\n",
       "      <td>1</td>\n",
       "      <td>2</td>\n",
       "      <td>5</td>\n",
       "      <td>1</td>\n",
       "      <td>4.0</td>\n",
       "      <td>1950</td>\n",
       "      <td>NaN</td>\n",
       "      <td>NaN</td>\n",
       "      <td>NaN</td>\n",
       "      <td>NaN</td>\n",
       "      <td>NaN</td>\n",
       "      <td>NaN</td>\n",
       "      <td>NaN</td>\n",
       "    </tr>\n",
       "    <tr>\n",
       "      <th>4</th>\n",
       "      <td>1</td>\n",
       "      <td>3</td>\n",
       "      <td>6</td>\n",
       "      <td>1</td>\n",
       "      <td>3.0</td>\n",
       "      <td>1980</td>\n",
       "      <td>NaN</td>\n",
       "      <td>NaN</td>\n",
       "      <td>NaN</td>\n",
       "      <td>NaN</td>\n",
       "      <td>NaN</td>\n",
       "      <td>30000.0</td>\n",
       "      <td>NaN</td>\n",
       "    </tr>\n",
       "  </tbody>\n",
       "</table>\n",
       "</div>"
      ],
      "text/plain": [
       "   sex  education  income  married  work   age  exhibition_price  \\\n",
       "0    1          2       6        1   4.0  1948               NaN   \n",
       "1    2          2       6        1   NaN  1948               NaN   \n",
       "2    2          2       5        1   NaN  1956               NaN   \n",
       "3    1          2       5        1   4.0  1950               NaN   \n",
       "4    1          3       6        1   3.0  1980               NaN   \n",
       "\n",
       "   museum_price  art_price  traditional_price  theater_price  movie_price  \\\n",
       "0           NaN        NaN                NaN            NaN          NaN   \n",
       "1           NaN        NaN                NaN            NaN          NaN   \n",
       "2           NaN        NaN                NaN            NaN      30000.0   \n",
       "3           NaN        NaN                NaN            NaN          NaN   \n",
       "4           NaN        NaN                NaN            NaN      30000.0   \n",
       "\n",
       "   performance_price  \n",
       "0                NaN  \n",
       "1                NaN  \n",
       "2                NaN  \n",
       "3                NaN  \n",
       "4                NaN  "
      ]
     },
     "execution_count": 15,
     "metadata": {},
     "output_type": "execute_result"
    },
    {
     "data": {
      "text/html": [
       "<div>\n",
       "<style scoped>\n",
       "    .dataframe tbody tr th:only-of-type {\n",
       "        vertical-align: middle;\n",
       "    }\n",
       "\n",
       "    .dataframe tbody tr th {\n",
       "        vertical-align: top;\n",
       "    }\n",
       "\n",
       "    .dataframe thead th {\n",
       "        text-align: right;\n",
       "    }\n",
       "</style>\n",
       "<table border=\"1\" class=\"dataframe\">\n",
       "  <thead>\n",
       "    <tr style=\"text-align: right;\">\n",
       "      <th></th>\n",
       "      <th>sex</th>\n",
       "      <th>education</th>\n",
       "      <th>income</th>\n",
       "      <th>married</th>\n",
       "      <th>work</th>\n",
       "      <th>age</th>\n",
       "      <th>exhibition_price</th>\n",
       "      <th>museum_price</th>\n",
       "      <th>art_price</th>\n",
       "      <th>traditional_price</th>\n",
       "      <th>theater_price</th>\n",
       "      <th>movie_price</th>\n",
       "      <th>performance_price</th>\n",
       "    </tr>\n",
       "  </thead>\n",
       "  <tbody>\n",
       "    <tr>\n",
       "      <th>42986</th>\n",
       "      <td>1</td>\n",
       "      <td>2</td>\n",
       "      <td>1</td>\n",
       "      <td>3</td>\n",
       "      <td>2.0</td>\n",
       "      <td>1956</td>\n",
       "      <td>NaN</td>\n",
       "      <td>NaN</td>\n",
       "      <td>NaN</td>\n",
       "      <td>NaN</td>\n",
       "      <td>NaN</td>\n",
       "      <td>NaN</td>\n",
       "      <td>NaN</td>\n",
       "    </tr>\n",
       "    <tr>\n",
       "      <th>42987</th>\n",
       "      <td>2</td>\n",
       "      <td>1</td>\n",
       "      <td>4</td>\n",
       "      <td>1</td>\n",
       "      <td>2.0</td>\n",
       "      <td>1956</td>\n",
       "      <td>NaN</td>\n",
       "      <td>NaN</td>\n",
       "      <td>NaN</td>\n",
       "      <td>NaN</td>\n",
       "      <td>NaN</td>\n",
       "      <td>NaN</td>\n",
       "      <td>NaN</td>\n",
       "    </tr>\n",
       "    <tr>\n",
       "      <th>42988</th>\n",
       "      <td>1</td>\n",
       "      <td>2</td>\n",
       "      <td>4</td>\n",
       "      <td>1</td>\n",
       "      <td>4.0</td>\n",
       "      <td>1960</td>\n",
       "      <td>NaN</td>\n",
       "      <td>NaN</td>\n",
       "      <td>NaN</td>\n",
       "      <td>NaN</td>\n",
       "      <td>NaN</td>\n",
       "      <td>NaN</td>\n",
       "      <td>NaN</td>\n",
       "    </tr>\n",
       "    <tr>\n",
       "      <th>42989</th>\n",
       "      <td>2</td>\n",
       "      <td>2</td>\n",
       "      <td>5</td>\n",
       "      <td>1</td>\n",
       "      <td>2.0</td>\n",
       "      <td>1974</td>\n",
       "      <td>NaN</td>\n",
       "      <td>0.0</td>\n",
       "      <td>NaN</td>\n",
       "      <td>0.0</td>\n",
       "      <td>NaN</td>\n",
       "      <td>0.0</td>\n",
       "      <td>NaN</td>\n",
       "    </tr>\n",
       "    <tr>\n",
       "      <th>42990</th>\n",
       "      <td>1</td>\n",
       "      <td>3</td>\n",
       "      <td>5</td>\n",
       "      <td>1</td>\n",
       "      <td>1.0</td>\n",
       "      <td>1974</td>\n",
       "      <td>NaN</td>\n",
       "      <td>NaN</td>\n",
       "      <td>NaN</td>\n",
       "      <td>NaN</td>\n",
       "      <td>NaN</td>\n",
       "      <td>50000.0</td>\n",
       "      <td>NaN</td>\n",
       "    </tr>\n",
       "  </tbody>\n",
       "</table>\n",
       "</div>"
      ],
      "text/plain": [
       "       sex  education  income  married  work   age  exhibition_price  \\\n",
       "42986    1          2       1        3   2.0  1956               NaN   \n",
       "42987    2          1       4        1   2.0  1956               NaN   \n",
       "42988    1          2       4        1   4.0  1960               NaN   \n",
       "42989    2          2       5        1   2.0  1974               NaN   \n",
       "42990    1          3       5        1   1.0  1974               NaN   \n",
       "\n",
       "       museum_price  art_price  traditional_price  theater_price  movie_price  \\\n",
       "42986           NaN        NaN                NaN            NaN          NaN   \n",
       "42987           NaN        NaN                NaN            NaN          NaN   \n",
       "42988           NaN        NaN                NaN            NaN          NaN   \n",
       "42989           0.0        NaN                0.0            NaN          0.0   \n",
       "42990           NaN        NaN                NaN            NaN      50000.0   \n",
       "\n",
       "       performance_price  \n",
       "42986                NaN  \n",
       "42987                NaN  \n",
       "42988                NaN  \n",
       "42989                NaN  \n",
       "42990                NaN  "
      ]
     },
     "execution_count": 15,
     "metadata": {},
     "output_type": "execute_result"
    }
   ],
   "source": [
    "CS2018.head()\n",
    "CS2018.tail()"
   ]
  },
  {
   "cell_type": "code",
   "execution_count": 16,
   "metadata": {},
   "outputs": [],
   "source": [
    "CS2020 = CS2020[['SQ1_2', \n",
    "                 'ADQ1', \n",
    "                 'ADQ3_5', \n",
    "                 'SQ1_4',\n",
    "                 'ADQ3_1', \n",
    "                 'SQ1_3', \n",
    "                 'AQ12B1', \n",
    "                 'AQ12B2',\n",
    "                 'AQ12B3', \n",
    "                 'AQ12B4', \n",
    "                 'AQ12B5', \n",
    "                 'AQ12B6', \n",
    "                 'AQ12B7',\n",
    "                ]]"
   ]
  },
  {
   "cell_type": "code",
   "execution_count": 17,
   "metadata": {},
   "outputs": [],
   "source": [
    "CS2020.columns = [\n",
    "    'sex',\n",
    "    'education',\n",
    "    'income',\n",
    "    'married',\n",
    "    'work',\n",
    "    'age',\n",
    "    'exhibition_price',\n",
    "    'museum_price',\n",
    "    'art_price',\n",
    "    'traditional_price',\n",
    "    'theater_price',\n",
    "    'movie_price',\n",
    "    'performance_price',\n",
    "]"
   ]
  },
  {
   "cell_type": "code",
   "execution_count": 18,
   "metadata": {},
   "outputs": [
    {
     "data": {
      "text/plain": [
       "Index(['sex', 'education', 'income', 'married', 'work', 'age',\n",
       "       'exhibition_price', 'museum_price', 'art_price', 'traditional_price',\n",
       "       'theater_price', 'movie_price', 'performance_price'],\n",
       "      dtype='object')"
      ]
     },
     "execution_count": 18,
     "metadata": {},
     "output_type": "execute_result"
    }
   ],
   "source": [
    "CS2020.columns"
   ]
  },
  {
   "cell_type": "code",
   "execution_count": 19,
   "metadata": {},
   "outputs": [
    {
     "data": {
      "text/plain": [
       "(40085, 13)"
      ]
     },
     "execution_count": 19,
     "metadata": {},
     "output_type": "execute_result"
    }
   ],
   "source": [
    "CS2020.shape"
   ]
  },
  {
   "cell_type": "markdown",
   "metadata": {},
   "source": [
    "#### 출생년도 범주화\n",
    "- 15세 미만 삭제"
   ]
  },
  {
   "cell_type": "code",
   "execution_count": 20,
   "metadata": {},
   "outputs": [
    {
     "data": {
      "text/plain": [
       "0    71\n",
       "1    71\n",
       "2    63\n",
       "3    69\n",
       "4    39\n",
       "Name: age, dtype: int64"
      ]
     },
     "execution_count": 20,
     "metadata": {},
     "output_type": "execute_result"
    }
   ],
   "source": [
    "# 출생년도 계산 후 열에 적용 - 2018\n",
    "def cal_age_2018(values):\n",
    "    age = 2018-values + 1\n",
    "    return age \n",
    "\n",
    "CS2018['age'] = CS2018['age'].apply(cal_age_2018)\n",
    "CS2018['age'].head(5)"
   ]
  },
  {
   "cell_type": "code",
   "execution_count": 21,
   "metadata": {},
   "outputs": [
    {
     "data": {
      "text/plain": [
       "0    61\n",
       "1    59\n",
       "2    26\n",
       "3    38\n",
       "4    17\n",
       "Name: age, dtype: int64"
      ]
     },
     "execution_count": 21,
     "metadata": {},
     "output_type": "execute_result"
    }
   ],
   "source": [
    "# 출생년도 계산 후 열에 적용 - 2020\n",
    "def cal_age_2020(values):\n",
    "    age = 2020-values + 1\n",
    "    return age \n",
    "\n",
    "CS2020['age'] = CS2020['age'].apply(cal_age_2020)\n",
    "CS2020['age'].head(5)"
   ]
  },
  {
   "cell_type": "code",
   "execution_count": 22,
   "metadata": {},
   "outputs": [
    {
     "data": {
      "text/html": [
       "<div>\n",
       "<style scoped>\n",
       "    .dataframe tbody tr th:only-of-type {\n",
       "        vertical-align: middle;\n",
       "    }\n",
       "\n",
       "    .dataframe tbody tr th {\n",
       "        vertical-align: top;\n",
       "    }\n",
       "\n",
       "    .dataframe thead th {\n",
       "        text-align: right;\n",
       "    }\n",
       "</style>\n",
       "<table border=\"1\" class=\"dataframe\">\n",
       "  <thead>\n",
       "    <tr style=\"text-align: right;\">\n",
       "      <th></th>\n",
       "      <th>sex</th>\n",
       "      <th>education</th>\n",
       "      <th>income</th>\n",
       "      <th>married</th>\n",
       "      <th>work</th>\n",
       "      <th>age</th>\n",
       "      <th>exhibition_price</th>\n",
       "      <th>museum_price</th>\n",
       "      <th>art_price</th>\n",
       "      <th>traditional_price</th>\n",
       "      <th>theater_price</th>\n",
       "      <th>movie_price</th>\n",
       "      <th>performance_price</th>\n",
       "    </tr>\n",
       "  </thead>\n",
       "  <tbody>\n",
       "  </tbody>\n",
       "</table>\n",
       "</div>"
      ],
      "text/plain": [
       "Empty DataFrame\n",
       "Columns: [sex, education, income, married, work, age, exhibition_price, museum_price, art_price, traditional_price, theater_price, movie_price, performance_price]\n",
       "Index: []"
      ]
     },
     "execution_count": 22,
     "metadata": {},
     "output_type": "execute_result"
    },
    {
     "data": {
      "text/html": [
       "<div>\n",
       "<style scoped>\n",
       "    .dataframe tbody tr th:only-of-type {\n",
       "        vertical-align: middle;\n",
       "    }\n",
       "\n",
       "    .dataframe tbody tr th {\n",
       "        vertical-align: top;\n",
       "    }\n",
       "\n",
       "    .dataframe thead th {\n",
       "        text-align: right;\n",
       "    }\n",
       "</style>\n",
       "<table border=\"1\" class=\"dataframe\">\n",
       "  <thead>\n",
       "    <tr style=\"text-align: right;\">\n",
       "      <th></th>\n",
       "      <th>sex</th>\n",
       "      <th>education</th>\n",
       "      <th>income</th>\n",
       "      <th>married</th>\n",
       "      <th>work</th>\n",
       "      <th>age</th>\n",
       "      <th>exhibition_price</th>\n",
       "      <th>museum_price</th>\n",
       "      <th>art_price</th>\n",
       "      <th>traditional_price</th>\n",
       "      <th>theater_price</th>\n",
       "      <th>movie_price</th>\n",
       "      <th>performance_price</th>\n",
       "    </tr>\n",
       "  </thead>\n",
       "  <tbody>\n",
       "  </tbody>\n",
       "</table>\n",
       "</div>"
      ],
      "text/plain": [
       "Empty DataFrame\n",
       "Columns: [sex, education, income, married, work, age, exhibition_price, museum_price, art_price, traditional_price, theater_price, movie_price, performance_price]\n",
       "Index: []"
      ]
     },
     "execution_count": 22,
     "metadata": {},
     "output_type": "execute_result"
    }
   ],
   "source": [
    "# 15세 미만 삭제 - 15세 미만 없음\n",
    "CS2018[CS2018.age < 15]\n",
    "CS2020[CS2020.age < 15]"
   ]
  },
  {
   "cell_type": "code",
   "execution_count": 23,
   "metadata": {},
   "outputs": [],
   "source": [
    "# 출생년도 범주화 함수\n",
    "def age_ctg(values):\n",
    "    # 15-19세 (15세는 없으므로 19세 이하로 범주화)\n",
    "    if values <= 19:\n",
    "        return 1\n",
    "    # 20대\n",
    "    elif values > 19 and values <= 29:\n",
    "        return 2\n",
    "    # 30대\n",
    "    elif values > 29 and values <= 39:\n",
    "        return 3\n",
    "    # 40대\n",
    "    elif values > 39 and values <= 49:\n",
    "        return 4\n",
    "    # 50대\n",
    "    elif values > 49 and values <= 59:\n",
    "        return 5\n",
    "    # 60대\n",
    "    elif values > 59 and values <= 69:\n",
    "        return 6\n",
    "    # 70대 이상\n",
    "    else:\n",
    "        return 7"
   ]
  },
  {
   "cell_type": "code",
   "execution_count": 24,
   "metadata": {},
   "outputs": [
    {
     "data": {
      "text/plain": [
       "0    7\n",
       "1    7\n",
       "2    6\n",
       "3    6\n",
       "4    3\n",
       "Name: age, dtype: int64"
      ]
     },
     "execution_count": 24,
     "metadata": {},
     "output_type": "execute_result"
    },
    {
     "data": {
      "text/plain": [
       "0    6\n",
       "1    5\n",
       "2    2\n",
       "3    3\n",
       "4    1\n",
       "Name: age, dtype: int64"
      ]
     },
     "execution_count": 24,
     "metadata": {},
     "output_type": "execute_result"
    }
   ],
   "source": [
    "# 출생년도 범주화\n",
    "CS2018['age'] = CS2018['age'].apply(age_ctg)\n",
    "CS2018['age'].head(5)\n",
    "\n",
    "CS2020['age'] = CS2020['age'].apply(age_ctg)\n",
    "CS2020['age'].head(5)"
   ]
  },
  {
   "cell_type": "markdown",
   "metadata": {},
   "source": [
    "### NA값 처리 - 범주형"
   ]
  },
  {
   "cell_type": "code",
   "execution_count": 25,
   "metadata": {},
   "outputs": [
    {
     "name": "stdout",
     "output_type": "stream",
     "text": [
      "<class 'pandas.core.frame.DataFrame'>\n",
      "RangeIndex: 42991 entries, 0 to 42990\n",
      "Data columns (total 13 columns):\n",
      " #   Column             Non-Null Count  Dtype  \n",
      "---  ------             --------------  -----  \n",
      " 0   sex                42991 non-null  int64  \n",
      " 1   education          42991 non-null  int64  \n",
      " 2   income             42991 non-null  int64  \n",
      " 3   married            42991 non-null  int64  \n",
      " 4   work               26108 non-null  float64\n",
      " 5   age                42991 non-null  int64  \n",
      " 6   exhibition_price   4179 non-null   float64\n",
      " 7   museum_price       5606 non-null   float64\n",
      " 8   art_price          1589 non-null   float64\n",
      " 9   traditional_price  1772 non-null   float64\n",
      " 10  theater_price      6536 non-null   float64\n",
      " 11  movie_price        26964 non-null  float64\n",
      " 12  performance_price  2453 non-null   float64\n",
      "dtypes: float64(8), int64(5)\n",
      "memory usage: 4.3 MB\n"
     ]
    }
   ],
   "source": [
    "CS2018.info()"
   ]
  },
  {
   "cell_type": "code",
   "execution_count": 26,
   "metadata": {},
   "outputs": [
    {
     "name": "stdout",
     "output_type": "stream",
     "text": [
      "<class 'pandas.core.frame.DataFrame'>\n",
      "RangeIndex: 40085 entries, 0 to 40084\n",
      "Data columns (total 13 columns):\n",
      " #   Column             Non-Null Count  Dtype  \n",
      "---  ------             --------------  -----  \n",
      " 0   sex                40085 non-null  int64  \n",
      " 1   education          40085 non-null  int64  \n",
      " 2   income             27489 non-null  float64\n",
      " 3   married            40085 non-null  int64  \n",
      " 4   work               27489 non-null  float64\n",
      " 5   age                40085 non-null  int64  \n",
      " 6   exhibition_price   2666 non-null   float64\n",
      " 7   museum_price       3520 non-null   float64\n",
      " 8   art_price          8465 non-null   float64\n",
      " 9   traditional_price  24967 non-null  float64\n",
      " 10  theater_price      7118 non-null   float64\n",
      " 11  movie_price        7145 non-null   float64\n",
      " 12  performance_price  4100 non-null   float64\n",
      "dtypes: float64(9), int64(4)\n",
      "memory usage: 4.0 MB\n"
     ]
    }
   ],
   "source": [
    "CS2020.info()"
   ]
  },
  {
   "cell_type": "code",
   "execution_count": 27,
   "metadata": {},
   "outputs": [
    {
     "data": {
      "text/plain": [
       "sex                      0\n",
       "education                0\n",
       "income                   0\n",
       "married                  0\n",
       "work                 16883\n",
       "age                      0\n",
       "exhibition_price     38812\n",
       "museum_price         37385\n",
       "art_price            41402\n",
       "traditional_price    41219\n",
       "theater_price        36455\n",
       "movie_price          16027\n",
       "performance_price    40538\n",
       "dtype: int64"
      ]
     },
     "execution_count": 27,
     "metadata": {},
     "output_type": "execute_result"
    }
   ],
   "source": [
    "CS2018.isna().sum()"
   ]
  },
  {
   "cell_type": "code",
   "execution_count": 28,
   "metadata": {},
   "outputs": [
    {
     "data": {
      "text/plain": [
       "sex                      0\n",
       "education                0\n",
       "income               12596\n",
       "married                  0\n",
       "work                 12596\n",
       "age                      0\n",
       "exhibition_price     37419\n",
       "museum_price         36565\n",
       "art_price            31620\n",
       "traditional_price    15118\n",
       "theater_price        32967\n",
       "movie_price          32940\n",
       "performance_price    35985\n",
       "dtype: int64"
      ]
     },
     "execution_count": 28,
     "metadata": {},
     "output_type": "execute_result"
    }
   ],
   "source": [
    "CS2020.isna().sum()"
   ]
  },
  {
   "cell_type": "markdown",
   "metadata": {},
   "source": [
    "#### 2018  범주형 결측치 제거\n",
    "- work"
   ]
  },
  {
   "cell_type": "code",
   "execution_count": 29,
   "metadata": {},
   "outputs": [],
   "source": [
    "CS2018 = CS2018[CS2018.work.notnull()]"
   ]
  },
  {
   "cell_type": "code",
   "execution_count": 30,
   "metadata": {},
   "outputs": [
    {
     "data": {
      "text/plain": [
       "sex                      0\n",
       "education                0\n",
       "income                   0\n",
       "married                  0\n",
       "work                     0\n",
       "age                      0\n",
       "exhibition_price     23696\n",
       "museum_price         22966\n",
       "art_price            25106\n",
       "traditional_price    25174\n",
       "theater_price        21865\n",
       "movie_price           8860\n",
       "performance_price    24563\n",
       "dtype: int64"
      ]
     },
     "execution_count": 30,
     "metadata": {},
     "output_type": "execute_result"
    }
   ],
   "source": [
    "CS2018.isna().sum() # 범주형 변수 결측치 처리 완료"
   ]
  },
  {
   "cell_type": "markdown",
   "metadata": {},
   "source": [
    "#### 2020  범주형 결측치 제거\n",
    "- income\n",
    "- work"
   ]
  },
  {
   "cell_type": "code",
   "execution_count": 31,
   "metadata": {},
   "outputs": [],
   "source": [
    "CS2020 = CS2020[CS2020.income.notnull()]\n",
    "CS2020 = CS2020[CS2020.work.notnull()]"
   ]
  },
  {
   "cell_type": "code",
   "execution_count": 32,
   "metadata": {},
   "outputs": [
    {
     "data": {
      "text/plain": [
       "sex                      0\n",
       "education                0\n",
       "income                   0\n",
       "married                  0\n",
       "work                     0\n",
       "age                      0\n",
       "exhibition_price     25521\n",
       "museum_price         24713\n",
       "art_price            21142\n",
       "traditional_price     9651\n",
       "theater_price        22199\n",
       "movie_price          22342\n",
       "performance_price    24307\n",
       "dtype: int64"
      ]
     },
     "execution_count": 32,
     "metadata": {},
     "output_type": "execute_result"
    }
   ],
   "source": [
    "CS2020.isna().sum() "
   ]
  },
  {
   "cell_type": "markdown",
   "metadata": {},
   "source": [
    "### 범주형 데이터의 코드값 통일"
   ]
  },
  {
   "cell_type": "code",
   "execution_count": 33,
   "metadata": {},
   "outputs": [],
   "source": [
    "# 코드 통일이 필요한 열 이름\n",
    "need_setting_columns = [\n",
    "    'education',\n",
    "    'income',\n",
    "    'married',\n",
    "    'work',\n",
    "    \n",
    "]"
   ]
  },
  {
   "cell_type": "code",
   "execution_count": 34,
   "metadata": {
    "scrolled": true
   },
   "outputs": [
    {
     "name": "stdout",
     "output_type": "stream",
     "text": [
      "2018년\n"
     ]
    },
    {
     "data": {
      "text/plain": [
       "1     1076\n",
       "2     8380\n",
       "3    16258\n",
       "4      394\n",
       "Name: education, dtype: int64"
      ]
     },
     "execution_count": 34,
     "metadata": {},
     "output_type": "execute_result"
    },
    {
     "data": {
      "text/plain": [
       "1      122\n",
       "2      920\n",
       "3     2590\n",
       "4     4512\n",
       "5     5150\n",
       "6    12814\n",
       "Name: income, dtype: int64"
      ]
     },
     "execution_count": 34,
     "metadata": {},
     "output_type": "execute_result"
    },
    {
     "data": {
      "text/plain": [
       "1    18551\n",
       "2     5237\n",
       "3     1358\n",
       "5      952\n",
       "6       10\n",
       "Name: married, dtype: int64"
      ]
     },
     "execution_count": 34,
     "metadata": {},
     "output_type": "execute_result"
    },
    {
     "data": {
      "text/plain": [
       "1.0    18535\n",
       "2.0     2819\n",
       "3.0     2987\n",
       "4.0     1463\n",
       "5.0      304\n",
       "Name: work, dtype: int64"
      ]
     },
     "execution_count": 34,
     "metadata": {},
     "output_type": "execute_result"
    },
    {
     "name": "stdout",
     "output_type": "stream",
     "text": [
      "2020년\n"
     ]
    },
    {
     "data": {
      "text/plain": [
       "1        5\n",
       "2      154\n",
       "3      492\n",
       "4     5948\n",
       "5     4141\n",
       "6    14441\n",
       "7     2308\n",
       "Name: education, dtype: int64"
      ]
     },
     "execution_count": 34,
     "metadata": {},
     "output_type": "execute_result"
    },
    {
     "data": {
      "text/plain": [
       "1.0      510\n",
       "2.0      589\n",
       "3.0     1202\n",
       "4.0     2610\n",
       "5.0     4509\n",
       "6.0     3902\n",
       "7.0     4396\n",
       "8.0     2428\n",
       "9.0     2120\n",
       "10.0    1163\n",
       "11.0    1128\n",
       "12.0     557\n",
       "13.0     538\n",
       "14.0     290\n",
       "15.0     338\n",
       "16.0     201\n",
       "17.0     248\n",
       "18.0     415\n",
       "19.0     345\n",
       "Name: income, dtype: int64"
      ]
     },
     "execution_count": 34,
     "metadata": {},
     "output_type": "execute_result"
    },
    {
     "data": {
      "text/plain": [
       "1    19644\n",
       "2     5844\n",
       "3      988\n",
       "4      106\n",
       "5      902\n",
       "6        5\n",
       "Name: married, dtype: int64"
      ]
     },
     "execution_count": 34,
     "metadata": {},
     "output_type": "execute_result"
    },
    {
     "data": {
      "text/plain": [
       "1.0    19520\n",
       "2.0     2664\n",
       "3.0      599\n",
       "4.0      719\n",
       "5.0     1215\n",
       "6.0     2521\n",
       "7.0      251\n",
       "Name: work, dtype: int64"
      ]
     },
     "execution_count": 34,
     "metadata": {},
     "output_type": "execute_result"
    }
   ],
   "source": [
    "# 코드값 통일이 필요한 열들의\n",
    "# 통일 전 카테고리 출력\n",
    "\n",
    "# 2018년 work, 2020년 work 코드값 실수형\n",
    "\n",
    "print('2018년')\n",
    "for column in need_setting_columns:\n",
    "    CS2018[column].value_counts().sort_index()\n",
    "    \n",
    "print('2020년')\n",
    "for column in need_setting_columns:\n",
    "    CS2020[column].value_counts().sort_index()"
   ]
  },
  {
   "cell_type": "code",
   "execution_count": 35,
   "metadata": {},
   "outputs": [
    {
     "data": {
      "text/plain": [
       "array([2, 3, 1, 4], dtype=int64)"
      ]
     },
     "execution_count": 35,
     "metadata": {},
     "output_type": "execute_result"
    },
    {
     "data": {
      "text/plain": [
       "array([6, 5, 4, 3, 1, 2], dtype=int64)"
      ]
     },
     "execution_count": 35,
     "metadata": {},
     "output_type": "execute_result"
    },
    {
     "data": {
      "text/plain": [
       "array([1, 5, 3, 2, 6], dtype=int64)"
      ]
     },
     "execution_count": 35,
     "metadata": {},
     "output_type": "execute_result"
    },
    {
     "data": {
      "text/plain": [
       "array([4., 3., 5., 1., 2.])"
      ]
     },
     "execution_count": 35,
     "metadata": {},
     "output_type": "execute_result"
    },
    {
     "data": {
      "text/plain": [
       "array([4, 5, 6, 3, 2, 7, 1], dtype=int64)"
      ]
     },
     "execution_count": 35,
     "metadata": {},
     "output_type": "execute_result"
    },
    {
     "data": {
      "text/plain": [
       "array([12.,  8.,  7., 11.,  9.,  6., 14.,  5.,  4.,  1., 17.,  3., 16.,\n",
       "       18., 13., 15., 10.,  2., 19.])"
      ]
     },
     "execution_count": 35,
     "metadata": {},
     "output_type": "execute_result"
    },
    {
     "data": {
      "text/plain": [
       "array([1, 5, 2, 3, 4, 6], dtype=int64)"
      ]
     },
     "execution_count": 35,
     "metadata": {},
     "output_type": "execute_result"
    },
    {
     "data": {
      "text/plain": [
       "array([5., 1., 6., 2., 7., 4., 3.])"
      ]
     },
     "execution_count": 35,
     "metadata": {},
     "output_type": "execute_result"
    }
   ],
   "source": [
    "#  결측치 제거 후 코드값 확인\n",
    "CS2018.education.unique()\n",
    "CS2018.income.unique()\n",
    "CS2018.married.unique()\n",
    "CS2018.work.unique()\n",
    "\n",
    "CS2020.education.unique()\n",
    "CS2020.income.unique()\n",
    "CS2020.married.unique()\n",
    "CS2020.work.unique()"
   ]
  },
  {
   "cell_type": "code",
   "execution_count": 36,
   "metadata": {},
   "outputs": [],
   "source": [
    "# '코드값 변경 이전 : 이후 딕셔너리'를 포함한 리스트 2018년 \n",
    "\n",
    "setting_codes_2018 = [\n",
    "    # education\n",
    "    {\n",
    "        1 : 2,\n",
    "        2 : 3,\n",
    "        3 : 4,\n",
    "        4 : 4,\n",
    "    },\n",
    "    # income\n",
    "    {\n",
    "        1 : 1,\n",
    "        2 : 1,\n",
    "        3 : 3,\n",
    "        4 : 4,\n",
    "        5 : 5,\n",
    "        6 : 6,\n",
    "\n",
    "    },\n",
    "    # married\n",
    "    {\n",
    "        2 : 1,\n",
    "        6 : 1,\n",
    "        1 : 2,\n",
    "        3 : 3,\n",
    "        5 : 3,\n",
    "    },\n",
    "    \n",
    "    # work\n",
    "    {\n",
    "        1.0 : 1,\n",
    "        2.0 : 1,\n",
    "        4.0 : 2,\n",
    "        3.0 : 3,\n",
    "        5.0 : 4,\n",
    "    },\n",
    "]\n",
    "\n",
    "# work 코드값 실수형, 6번 코드에 해당하는 값 없음"
   ]
  },
  {
   "cell_type": "code",
   "execution_count": 37,
   "metadata": {},
   "outputs": [],
   "source": [
    "# '코드값 변경 이전 : 이후 딕셔너리'를 포함한 리스트 2020년 \n",
    "\n",
    "setting_codes_2020 = [\n",
    "    # education\n",
    "    {\n",
    "        1 : 1,\n",
    "        2 : 1,\n",
    "        3 : 2,\n",
    "        4 : 3,\n",
    "        5 : 4,\n",
    "        6 : 4,\n",
    "        7 : 4,\n",
    "    },\n",
    "    # income\n",
    "    {\n",
    "        1 : 1,\n",
    "        2 : 1,\n",
    "        3 : 2,\n",
    "        4 : 2,\n",
    "        5 : 3,\n",
    "        6 : 3,\n",
    "        7 : 4,\n",
    "        8 : 4,\n",
    "        9 : 5,\n",
    "        10 : 5,\n",
    "        11 : 6,\n",
    "        12 : 6,\n",
    "        13 : 7,\n",
    "        14 : 7,\n",
    "        15 : 7,\n",
    "        16 : 7,\n",
    "        17 : 7,\n",
    "        18 : 7,\n",
    "        19 : 7,\n",
    "    },\n",
    "    # married\n",
    "    {\n",
    "        2 : 1,\n",
    "        6 : 1,\n",
    "        1 : 2,\n",
    "        3 : 3,\n",
    "        4 : 3,\n",
    "        5 : 3,\n",
    "    },\n",
    "    \n",
    "    # work\n",
    "    {\n",
    "        1.0 : 1,\n",
    "        2.0 : 1,\n",
    "        3.0 : 1,\n",
    "        4.0 : 1,\n",
    "        5.0 : 2,\n",
    "        6.0 : 3,\n",
    "        7.0 : 4,\n",
    "    },\n",
    "]\n",
    "\n",
    "# work 코드값 실수형"
   ]
  },
  {
   "cell_type": "code",
   "execution_count": 38,
   "metadata": {},
   "outputs": [],
   "source": [
    "# 코드 통일 함수 선언\n",
    "def get_list_setting_column(column, setting_prev_next):\n",
    "    setting_done_list = []\n",
    "    \n",
    "    for code_value in column:\n",
    "        setting_done_list.append(setting_prev_next[code_value])\n",
    "    \n",
    "    return setting_done_list"
   ]
  },
  {
   "cell_type": "code",
   "execution_count": 39,
   "metadata": {},
   "outputs": [],
   "source": [
    "# 코드 통일이 필요한 모든 열에 대해 코드 통일\n",
    "for i, column in enumerate(need_setting_columns):\n",
    "   \n",
    "    CS2018[column] = get_list_setting_column(CS2018[column], setting_codes_2018[i])\n",
    "    \n",
    "    CS2020[column] = get_list_setting_column(CS2020[column], setting_codes_2020[i])"
   ]
  },
  {
   "cell_type": "code",
   "execution_count": 40,
   "metadata": {},
   "outputs": [
    {
     "name": "stdout",
     "output_type": "stream",
     "text": [
      "2018년\n"
     ]
    },
    {
     "data": {
      "text/plain": [
       "2     1076\n",
       "3     8380\n",
       "4    16652\n",
       "Name: education, dtype: int64"
      ]
     },
     "execution_count": 40,
     "metadata": {},
     "output_type": "execute_result"
    },
    {
     "data": {
      "text/plain": [
       "1     1042\n",
       "3     2590\n",
       "4     4512\n",
       "5     5150\n",
       "6    12814\n",
       "Name: income, dtype: int64"
      ]
     },
     "execution_count": 40,
     "metadata": {},
     "output_type": "execute_result"
    },
    {
     "data": {
      "text/plain": [
       "1     5247\n",
       "2    18551\n",
       "3     2310\n",
       "Name: married, dtype: int64"
      ]
     },
     "execution_count": 40,
     "metadata": {},
     "output_type": "execute_result"
    },
    {
     "data": {
      "text/plain": [
       "1    21354\n",
       "2     1463\n",
       "3     2987\n",
       "4      304\n",
       "Name: work, dtype: int64"
      ]
     },
     "execution_count": 40,
     "metadata": {},
     "output_type": "execute_result"
    },
    {
     "name": "stdout",
     "output_type": "stream",
     "text": [
      "2020년\n"
     ]
    },
    {
     "data": {
      "text/plain": [
       "1      159\n",
       "2      492\n",
       "3     5948\n",
       "4    20890\n",
       "Name: education, dtype: int64"
      ]
     },
     "execution_count": 40,
     "metadata": {},
     "output_type": "execute_result"
    },
    {
     "data": {
      "text/plain": [
       "1    1099\n",
       "2    3812\n",
       "3    8411\n",
       "4    6824\n",
       "5    3283\n",
       "6    1685\n",
       "7    2375\n",
       "Name: income, dtype: int64"
      ]
     },
     "execution_count": 40,
     "metadata": {},
     "output_type": "execute_result"
    },
    {
     "data": {
      "text/plain": [
       "1     5849\n",
       "2    19644\n",
       "3     1996\n",
       "Name: married, dtype: int64"
      ]
     },
     "execution_count": 40,
     "metadata": {},
     "output_type": "execute_result"
    },
    {
     "data": {
      "text/plain": [
       "1    23502\n",
       "2     1215\n",
       "3     2521\n",
       "4      251\n",
       "Name: work, dtype: int64"
      ]
     },
     "execution_count": 40,
     "metadata": {},
     "output_type": "execute_result"
    }
   ],
   "source": [
    "# 코드값 통일이 필요한 열들의\n",
    "# 통일 후 카테고리 출력\n",
    "print('2018년')\n",
    "for column in need_setting_columns:\n",
    "    CS2018[column].value_counts().sort_index()\n",
    "    \n",
    "print('2020년')\n",
    "for column in need_setting_columns:\n",
    "    CS2020[column].value_counts().sort_index()"
   ]
  },
  {
   "cell_type": "markdown",
   "metadata": {},
   "source": [
    "### 파생변수 생성\n",
    "- 문화 활동 연간 총비용 합계 : total_price "
   ]
  },
  {
   "cell_type": "code",
   "execution_count": 41,
   "metadata": {},
   "outputs": [
    {
     "data": {
      "text/html": [
       "<div>\n",
       "<style scoped>\n",
       "    .dataframe tbody tr th:only-of-type {\n",
       "        vertical-align: middle;\n",
       "    }\n",
       "\n",
       "    .dataframe tbody tr th {\n",
       "        vertical-align: top;\n",
       "    }\n",
       "\n",
       "    .dataframe thead th {\n",
       "        text-align: right;\n",
       "    }\n",
       "</style>\n",
       "<table border=\"1\" class=\"dataframe\">\n",
       "  <thead>\n",
       "    <tr style=\"text-align: right;\">\n",
       "      <th></th>\n",
       "      <th>exhibition_price</th>\n",
       "      <th>museum_price</th>\n",
       "      <th>art_price</th>\n",
       "      <th>traditional_price</th>\n",
       "      <th>theater_price</th>\n",
       "      <th>movie_price</th>\n",
       "      <th>performance_price</th>\n",
       "    </tr>\n",
       "  </thead>\n",
       "  <tbody>\n",
       "    <tr>\n",
       "      <th>0</th>\n",
       "      <td>NaN</td>\n",
       "      <td>NaN</td>\n",
       "      <td>NaN</td>\n",
       "      <td>NaN</td>\n",
       "      <td>NaN</td>\n",
       "      <td>NaN</td>\n",
       "      <td>NaN</td>\n",
       "    </tr>\n",
       "    <tr>\n",
       "      <th>3</th>\n",
       "      <td>NaN</td>\n",
       "      <td>NaN</td>\n",
       "      <td>NaN</td>\n",
       "      <td>NaN</td>\n",
       "      <td>NaN</td>\n",
       "      <td>NaN</td>\n",
       "      <td>NaN</td>\n",
       "    </tr>\n",
       "    <tr>\n",
       "      <th>4</th>\n",
       "      <td>NaN</td>\n",
       "      <td>NaN</td>\n",
       "      <td>NaN</td>\n",
       "      <td>NaN</td>\n",
       "      <td>NaN</td>\n",
       "      <td>30000.0</td>\n",
       "      <td>NaN</td>\n",
       "    </tr>\n",
       "    <tr>\n",
       "      <th>5</th>\n",
       "      <td>40000.0</td>\n",
       "      <td>0.0</td>\n",
       "      <td>50000.0</td>\n",
       "      <td>NaN</td>\n",
       "      <td>NaN</td>\n",
       "      <td>20000.0</td>\n",
       "      <td>NaN</td>\n",
       "    </tr>\n",
       "    <tr>\n",
       "      <th>6</th>\n",
       "      <td>0.0</td>\n",
       "      <td>NaN</td>\n",
       "      <td>NaN</td>\n",
       "      <td>NaN</td>\n",
       "      <td>NaN</td>\n",
       "      <td>50000.0</td>\n",
       "      <td>NaN</td>\n",
       "    </tr>\n",
       "  </tbody>\n",
       "</table>\n",
       "</div>"
      ],
      "text/plain": [
       "   exhibition_price  museum_price  art_price  traditional_price  \\\n",
       "0               NaN           NaN        NaN                NaN   \n",
       "3               NaN           NaN        NaN                NaN   \n",
       "4               NaN           NaN        NaN                NaN   \n",
       "5           40000.0           0.0    50000.0                NaN   \n",
       "6               0.0           NaN        NaN                NaN   \n",
       "\n",
       "   theater_price  movie_price  performance_price  \n",
       "0            NaN          NaN                NaN  \n",
       "3            NaN          NaN                NaN  \n",
       "4            NaN      30000.0                NaN  \n",
       "5            NaN      20000.0                NaN  \n",
       "6            NaN      50000.0                NaN  "
      ]
     },
     "execution_count": 41,
     "metadata": {},
     "output_type": "execute_result"
    },
    {
     "data": {
      "text/html": [
       "<div>\n",
       "<style scoped>\n",
       "    .dataframe tbody tr th:only-of-type {\n",
       "        vertical-align: middle;\n",
       "    }\n",
       "\n",
       "    .dataframe tbody tr th {\n",
       "        vertical-align: top;\n",
       "    }\n",
       "\n",
       "    .dataframe thead th {\n",
       "        text-align: right;\n",
       "    }\n",
       "</style>\n",
       "<table border=\"1\" class=\"dataframe\">\n",
       "  <thead>\n",
       "    <tr style=\"text-align: right;\">\n",
       "      <th></th>\n",
       "      <th>exhibition_price</th>\n",
       "      <th>museum_price</th>\n",
       "      <th>art_price</th>\n",
       "      <th>traditional_price</th>\n",
       "      <th>theater_price</th>\n",
       "      <th>movie_price</th>\n",
       "      <th>performance_price</th>\n",
       "    </tr>\n",
       "  </thead>\n",
       "  <tbody>\n",
       "    <tr>\n",
       "      <th>0</th>\n",
       "      <td>NaN</td>\n",
       "      <td>NaN</td>\n",
       "      <td>NaN</td>\n",
       "      <td>NaN</td>\n",
       "      <td>NaN</td>\n",
       "      <td>NaN</td>\n",
       "      <td>NaN</td>\n",
       "    </tr>\n",
       "  </tbody>\n",
       "</table>\n",
       "</div>"
      ],
      "text/plain": [
       "   exhibition_price  museum_price  art_price  traditional_price  \\\n",
       "0               NaN           NaN        NaN                NaN   \n",
       "\n",
       "   theater_price  movie_price  performance_price  \n",
       "0            NaN          NaN                NaN  "
      ]
     },
     "execution_count": 41,
     "metadata": {},
     "output_type": "execute_result"
    }
   ],
   "source": [
    "CS2018.iloc[:, 6:].head(5)\n",
    "CS2020.iloc[:, 6:].head(1)"
   ]
  },
  {
   "cell_type": "code",
   "execution_count": 42,
   "metadata": {},
   "outputs": [],
   "source": [
    "CS2018['total_price'] = CS2018.iloc[:, 6:].apply(np.sum, axis=1).astype(int)\n",
    "CS2020['total_price'] = CS2020.iloc[:, 6:].apply(np.sum, axis=1).astype(int)"
   ]
  },
  {
   "cell_type": "code",
   "execution_count": 43,
   "metadata": {},
   "outputs": [
    {
     "data": {
      "text/html": [
       "<div>\n",
       "<style scoped>\n",
       "    .dataframe tbody tr th:only-of-type {\n",
       "        vertical-align: middle;\n",
       "    }\n",
       "\n",
       "    .dataframe tbody tr th {\n",
       "        vertical-align: top;\n",
       "    }\n",
       "\n",
       "    .dataframe thead th {\n",
       "        text-align: right;\n",
       "    }\n",
       "</style>\n",
       "<table border=\"1\" class=\"dataframe\">\n",
       "  <thead>\n",
       "    <tr style=\"text-align: right;\">\n",
       "      <th></th>\n",
       "      <th>total_price</th>\n",
       "    </tr>\n",
       "  </thead>\n",
       "  <tbody>\n",
       "    <tr>\n",
       "      <th>0</th>\n",
       "      <td>0</td>\n",
       "    </tr>\n",
       "    <tr>\n",
       "      <th>3</th>\n",
       "      <td>0</td>\n",
       "    </tr>\n",
       "    <tr>\n",
       "      <th>4</th>\n",
       "      <td>30000</td>\n",
       "    </tr>\n",
       "    <tr>\n",
       "      <th>5</th>\n",
       "      <td>110000</td>\n",
       "    </tr>\n",
       "    <tr>\n",
       "      <th>6</th>\n",
       "      <td>50000</td>\n",
       "    </tr>\n",
       "    <tr>\n",
       "      <th>...</th>\n",
       "      <td>...</td>\n",
       "    </tr>\n",
       "    <tr>\n",
       "      <th>42986</th>\n",
       "      <td>0</td>\n",
       "    </tr>\n",
       "    <tr>\n",
       "      <th>42987</th>\n",
       "      <td>0</td>\n",
       "    </tr>\n",
       "    <tr>\n",
       "      <th>42988</th>\n",
       "      <td>0</td>\n",
       "    </tr>\n",
       "    <tr>\n",
       "      <th>42989</th>\n",
       "      <td>0</td>\n",
       "    </tr>\n",
       "    <tr>\n",
       "      <th>42990</th>\n",
       "      <td>50000</td>\n",
       "    </tr>\n",
       "  </tbody>\n",
       "</table>\n",
       "<p>26108 rows × 1 columns</p>\n",
       "</div>"
      ],
      "text/plain": [
       "       total_price\n",
       "0                0\n",
       "3                0\n",
       "4            30000\n",
       "5           110000\n",
       "6            50000\n",
       "...            ...\n",
       "42986            0\n",
       "42987            0\n",
       "42988            0\n",
       "42989            0\n",
       "42990        50000\n",
       "\n",
       "[26108 rows x 1 columns]"
      ]
     },
     "execution_count": 43,
     "metadata": {},
     "output_type": "execute_result"
    },
    {
     "data": {
      "text/html": [
       "<div>\n",
       "<style scoped>\n",
       "    .dataframe tbody tr th:only-of-type {\n",
       "        vertical-align: middle;\n",
       "    }\n",
       "\n",
       "    .dataframe tbody tr th {\n",
       "        vertical-align: top;\n",
       "    }\n",
       "\n",
       "    .dataframe thead th {\n",
       "        text-align: right;\n",
       "    }\n",
       "</style>\n",
       "<table border=\"1\" class=\"dataframe\">\n",
       "  <thead>\n",
       "    <tr style=\"text-align: right;\">\n",
       "      <th></th>\n",
       "      <th>total_price</th>\n",
       "    </tr>\n",
       "  </thead>\n",
       "  <tbody>\n",
       "    <tr>\n",
       "      <th>0</th>\n",
       "      <td>0</td>\n",
       "    </tr>\n",
       "    <tr>\n",
       "      <th>3</th>\n",
       "      <td>30000</td>\n",
       "    </tr>\n",
       "    <tr>\n",
       "      <th>6</th>\n",
       "      <td>0</td>\n",
       "    </tr>\n",
       "    <tr>\n",
       "      <th>7</th>\n",
       "      <td>120000</td>\n",
       "    </tr>\n",
       "    <tr>\n",
       "      <th>10</th>\n",
       "      <td>0</td>\n",
       "    </tr>\n",
       "    <tr>\n",
       "      <th>...</th>\n",
       "      <td>...</td>\n",
       "    </tr>\n",
       "    <tr>\n",
       "      <th>40080</th>\n",
       "      <td>255000</td>\n",
       "    </tr>\n",
       "    <tr>\n",
       "      <th>40081</th>\n",
       "      <td>832000</td>\n",
       "    </tr>\n",
       "    <tr>\n",
       "      <th>40082</th>\n",
       "      <td>470000</td>\n",
       "    </tr>\n",
       "    <tr>\n",
       "      <th>40083</th>\n",
       "      <td>250000</td>\n",
       "    </tr>\n",
       "    <tr>\n",
       "      <th>40084</th>\n",
       "      <td>10000</td>\n",
       "    </tr>\n",
       "  </tbody>\n",
       "</table>\n",
       "<p>27489 rows × 1 columns</p>\n",
       "</div>"
      ],
      "text/plain": [
       "       total_price\n",
       "0                0\n",
       "3            30000\n",
       "6                0\n",
       "7           120000\n",
       "10               0\n",
       "...            ...\n",
       "40080       255000\n",
       "40081       832000\n",
       "40082       470000\n",
       "40083       250000\n",
       "40084        10000\n",
       "\n",
       "[27489 rows x 1 columns]"
      ]
     },
     "execution_count": 43,
     "metadata": {},
     "output_type": "execute_result"
    }
   ],
   "source": [
    "CS2018[['total_price']]\n",
    "CS2020[['total_price']]"
   ]
  },
  {
   "cell_type": "markdown",
   "metadata": {},
   "source": [
    "### 데이터 병합\n",
    "- 2018 & 2020 데이터 병합"
   ]
  },
  {
   "cell_type": "code",
   "execution_count": 44,
   "metadata": {},
   "outputs": [
    {
     "data": {
      "text/plain": [
       "(26108, 14)"
      ]
     },
     "execution_count": 44,
     "metadata": {},
     "output_type": "execute_result"
    },
    {
     "data": {
      "text/plain": [
       "(27489, 14)"
      ]
     },
     "execution_count": 44,
     "metadata": {},
     "output_type": "execute_result"
    }
   ],
   "source": [
    "# shape 확인\n",
    "CS2018.shape\n",
    "CS2020.shape"
   ]
  },
  {
   "cell_type": "code",
   "execution_count": 45,
   "metadata": {},
   "outputs": [],
   "source": [
    "CS = pd.concat([CS2018, CS2020], axis=0, ignore_index=True)"
   ]
  },
  {
   "cell_type": "code",
   "execution_count": 46,
   "metadata": {},
   "outputs": [
    {
     "name": "stdout",
     "output_type": "stream",
     "text": [
      "<class 'pandas.core.frame.DataFrame'>\n",
      "RangeIndex: 53597 entries, 0 to 53596\n",
      "Data columns (total 14 columns):\n",
      " #   Column             Non-Null Count  Dtype  \n",
      "---  ------             --------------  -----  \n",
      " 0   sex                53597 non-null  int64  \n",
      " 1   education          53597 non-null  int64  \n",
      " 2   income             53597 non-null  int64  \n",
      " 3   married            53597 non-null  int64  \n",
      " 4   work               53597 non-null  int64  \n",
      " 5   age                53597 non-null  int64  \n",
      " 6   exhibition_price   4380 non-null   float64\n",
      " 7   museum_price       5918 non-null   float64\n",
      " 8   art_price          7349 non-null   float64\n",
      " 9   traditional_price  18772 non-null  float64\n",
      " 10  theater_price      9533 non-null   float64\n",
      " 11  movie_price        22395 non-null  float64\n",
      " 12  performance_price  4727 non-null   float64\n",
      " 13  total_price        53597 non-null  int32  \n",
      "dtypes: float64(7), int32(1), int64(6)\n",
      "memory usage: 5.5 MB\n"
     ]
    }
   ],
   "source": [
    "CS.info()\n",
    "# 각각의 문화 활동 float "
   ]
  },
  {
   "cell_type": "markdown",
   "metadata": {},
   "source": [
    "### CSV로 저장"
   ]
  },
  {
   "cell_type": "code",
   "execution_count": 50,
   "metadata": {},
   "outputs": [],
   "source": [
    "CS.to_csv('../data/소비분석.csv', index=False)"
   ]
  },
  {
   "cell_type": "code",
   "execution_count": null,
   "metadata": {},
   "outputs": [],
   "source": []
  }
 ],
 "metadata": {
  "kernelspec": {
   "display_name": "Python 3",
   "language": "python",
   "name": "python3"
  },
  "language_info": {
   "codemirror_mode": {
    "name": "ipython",
    "version": 3
   },
   "file_extension": ".py",
   "mimetype": "text/x-python",
   "name": "python",
   "nbconvert_exporter": "python",
   "pygments_lexer": "ipython3",
   "version": "3.6.10"
  }
 },
 "nbformat": 4,
 "nbformat_minor": 4
}

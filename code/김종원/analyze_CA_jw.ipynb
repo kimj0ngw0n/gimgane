{
 "cells": [
  {
   "cell_type": "markdown",
   "id": "7fe2e3aa",
   "metadata": {},
   "source": [
    "## 소비분석 데이터 분석\n",
    "- 예측된 문화예술활동 횟수에 따른 feature의 빈도를 토대로 소비분석"
   ]
  },
  {
   "cell_type": "code",
   "execution_count": 1,
   "id": "97817264",
   "metadata": {},
   "outputs": [],
   "source": [
    "from IPython.core.interactiveshell import InteractiveShell\n",
    "InteractiveShell.ast_node_interactivity=\"all\""
   ]
  },
  {
   "cell_type": "code",
   "execution_count": 2,
   "id": "899b2334",
   "metadata": {},
   "outputs": [],
   "source": [
    "import pandas as pd\n",
    "import numpy as np\n",
    "import matplotlib.pyplot as plt\n",
    "%matplotlib inline\n",
    "import seaborn as sns"
   ]
  },
  {
   "cell_type": "code",
   "execution_count": 3,
   "id": "abc8c786",
   "metadata": {},
   "outputs": [],
   "source": [
    "# # 경고 메세지 무시하기\n",
    "# import warnings\n",
    "# warnings.filterwarnings('ignore')"
   ]
  },
  {
   "cell_type": "markdown",
   "id": "b356f434",
   "metadata": {},
   "source": [
    "## 데이터 로드\n",
    "- NaN 값은 해당 문화예술활동에 참여하지 않은 사람\n",
    "- 0은 해당 무료 활동에 참여한 사람"
   ]
  },
  {
   "cell_type": "code",
   "execution_count": 4,
   "id": "05fa402c",
   "metadata": {},
   "outputs": [],
   "source": [
    "CA_raw = pd.read_csv('./data/소비분석.csv')"
   ]
  },
  {
   "cell_type": "code",
   "execution_count": 5,
   "id": "8caa4fe9",
   "metadata": {
    "scrolled": false
   },
   "outputs": [
    {
     "data": {
      "text/html": [
       "<div>\n",
       "<style scoped>\n",
       "    .dataframe tbody tr th:only-of-type {\n",
       "        vertical-align: middle;\n",
       "    }\n",
       "\n",
       "    .dataframe tbody tr th {\n",
       "        vertical-align: top;\n",
       "    }\n",
       "\n",
       "    .dataframe thead th {\n",
       "        text-align: right;\n",
       "    }\n",
       "</style>\n",
       "<table border=\"1\" class=\"dataframe\">\n",
       "  <thead>\n",
       "    <tr style=\"text-align: right;\">\n",
       "      <th></th>\n",
       "      <th>sex</th>\n",
       "      <th>education</th>\n",
       "      <th>income</th>\n",
       "      <th>married</th>\n",
       "      <th>work</th>\n",
       "      <th>age</th>\n",
       "      <th>exhibition_price</th>\n",
       "      <th>museum_price</th>\n",
       "      <th>art_price</th>\n",
       "      <th>traditional_price</th>\n",
       "      <th>theater_price</th>\n",
       "      <th>movie_price</th>\n",
       "      <th>performance_price</th>\n",
       "      <th>total_price</th>\n",
       "    </tr>\n",
       "  </thead>\n",
       "  <tbody>\n",
       "    <tr>\n",
       "      <th>0</th>\n",
       "      <td>1</td>\n",
       "      <td>3</td>\n",
       "      <td>6</td>\n",
       "      <td>2</td>\n",
       "      <td>2</td>\n",
       "      <td>7</td>\n",
       "      <td>NaN</td>\n",
       "      <td>NaN</td>\n",
       "      <td>NaN</td>\n",
       "      <td>NaN</td>\n",
       "      <td>NaN</td>\n",
       "      <td>NaN</td>\n",
       "      <td>NaN</td>\n",
       "      <td>0</td>\n",
       "    </tr>\n",
       "    <tr>\n",
       "      <th>1</th>\n",
       "      <td>1</td>\n",
       "      <td>3</td>\n",
       "      <td>5</td>\n",
       "      <td>2</td>\n",
       "      <td>2</td>\n",
       "      <td>6</td>\n",
       "      <td>NaN</td>\n",
       "      <td>NaN</td>\n",
       "      <td>NaN</td>\n",
       "      <td>NaN</td>\n",
       "      <td>NaN</td>\n",
       "      <td>NaN</td>\n",
       "      <td>NaN</td>\n",
       "      <td>0</td>\n",
       "    </tr>\n",
       "    <tr>\n",
       "      <th>2</th>\n",
       "      <td>1</td>\n",
       "      <td>4</td>\n",
       "      <td>6</td>\n",
       "      <td>2</td>\n",
       "      <td>3</td>\n",
       "      <td>3</td>\n",
       "      <td>NaN</td>\n",
       "      <td>NaN</td>\n",
       "      <td>NaN</td>\n",
       "      <td>NaN</td>\n",
       "      <td>NaN</td>\n",
       "      <td>30000.0</td>\n",
       "      <td>NaN</td>\n",
       "      <td>30000</td>\n",
       "    </tr>\n",
       "    <tr>\n",
       "      <th>3</th>\n",
       "      <td>2</td>\n",
       "      <td>4</td>\n",
       "      <td>6</td>\n",
       "      <td>2</td>\n",
       "      <td>4</td>\n",
       "      <td>3</td>\n",
       "      <td>40000.0</td>\n",
       "      <td>0.0</td>\n",
       "      <td>50000.0</td>\n",
       "      <td>NaN</td>\n",
       "      <td>NaN</td>\n",
       "      <td>20000.0</td>\n",
       "      <td>NaN</td>\n",
       "      <td>110000</td>\n",
       "    </tr>\n",
       "    <tr>\n",
       "      <th>4</th>\n",
       "      <td>2</td>\n",
       "      <td>3</td>\n",
       "      <td>6</td>\n",
       "      <td>3</td>\n",
       "      <td>1</td>\n",
       "      <td>6</td>\n",
       "      <td>0.0</td>\n",
       "      <td>NaN</td>\n",
       "      <td>NaN</td>\n",
       "      <td>NaN</td>\n",
       "      <td>NaN</td>\n",
       "      <td>50000.0</td>\n",
       "      <td>NaN</td>\n",
       "      <td>50000</td>\n",
       "    </tr>\n",
       "  </tbody>\n",
       "</table>\n",
       "</div>"
      ],
      "text/plain": [
       "   sex  education  income  married  work  age  exhibition_price  museum_price  \\\n",
       "0    1          3       6        2     2    7               NaN           NaN   \n",
       "1    1          3       5        2     2    6               NaN           NaN   \n",
       "2    1          4       6        2     3    3               NaN           NaN   \n",
       "3    2          4       6        2     4    3           40000.0           0.0   \n",
       "4    2          3       6        3     1    6               0.0           NaN   \n",
       "\n",
       "   art_price  traditional_price  theater_price  movie_price  \\\n",
       "0        NaN                NaN            NaN          NaN   \n",
       "1        NaN                NaN            NaN          NaN   \n",
       "2        NaN                NaN            NaN      30000.0   \n",
       "3    50000.0                NaN            NaN      20000.0   \n",
       "4        NaN                NaN            NaN      50000.0   \n",
       "\n",
       "   performance_price  total_price  \n",
       "0                NaN            0  \n",
       "1                NaN            0  \n",
       "2                NaN        30000  \n",
       "3                NaN       110000  \n",
       "4                NaN        50000  "
      ]
     },
     "execution_count": 5,
     "metadata": {},
     "output_type": "execute_result"
    },
    {
     "name": "stdout",
     "output_type": "stream",
     "text": [
      "<class 'pandas.core.frame.DataFrame'>\n",
      "RangeIndex: 53597 entries, 0 to 53596\n",
      "Data columns (total 14 columns):\n",
      " #   Column             Non-Null Count  Dtype  \n",
      "---  ------             --------------  -----  \n",
      " 0   sex                53597 non-null  int64  \n",
      " 1   education          53597 non-null  int64  \n",
      " 2   income             53597 non-null  int64  \n",
      " 3   married            53597 non-null  int64  \n",
      " 4   work               53597 non-null  int64  \n",
      " 5   age                53597 non-null  int64  \n",
      " 6   exhibition_price   4380 non-null   float64\n",
      " 7   museum_price       5918 non-null   float64\n",
      " 8   art_price          7349 non-null   float64\n",
      " 9   traditional_price  18772 non-null  float64\n",
      " 10  theater_price      9533 non-null   float64\n",
      " 11  movie_price        22395 non-null  float64\n",
      " 12  performance_price  4727 non-null   float64\n",
      " 13  total_price        53597 non-null  int64  \n",
      "dtypes: float64(7), int64(7)\n",
      "memory usage: 5.7 MB\n"
     ]
    },
    {
     "data": {
      "text/plain": [
       "(53597, 14)"
      ]
     },
     "execution_count": 5,
     "metadata": {},
     "output_type": "execute_result"
    }
   ],
   "source": [
    "CA_raw.head()\n",
    "CA_raw.info()\n",
    "CA_raw.shape"
   ]
  },
  {
   "cell_type": "code",
   "execution_count": 6,
   "id": "901f2acb",
   "metadata": {},
   "outputs": [],
   "source": [
    "CA = CA_raw.copy()"
   ]
  },
  {
   "cell_type": "code",
   "execution_count": 7,
   "id": "87980c01",
   "metadata": {},
   "outputs": [],
   "source": [
    "CS_pred_raw = pd.read_csv('./data/CS_pred.csv')"
   ]
  },
  {
   "cell_type": "code",
   "execution_count": 8,
   "id": "d36c27cf",
   "metadata": {},
   "outputs": [
    {
     "data": {
      "text/html": [
       "<div>\n",
       "<style scoped>\n",
       "    .dataframe tbody tr th:only-of-type {\n",
       "        vertical-align: middle;\n",
       "    }\n",
       "\n",
       "    .dataframe tbody tr th {\n",
       "        vertical-align: top;\n",
       "    }\n",
       "\n",
       "    .dataframe thead th {\n",
       "        text-align: right;\n",
       "    }\n",
       "</style>\n",
       "<table border=\"1\" class=\"dataframe\">\n",
       "  <thead>\n",
       "    <tr style=\"text-align: right;\">\n",
       "      <th></th>\n",
       "      <th>view_cnt</th>\n",
       "      <th>where_cnt</th>\n",
       "      <th>attend_cnt</th>\n",
       "      <th>volunteer_cnt</th>\n",
       "      <th>history_cnt</th>\n",
       "      <th>festival_cnt</th>\n",
       "      <th>standard</th>\n",
       "      <th>block</th>\n",
       "      <th>expense</th>\n",
       "      <th>expense_f</th>\n",
       "      <th>...</th>\n",
       "      <th>sex</th>\n",
       "      <th>age</th>\n",
       "      <th>education</th>\n",
       "      <th>married</th>\n",
       "      <th>work</th>\n",
       "      <th>income</th>\n",
       "      <th>sido</th>\n",
       "      <th>disabled</th>\n",
       "      <th>pred</th>\n",
       "      <th>target</th>\n",
       "    </tr>\n",
       "  </thead>\n",
       "  <tbody>\n",
       "    <tr>\n",
       "      <th>0</th>\n",
       "      <td>49</td>\n",
       "      <td>0</td>\n",
       "      <td>0</td>\n",
       "      <td>0</td>\n",
       "      <td>5</td>\n",
       "      <td>0</td>\n",
       "      <td>1</td>\n",
       "      <td>1</td>\n",
       "      <td>14</td>\n",
       "      <td>14</td>\n",
       "      <td>...</td>\n",
       "      <td>2</td>\n",
       "      <td>5</td>\n",
       "      <td>3</td>\n",
       "      <td>1</td>\n",
       "      <td>5</td>\n",
       "      <td>3</td>\n",
       "      <td>1</td>\n",
       "      <td>1</td>\n",
       "      <td>3</td>\n",
       "      <td>3</td>\n",
       "    </tr>\n",
       "    <tr>\n",
       "      <th>1</th>\n",
       "      <td>3</td>\n",
       "      <td>3</td>\n",
       "      <td>3</td>\n",
       "      <td>0</td>\n",
       "      <td>1</td>\n",
       "      <td>0</td>\n",
       "      <td>2</td>\n",
       "      <td>6</td>\n",
       "      <td>14</td>\n",
       "      <td>9</td>\n",
       "      <td>...</td>\n",
       "      <td>2</td>\n",
       "      <td>5</td>\n",
       "      <td>3</td>\n",
       "      <td>2</td>\n",
       "      <td>5</td>\n",
       "      <td>7</td>\n",
       "      <td>1</td>\n",
       "      <td>1</td>\n",
       "      <td>1</td>\n",
       "      <td>1</td>\n",
       "    </tr>\n",
       "    <tr>\n",
       "      <th>2</th>\n",
       "      <td>22</td>\n",
       "      <td>15</td>\n",
       "      <td>0</td>\n",
       "      <td>0</td>\n",
       "      <td>0</td>\n",
       "      <td>0</td>\n",
       "      <td>2</td>\n",
       "      <td>2</td>\n",
       "      <td>14</td>\n",
       "      <td>14</td>\n",
       "      <td>...</td>\n",
       "      <td>2</td>\n",
       "      <td>5</td>\n",
       "      <td>4</td>\n",
       "      <td>3</td>\n",
       "      <td>1</td>\n",
       "      <td>5</td>\n",
       "      <td>1</td>\n",
       "      <td>1</td>\n",
       "      <td>2</td>\n",
       "      <td>2</td>\n",
       "    </tr>\n",
       "    <tr>\n",
       "      <th>3</th>\n",
       "      <td>10</td>\n",
       "      <td>0</td>\n",
       "      <td>0</td>\n",
       "      <td>0</td>\n",
       "      <td>2</td>\n",
       "      <td>2</td>\n",
       "      <td>2</td>\n",
       "      <td>4</td>\n",
       "      <td>17</td>\n",
       "      <td>11</td>\n",
       "      <td>...</td>\n",
       "      <td>1</td>\n",
       "      <td>5</td>\n",
       "      <td>4</td>\n",
       "      <td>2</td>\n",
       "      <td>1</td>\n",
       "      <td>6</td>\n",
       "      <td>1</td>\n",
       "      <td>1</td>\n",
       "      <td>2</td>\n",
       "      <td>2</td>\n",
       "    </tr>\n",
       "    <tr>\n",
       "      <th>4</th>\n",
       "      <td>7</td>\n",
       "      <td>0</td>\n",
       "      <td>0</td>\n",
       "      <td>0</td>\n",
       "      <td>0</td>\n",
       "      <td>0</td>\n",
       "      <td>3</td>\n",
       "      <td>2</td>\n",
       "      <td>15</td>\n",
       "      <td>12</td>\n",
       "      <td>...</td>\n",
       "      <td>2</td>\n",
       "      <td>5</td>\n",
       "      <td>3</td>\n",
       "      <td>2</td>\n",
       "      <td>1</td>\n",
       "      <td>5</td>\n",
       "      <td>1</td>\n",
       "      <td>1</td>\n",
       "      <td>1</td>\n",
       "      <td>1</td>\n",
       "    </tr>\n",
       "  </tbody>\n",
       "</table>\n",
       "<p>5 rows × 26 columns</p>\n",
       "</div>"
      ],
      "text/plain": [
       "   view_cnt  where_cnt  attend_cnt  volunteer_cnt  history_cnt  festival_cnt  \\\n",
       "0        49          0           0              0            5             0   \n",
       "1         3          3           3              0            1             0   \n",
       "2        22         15           0              0            0             0   \n",
       "3        10          0           0              0            2             2   \n",
       "4         7          0           0              0            0             0   \n",
       "\n",
       "   standard  block  expense  expense_f  ...  sex  age  education  married  \\\n",
       "0         1      1       14         14  ...    2    5          3        1   \n",
       "1         2      6       14          9  ...    2    5          3        2   \n",
       "2         2      2       14         14  ...    2    5          4        3   \n",
       "3         2      4       17         11  ...    1    5          4        2   \n",
       "4         3      2       15         12  ...    2    5          3        2   \n",
       "\n",
       "   work  income  sido  disabled  pred  target  \n",
       "0     5       3     1         1     3       3  \n",
       "1     5       7     1         1     1       1  \n",
       "2     1       5     1         1     2       2  \n",
       "3     1       6     1         1     2       2  \n",
       "4     1       5     1         1     1       1  \n",
       "\n",
       "[5 rows x 26 columns]"
      ]
     },
     "execution_count": 8,
     "metadata": {},
     "output_type": "execute_result"
    },
    {
     "name": "stdout",
     "output_type": "stream",
     "text": [
      "<class 'pandas.core.frame.DataFrame'>\n",
      "RangeIndex: 2144 entries, 0 to 2143\n",
      "Data columns (total 26 columns):\n",
      " #   Column         Non-Null Count  Dtype\n",
      "---  ------         --------------  -----\n",
      " 0   view_cnt       2144 non-null   int64\n",
      " 1   where_cnt      2144 non-null   int64\n",
      " 2   attend_cnt     2144 non-null   int64\n",
      " 3   volunteer_cnt  2144 non-null   int64\n",
      " 4   history_cnt    2144 non-null   int64\n",
      " 5   festival_cnt   2144 non-null   int64\n",
      " 6   standard       2144 non-null   int64\n",
      " 7   block          2144 non-null   int64\n",
      " 8   expense        2144 non-null   int64\n",
      " 9   expense_f      2144 non-null   int64\n",
      " 10  difficulty     2144 non-null   int64\n",
      " 11  intention      2144 non-null   int64\n",
      " 12  history        2144 non-null   int64\n",
      " 13  history_f      2144 non-null   int64\n",
      " 14  festival       2144 non-null   int64\n",
      " 15  festival_f     2144 non-null   int64\n",
      " 16  sex            2144 non-null   int64\n",
      " 17  age            2144 non-null   int64\n",
      " 18  education      2144 non-null   int64\n",
      " 19  married        2144 non-null   int64\n",
      " 20  work           2144 non-null   int64\n",
      " 21  income         2144 non-null   int64\n",
      " 22  sido           2144 non-null   int64\n",
      " 23  disabled       2144 non-null   int64\n",
      " 24  pred           2144 non-null   int64\n",
      " 25  target         2144 non-null   int64\n",
      "dtypes: int64(26)\n",
      "memory usage: 435.6 KB\n"
     ]
    },
    {
     "data": {
      "text/plain": [
       "(2144, 26)"
      ]
     },
     "execution_count": 8,
     "metadata": {},
     "output_type": "execute_result"
    }
   ],
   "source": [
    "CS_pred_raw.head()\n",
    "CS_pred_raw.info()\n",
    "CS_pred_raw.shape"
   ]
  },
  {
   "cell_type": "markdown",
   "id": "1126e02d",
   "metadata": {},
   "source": [
    "## 데이터 전처리 - 소비분석 데이터"
   ]
  },
  {
   "cell_type": "markdown",
   "id": "976da64b",
   "metadata": {},
   "source": [
    "### 문화예술 활동에 전혀 참여하지 않은 사람 제외"
   ]
  },
  {
   "cell_type": "code",
   "execution_count": 9,
   "id": "b1bd0243",
   "metadata": {},
   "outputs": [],
   "source": [
    "CA.dropna(subset=['exhibition_price', 'museum_price', 'art_price', 'traditional_price', 'theater_price', 'movie_price', 'performance_price'],\n",
    "          how='all',\n",
    "          axis=0,\n",
    "          inplace=True,\n",
    "         )"
   ]
  },
  {
   "cell_type": "code",
   "execution_count": 10,
   "id": "a050e9d7",
   "metadata": {},
   "outputs": [
    {
     "data": {
      "text/html": [
       "<div>\n",
       "<style scoped>\n",
       "    .dataframe tbody tr th:only-of-type {\n",
       "        vertical-align: middle;\n",
       "    }\n",
       "\n",
       "    .dataframe tbody tr th {\n",
       "        vertical-align: top;\n",
       "    }\n",
       "\n",
       "    .dataframe thead th {\n",
       "        text-align: right;\n",
       "    }\n",
       "</style>\n",
       "<table border=\"1\" class=\"dataframe\">\n",
       "  <thead>\n",
       "    <tr style=\"text-align: right;\">\n",
       "      <th></th>\n",
       "      <th>sex</th>\n",
       "      <th>education</th>\n",
       "      <th>income</th>\n",
       "      <th>married</th>\n",
       "      <th>work</th>\n",
       "      <th>age</th>\n",
       "      <th>exhibition_price</th>\n",
       "      <th>museum_price</th>\n",
       "      <th>art_price</th>\n",
       "      <th>traditional_price</th>\n",
       "      <th>theater_price</th>\n",
       "      <th>movie_price</th>\n",
       "      <th>performance_price</th>\n",
       "      <th>total_price</th>\n",
       "    </tr>\n",
       "  </thead>\n",
       "  <tbody>\n",
       "    <tr>\n",
       "      <th>2</th>\n",
       "      <td>1</td>\n",
       "      <td>4</td>\n",
       "      <td>6</td>\n",
       "      <td>2</td>\n",
       "      <td>3</td>\n",
       "      <td>3</td>\n",
       "      <td>NaN</td>\n",
       "      <td>NaN</td>\n",
       "      <td>NaN</td>\n",
       "      <td>NaN</td>\n",
       "      <td>NaN</td>\n",
       "      <td>30000.0</td>\n",
       "      <td>NaN</td>\n",
       "      <td>30000</td>\n",
       "    </tr>\n",
       "    <tr>\n",
       "      <th>3</th>\n",
       "      <td>2</td>\n",
       "      <td>4</td>\n",
       "      <td>6</td>\n",
       "      <td>2</td>\n",
       "      <td>4</td>\n",
       "      <td>3</td>\n",
       "      <td>40000.0</td>\n",
       "      <td>0.0</td>\n",
       "      <td>50000.0</td>\n",
       "      <td>NaN</td>\n",
       "      <td>NaN</td>\n",
       "      <td>20000.0</td>\n",
       "      <td>NaN</td>\n",
       "      <td>110000</td>\n",
       "    </tr>\n",
       "    <tr>\n",
       "      <th>4</th>\n",
       "      <td>2</td>\n",
       "      <td>3</td>\n",
       "      <td>6</td>\n",
       "      <td>3</td>\n",
       "      <td>1</td>\n",
       "      <td>6</td>\n",
       "      <td>0.0</td>\n",
       "      <td>NaN</td>\n",
       "      <td>NaN</td>\n",
       "      <td>NaN</td>\n",
       "      <td>NaN</td>\n",
       "      <td>50000.0</td>\n",
       "      <td>NaN</td>\n",
       "      <td>50000</td>\n",
       "    </tr>\n",
       "    <tr>\n",
       "      <th>8</th>\n",
       "      <td>1</td>\n",
       "      <td>3</td>\n",
       "      <td>6</td>\n",
       "      <td>2</td>\n",
       "      <td>1</td>\n",
       "      <td>5</td>\n",
       "      <td>NaN</td>\n",
       "      <td>NaN</td>\n",
       "      <td>NaN</td>\n",
       "      <td>NaN</td>\n",
       "      <td>NaN</td>\n",
       "      <td>20000.0</td>\n",
       "      <td>NaN</td>\n",
       "      <td>20000</td>\n",
       "    </tr>\n",
       "    <tr>\n",
       "      <th>9</th>\n",
       "      <td>2</td>\n",
       "      <td>3</td>\n",
       "      <td>6</td>\n",
       "      <td>2</td>\n",
       "      <td>1</td>\n",
       "      <td>5</td>\n",
       "      <td>NaN</td>\n",
       "      <td>NaN</td>\n",
       "      <td>NaN</td>\n",
       "      <td>NaN</td>\n",
       "      <td>20000.0</td>\n",
       "      <td>20000.0</td>\n",
       "      <td>NaN</td>\n",
       "      <td>40000</td>\n",
       "    </tr>\n",
       "  </tbody>\n",
       "</table>\n",
       "</div>"
      ],
      "text/plain": [
       "   sex  education  income  married  work  age  exhibition_price  museum_price  \\\n",
       "2    1          4       6        2     3    3               NaN           NaN   \n",
       "3    2          4       6        2     4    3           40000.0           0.0   \n",
       "4    2          3       6        3     1    6               0.0           NaN   \n",
       "8    1          3       6        2     1    5               NaN           NaN   \n",
       "9    2          3       6        2     1    5               NaN           NaN   \n",
       "\n",
       "   art_price  traditional_price  theater_price  movie_price  \\\n",
       "2        NaN                NaN            NaN      30000.0   \n",
       "3    50000.0                NaN            NaN      20000.0   \n",
       "4        NaN                NaN            NaN      50000.0   \n",
       "8        NaN                NaN            NaN      20000.0   \n",
       "9        NaN                NaN        20000.0      20000.0   \n",
       "\n",
       "   performance_price  total_price  \n",
       "2                NaN        30000  \n",
       "3                NaN       110000  \n",
       "4                NaN        50000  \n",
       "8                NaN        20000  \n",
       "9                NaN        40000  "
      ]
     },
     "execution_count": 10,
     "metadata": {},
     "output_type": "execute_result"
    },
    {
     "data": {
      "text/plain": [
       "(38287, 14)"
      ]
     },
     "execution_count": 10,
     "metadata": {},
     "output_type": "execute_result"
    }
   ],
   "source": [
    "CA.head()\n",
    "CA.shape"
   ]
  },
  {
   "cell_type": "markdown",
   "id": "fa4f6a89",
   "metadata": {},
   "source": [
    "### 50~60대인 사람만 선택"
   ]
  },
  {
   "cell_type": "code",
   "execution_count": 11,
   "id": "410a1c4f",
   "metadata": {},
   "outputs": [],
   "source": [
    "CA = CA[(CA['age'] == 5) | (CA['age'] == 6)]"
   ]
  },
  {
   "cell_type": "code",
   "execution_count": 12,
   "id": "8aa2f029",
   "metadata": {},
   "outputs": [
    {
     "data": {
      "text/html": [
       "<div>\n",
       "<style scoped>\n",
       "    .dataframe tbody tr th:only-of-type {\n",
       "        vertical-align: middle;\n",
       "    }\n",
       "\n",
       "    .dataframe tbody tr th {\n",
       "        vertical-align: top;\n",
       "    }\n",
       "\n",
       "    .dataframe thead th {\n",
       "        text-align: right;\n",
       "    }\n",
       "</style>\n",
       "<table border=\"1\" class=\"dataframe\">\n",
       "  <thead>\n",
       "    <tr style=\"text-align: right;\">\n",
       "      <th></th>\n",
       "      <th>sex</th>\n",
       "      <th>education</th>\n",
       "      <th>income</th>\n",
       "      <th>married</th>\n",
       "      <th>work</th>\n",
       "      <th>age</th>\n",
       "      <th>exhibition_price</th>\n",
       "      <th>museum_price</th>\n",
       "      <th>art_price</th>\n",
       "      <th>traditional_price</th>\n",
       "      <th>theater_price</th>\n",
       "      <th>movie_price</th>\n",
       "      <th>performance_price</th>\n",
       "      <th>total_price</th>\n",
       "    </tr>\n",
       "  </thead>\n",
       "  <tbody>\n",
       "    <tr>\n",
       "      <th>4</th>\n",
       "      <td>2</td>\n",
       "      <td>3</td>\n",
       "      <td>6</td>\n",
       "      <td>3</td>\n",
       "      <td>1</td>\n",
       "      <td>6</td>\n",
       "      <td>0.0</td>\n",
       "      <td>NaN</td>\n",
       "      <td>NaN</td>\n",
       "      <td>NaN</td>\n",
       "      <td>NaN</td>\n",
       "      <td>50000.0</td>\n",
       "      <td>NaN</td>\n",
       "      <td>50000</td>\n",
       "    </tr>\n",
       "    <tr>\n",
       "      <th>8</th>\n",
       "      <td>1</td>\n",
       "      <td>3</td>\n",
       "      <td>6</td>\n",
       "      <td>2</td>\n",
       "      <td>1</td>\n",
       "      <td>5</td>\n",
       "      <td>NaN</td>\n",
       "      <td>NaN</td>\n",
       "      <td>NaN</td>\n",
       "      <td>NaN</td>\n",
       "      <td>NaN</td>\n",
       "      <td>20000.0</td>\n",
       "      <td>NaN</td>\n",
       "      <td>20000</td>\n",
       "    </tr>\n",
       "    <tr>\n",
       "      <th>9</th>\n",
       "      <td>2</td>\n",
       "      <td>3</td>\n",
       "      <td>6</td>\n",
       "      <td>2</td>\n",
       "      <td>1</td>\n",
       "      <td>5</td>\n",
       "      <td>NaN</td>\n",
       "      <td>NaN</td>\n",
       "      <td>NaN</td>\n",
       "      <td>NaN</td>\n",
       "      <td>20000.0</td>\n",
       "      <td>20000.0</td>\n",
       "      <td>NaN</td>\n",
       "      <td>40000</td>\n",
       "    </tr>\n",
       "    <tr>\n",
       "      <th>10</th>\n",
       "      <td>1</td>\n",
       "      <td>3</td>\n",
       "      <td>5</td>\n",
       "      <td>3</td>\n",
       "      <td>1</td>\n",
       "      <td>5</td>\n",
       "      <td>NaN</td>\n",
       "      <td>NaN</td>\n",
       "      <td>NaN</td>\n",
       "      <td>NaN</td>\n",
       "      <td>NaN</td>\n",
       "      <td>0.0</td>\n",
       "      <td>NaN</td>\n",
       "      <td>0</td>\n",
       "    </tr>\n",
       "    <tr>\n",
       "      <th>19</th>\n",
       "      <td>2</td>\n",
       "      <td>3</td>\n",
       "      <td>5</td>\n",
       "      <td>2</td>\n",
       "      <td>1</td>\n",
       "      <td>5</td>\n",
       "      <td>0.0</td>\n",
       "      <td>NaN</td>\n",
       "      <td>NaN</td>\n",
       "      <td>NaN</td>\n",
       "      <td>NaN</td>\n",
       "      <td>10000.0</td>\n",
       "      <td>NaN</td>\n",
       "      <td>10000</td>\n",
       "    </tr>\n",
       "  </tbody>\n",
       "</table>\n",
       "</div>"
      ],
      "text/plain": [
       "    sex  education  income  married  work  age  exhibition_price  \\\n",
       "4     2          3       6        3     1    6               0.0   \n",
       "8     1          3       6        2     1    5               NaN   \n",
       "9     2          3       6        2     1    5               NaN   \n",
       "10    1          3       5        3     1    5               NaN   \n",
       "19    2          3       5        2     1    5               0.0   \n",
       "\n",
       "    museum_price  art_price  traditional_price  theater_price  movie_price  \\\n",
       "4            NaN        NaN                NaN            NaN      50000.0   \n",
       "8            NaN        NaN                NaN            NaN      20000.0   \n",
       "9            NaN        NaN                NaN        20000.0      20000.0   \n",
       "10           NaN        NaN                NaN            NaN          0.0   \n",
       "19           NaN        NaN                NaN            NaN      10000.0   \n",
       "\n",
       "    performance_price  total_price  \n",
       "4                 NaN        50000  \n",
       "8                 NaN        20000  \n",
       "9                 NaN        40000  \n",
       "10                NaN            0  \n",
       "19                NaN        10000  "
      ]
     },
     "execution_count": 12,
     "metadata": {},
     "output_type": "execute_result"
    },
    {
     "data": {
      "text/plain": [
       "(11997, 14)"
      ]
     },
     "execution_count": 12,
     "metadata": {},
     "output_type": "execute_result"
    }
   ],
   "source": [
    "CA.head()\n",
    "CA.shape"
   ]
  },
  {
   "cell_type": "markdown",
   "id": "531af5a9",
   "metadata": {},
   "source": [
    "## 데이터 전처리 - 문화예술활동 조사 데이터"
   ]
  },
  {
   "cell_type": "markdown",
   "id": "b29828b1",
   "metadata": {},
   "source": [
    "### 열 선택\n",
    "- 국민문화예술활동 데이터와 소비분석 데이터가 겹치는 부분만 선택"
   ]
  },
  {
   "cell_type": "code",
   "execution_count": 13,
   "id": "6163ad49",
   "metadata": {},
   "outputs": [],
   "source": [
    "CS_pred = CS_pred_raw[['sex', 'education', 'income', 'married', 'work', 'target', 'pred']]"
   ]
  },
  {
   "cell_type": "code",
   "execution_count": 14,
   "id": "615353e0",
   "metadata": {},
   "outputs": [
    {
     "data": {
      "text/html": [
       "<div>\n",
       "<style scoped>\n",
       "    .dataframe tbody tr th:only-of-type {\n",
       "        vertical-align: middle;\n",
       "    }\n",
       "\n",
       "    .dataframe tbody tr th {\n",
       "        vertical-align: top;\n",
       "    }\n",
       "\n",
       "    .dataframe thead th {\n",
       "        text-align: right;\n",
       "    }\n",
       "</style>\n",
       "<table border=\"1\" class=\"dataframe\">\n",
       "  <thead>\n",
       "    <tr style=\"text-align: right;\">\n",
       "      <th></th>\n",
       "      <th>sex</th>\n",
       "      <th>education</th>\n",
       "      <th>income</th>\n",
       "      <th>married</th>\n",
       "      <th>work</th>\n",
       "      <th>target</th>\n",
       "      <th>pred</th>\n",
       "    </tr>\n",
       "  </thead>\n",
       "  <tbody>\n",
       "    <tr>\n",
       "      <th>0</th>\n",
       "      <td>2</td>\n",
       "      <td>3</td>\n",
       "      <td>3</td>\n",
       "      <td>1</td>\n",
       "      <td>5</td>\n",
       "      <td>3</td>\n",
       "      <td>3</td>\n",
       "    </tr>\n",
       "    <tr>\n",
       "      <th>1</th>\n",
       "      <td>2</td>\n",
       "      <td>3</td>\n",
       "      <td>7</td>\n",
       "      <td>2</td>\n",
       "      <td>5</td>\n",
       "      <td>1</td>\n",
       "      <td>1</td>\n",
       "    </tr>\n",
       "    <tr>\n",
       "      <th>2</th>\n",
       "      <td>2</td>\n",
       "      <td>4</td>\n",
       "      <td>5</td>\n",
       "      <td>3</td>\n",
       "      <td>1</td>\n",
       "      <td>2</td>\n",
       "      <td>2</td>\n",
       "    </tr>\n",
       "    <tr>\n",
       "      <th>3</th>\n",
       "      <td>1</td>\n",
       "      <td>4</td>\n",
       "      <td>6</td>\n",
       "      <td>2</td>\n",
       "      <td>1</td>\n",
       "      <td>2</td>\n",
       "      <td>2</td>\n",
       "    </tr>\n",
       "    <tr>\n",
       "      <th>4</th>\n",
       "      <td>2</td>\n",
       "      <td>3</td>\n",
       "      <td>5</td>\n",
       "      <td>2</td>\n",
       "      <td>1</td>\n",
       "      <td>1</td>\n",
       "      <td>1</td>\n",
       "    </tr>\n",
       "  </tbody>\n",
       "</table>\n",
       "</div>"
      ],
      "text/plain": [
       "   sex  education  income  married  work  target  pred\n",
       "0    2          3       3        1     5       3     3\n",
       "1    2          3       7        2     5       1     1\n",
       "2    2          4       5        3     1       2     2\n",
       "3    1          4       6        2     1       2     2\n",
       "4    2          3       5        2     1       1     1"
      ]
     },
     "execution_count": 14,
     "metadata": {},
     "output_type": "execute_result"
    }
   ],
   "source": [
    "CS_pred.head()"
   ]
  },
  {
   "cell_type": "markdown",
   "id": "1a71f4ed",
   "metadata": {},
   "source": [
    "## 데이터 분석 및 시각화"
   ]
  },
  {
   "cell_type": "markdown",
   "id": "70ffbd42",
   "metadata": {},
   "source": [
    "### 문화예술활동 횟수가 많을 것으로 예측되는 사람들에 대한 feature 빈도 분석"
   ]
  },
  {
   "cell_type": "code",
   "execution_count": 15,
   "id": "b536a427",
   "metadata": {},
   "outputs": [],
   "source": [
    "# 문화예술활동 횟수가 많은 사람들(target = 3) 선택\n",
    "CS_pred_3 = CS_pred[CS_pred['target'] == 3]"
   ]
  },
  {
   "cell_type": "code",
   "execution_count": 16,
   "id": "cf29e894",
   "metadata": {},
   "outputs": [
    {
     "name": "stdout",
     "output_type": "stream",
     "text": [
      "\n",
      " sex 의 비중\n",
      "2    230\n",
      "1    204\n",
      "Name: sex, dtype: int64\n",
      "\n",
      " education 의 비중\n",
      "3    235\n",
      "4    147\n",
      "2     38\n",
      "1     14\n",
      "Name: education, dtype: int64\n",
      "\n",
      " income 의 비중\n",
      "4    90\n",
      "6    84\n",
      "5    83\n",
      "7    76\n",
      "3    54\n",
      "2    33\n",
      "1    14\n",
      "Name: income, dtype: int64\n",
      "\n",
      " married 의 비중\n",
      "2    342\n",
      "3     76\n",
      "1     16\n",
      "Name: married, dtype: int64\n",
      "\n",
      " work 의 비중\n",
      "1    169\n",
      "3    120\n",
      "5    105\n",
      "2     32\n",
      "4      8\n",
      "Name: work, dtype: int64\n"
     ]
    }
   ],
   "source": [
    "# 수치로 확인\n",
    "for column in CS_pred_3.columns[:-2]:\n",
    "    print('\\n', column, '의 비중')\n",
    "    print(CS_pred_3[column].value_counts())"
   ]
  },
  {
   "cell_type": "code",
   "execution_count": 17,
   "id": "403c4c4f",
   "metadata": {
    "scrolled": false
   },
   "outputs": [
    {
     "data": {
      "text/plain": [
       "[Text(0.5, 1.0, 'sex')]"
      ]
     },
     "execution_count": 17,
     "metadata": {},
     "output_type": "execute_result"
    },
    {
     "data": {
      "image/png": "[encoded data removed]",
      "text/plain": [
       "<Figure size 640x480 with 1 Axes>"
      ]
     },
     "metadata": {},
     "output_type": "display_data"
    },
    {
     "data": {
      "text/plain": [
       "[Text(0.5, 1.0, 'education')]"
      ]
     },
     "execution_count": 17,
     "metadata": {},
     "output_type": "execute_result"
    },
    {
     "data": {
      "image/png": "[encoded data removed]",
      "text/plain": [
       "<Figure size 640x480 with 1 Axes>"
      ]
     },
     "metadata": {},
     "output_type": "display_data"
    },
    {
     "data": {
      "text/plain": [
       "[Text(0.5, 1.0, 'income')]"
      ]
     },
     "execution_count": 17,
     "metadata": {},
     "output_type": "execute_result"
    },
    {
     "data": {
      "image/png": "[encoded data removed]",
      "text/plain": [
       "<Figure size 640x480 with 1 Axes>"
      ]
     },
     "metadata": {},
     "output_type": "display_data"
    },
    {
     "data": {
      "text/plain": [
       "[Text(0.5, 1.0, 'married')]"
      ]
     },
     "execution_count": 17,
     "metadata": {},
     "output_type": "execute_result"
    },
    {
     "data": {
      "image/png": "[encoded data removed]",
      "text/plain": [
       "<Figure size 640x480 with 1 Axes>"
      ]
     },
     "metadata": {},
     "output_type": "display_data"
    },
    {
     "data": {
      "text/plain": [
       "[Text(0.5, 1.0, 'work')]"
      ]
     },
     "execution_count": 17,
     "metadata": {},
     "output_type": "execute_result"
    },
    {
     "data": {
      "image/png": "[encoded data removed]",
      "text/plain": [
       "<Figure size 640x480 with 1 Axes>"
      ]
     },
     "metadata": {},
     "output_type": "display_data"
    }
   ],
   "source": [
    "# 시각화\n",
    "data = CS_pred_3\n",
    "\n",
    "for i, column in enumerate(data.columns[:-2]):\n",
    "    vc = data[column].value_counts()\n",
    "    sns.barplot(x = vc.index,\n",
    "                y = vc.values,\n",
    "               ).set(title=column)\n",
    "    plt.show()\n",
    "\n",
    "# 성별\n",
    "# 비슷함\n",
    "\n",
    "# 최종 학력\n",
    "# 고졸이 제일 많고 대졸 이상이 그 다음임\n",
    "\n",
    "# 가구소득\n",
    "# 300-400만원이 제일 많고\n",
    "# 400만원 이상과 비슷함\n",
    "\n",
    "# 혼인상태\n",
    "# 기혼자가 제일 많음\n",
    "\n",
    "# 종사상 지위\n",
    "# 임금 또는 봉급을 받는 근로자가 제일 많음\n",
    "# 고용원이 없는 자영자 또는 무직(학생)이 그 다음임"
   ]
  },
  {
   "cell_type": "code",
   "execution_count": 18,
   "id": "92c0e9ed",
   "metadata": {},
   "outputs": [],
   "source": [
    "# 중요해보이는 열에 대해서만 분석 예정\n",
    "# 머신러닝 결과의 feature 중요도를 같이 참고한 결과\n",
    "# education, income, work 가 중요할 것으로 보임"
   ]
  },
  {
   "cell_type": "markdown",
   "id": "b7e8b540",
   "metadata": {},
   "source": [
    "## 소비분석"
   ]
  },
  {
   "cell_type": "code",
   "execution_count": 19,
   "id": "600d50a3",
   "metadata": {},
   "outputs": [],
   "source": [
    "# 적절한 열 선택\n",
    "CA = CA[['education', 'income', 'work', 'exhibition_price', 'museum_price', 'art_price', 'traditional_price', 'theater_price', 'movie_price', 'performance_price', 'total_price']]"
   ]
  },
  {
   "cell_type": "code",
   "execution_count": 20,
   "id": "35981f6c",
   "metadata": {},
   "outputs": [
    {
     "data": {
      "text/html": [
       "<div>\n",
       "<style scoped>\n",
       "    .dataframe tbody tr th:only-of-type {\n",
       "        vertical-align: middle;\n",
       "    }\n",
       "\n",
       "    .dataframe tbody tr th {\n",
       "        vertical-align: top;\n",
       "    }\n",
       "\n",
       "    .dataframe thead th {\n",
       "        text-align: right;\n",
       "    }\n",
       "</style>\n",
       "<table border=\"1\" class=\"dataframe\">\n",
       "  <thead>\n",
       "    <tr style=\"text-align: right;\">\n",
       "      <th></th>\n",
       "      <th>education</th>\n",
       "      <th>income</th>\n",
       "      <th>work</th>\n",
       "      <th>exhibition_price</th>\n",
       "      <th>museum_price</th>\n",
       "      <th>art_price</th>\n",
       "      <th>traditional_price</th>\n",
       "      <th>theater_price</th>\n",
       "      <th>movie_price</th>\n",
       "      <th>performance_price</th>\n",
       "      <th>total_price</th>\n",
       "    </tr>\n",
       "  </thead>\n",
       "  <tbody>\n",
       "    <tr>\n",
       "      <th>4</th>\n",
       "      <td>3</td>\n",
       "      <td>6</td>\n",
       "      <td>1</td>\n",
       "      <td>0.0</td>\n",
       "      <td>NaN</td>\n",
       "      <td>NaN</td>\n",
       "      <td>NaN</td>\n",
       "      <td>NaN</td>\n",
       "      <td>50000.0</td>\n",
       "      <td>NaN</td>\n",
       "      <td>50000</td>\n",
       "    </tr>\n",
       "    <tr>\n",
       "      <th>8</th>\n",
       "      <td>3</td>\n",
       "      <td>6</td>\n",
       "      <td>1</td>\n",
       "      <td>NaN</td>\n",
       "      <td>NaN</td>\n",
       "      <td>NaN</td>\n",
       "      <td>NaN</td>\n",
       "      <td>NaN</td>\n",
       "      <td>20000.0</td>\n",
       "      <td>NaN</td>\n",
       "      <td>20000</td>\n",
       "    </tr>\n",
       "    <tr>\n",
       "      <th>9</th>\n",
       "      <td>3</td>\n",
       "      <td>6</td>\n",
       "      <td>1</td>\n",
       "      <td>NaN</td>\n",
       "      <td>NaN</td>\n",
       "      <td>NaN</td>\n",
       "      <td>NaN</td>\n",
       "      <td>20000.0</td>\n",
       "      <td>20000.0</td>\n",
       "      <td>NaN</td>\n",
       "      <td>40000</td>\n",
       "    </tr>\n",
       "    <tr>\n",
       "      <th>10</th>\n",
       "      <td>3</td>\n",
       "      <td>5</td>\n",
       "      <td>1</td>\n",
       "      <td>NaN</td>\n",
       "      <td>NaN</td>\n",
       "      <td>NaN</td>\n",
       "      <td>NaN</td>\n",
       "      <td>NaN</td>\n",
       "      <td>0.0</td>\n",
       "      <td>NaN</td>\n",
       "      <td>0</td>\n",
       "    </tr>\n",
       "    <tr>\n",
       "      <th>19</th>\n",
       "      <td>3</td>\n",
       "      <td>5</td>\n",
       "      <td>1</td>\n",
       "      <td>0.0</td>\n",
       "      <td>NaN</td>\n",
       "      <td>NaN</td>\n",
       "      <td>NaN</td>\n",
       "      <td>NaN</td>\n",
       "      <td>10000.0</td>\n",
       "      <td>NaN</td>\n",
       "      <td>10000</td>\n",
       "    </tr>\n",
       "  </tbody>\n",
       "</table>\n",
       "</div>"
      ],
      "text/plain": [
       "    education  income  work  exhibition_price  museum_price  art_price  \\\n",
       "4           3       6     1               0.0           NaN        NaN   \n",
       "8           3       6     1               NaN           NaN        NaN   \n",
       "9           3       6     1               NaN           NaN        NaN   \n",
       "10          3       5     1               NaN           NaN        NaN   \n",
       "19          3       5     1               0.0           NaN        NaN   \n",
       "\n",
       "    traditional_price  theater_price  movie_price  performance_price  \\\n",
       "4                 NaN            NaN      50000.0                NaN   \n",
       "8                 NaN            NaN      20000.0                NaN   \n",
       "9                 NaN        20000.0      20000.0                NaN   \n",
       "10                NaN            NaN          0.0                NaN   \n",
       "19                NaN            NaN      10000.0                NaN   \n",
       "\n",
       "    total_price  \n",
       "4         50000  \n",
       "8         20000  \n",
       "9         40000  \n",
       "10            0  \n",
       "19        10000  "
      ]
     },
     "execution_count": 20,
     "metadata": {},
     "output_type": "execute_result"
    }
   ],
   "source": [
    "CA.head()"
   ]
  },
  {
   "cell_type": "code",
   "execution_count": 21,
   "id": "9a1ded8c",
   "metadata": {},
   "outputs": [
    {
     "data": {
      "text/plain": [
       "43467    69999993\n",
       "46007    69999993\n",
       "50453     9999999\n",
       "50454     9999999\n",
       "46540     4190000\n",
       "42584     2700000\n",
       "42876     2700000\n",
       "42273     2300000\n",
       "16084     2300000\n",
       "39558     2300000\n",
       "Name: total_price, dtype: int64"
      ]
     },
     "execution_count": 21,
     "metadata": {},
     "output_type": "execute_result"
    }
   ],
   "source": [
    "CA['total_price'].sort_values(ascending=False)[:10]\n",
    "# 소비 총합 top4는 이상치로 보이므로 제외"
   ]
  },
  {
   "cell_type": "code",
   "execution_count": 22,
   "id": "70f3befe",
   "metadata": {},
   "outputs": [],
   "source": [
    "# 이상치 제거\n",
    "remove_values = CA['total_price'].sort_values(ascending=False)[:4].values\n",
    "\n",
    "remove_cond = (CA['total_price'] != remove_values[0]) & (CA['total_price'] != remove_values[1]) & (CA['total_price'] != remove_values[2]) & (CA['total_price'] != remove_values[3])\n",
    "\n",
    "CA = CA[remove_cond]"
   ]
  },
  {
   "cell_type": "markdown",
   "id": "0ae38c30",
   "metadata": {},
   "source": [
    "### 가구소득에 따른 소비분석"
   ]
  },
  {
   "cell_type": "code",
   "execution_count": 23,
   "id": "f75afa62",
   "metadata": {
    "scrolled": false
   },
   "outputs": [
    {
     "data": {
      "text/plain": [
       "income\n",
       "1     42125.112108\n",
       "2     64246.878547\n",
       "3     71267.901853\n",
       "4     71450.316170\n",
       "5     77973.497268\n",
       "6     84799.893219\n",
       "7    166487.257110\n",
       "Name: total_price, dtype: float64"
      ]
     },
     "execution_count": 23,
     "metadata": {},
     "output_type": "execute_result"
    },
    {
     "data": {
      "text/plain": [
       "<Axes: ylabel='total_price'>"
      ]
     },
     "execution_count": 23,
     "metadata": {},
     "output_type": "execute_result"
    },
    {
     "data": {
      "image/png": "[encoded data removed]",
      "text/plain": [
       "<Figure size 640x480 with 1 Axes>"
      ]
     },
     "metadata": {},
     "output_type": "display_data"
    }
   ],
   "source": [
    "# 가구소득별 총 소비 금액\n",
    "data = CA\n",
    "\n",
    "data.groupby('income').mean()['total_price']\n",
    "\n",
    "# 시각화\n",
    "x = data['income'].value_counts().sort_index().index\n",
    "y = data.groupby('income').mean()['total_price']\n",
    "\n",
    "sns.barplot(x=x, y=y)\n",
    "plt.show()"
   ]
  },
  {
   "cell_type": "markdown",
   "id": "9b788ed2",
   "metadata": {},
   "source": [
    "### 제일 많이 소비하는 가구소득 층에 대한 소비분석"
   ]
  },
  {
   "cell_type": "code",
   "execution_count": 24,
   "id": "98886e56",
   "metadata": {
    "scrolled": false
   },
   "outputs": [
    {
     "data": {
      "text/plain": [
       "exhibition_price      34296.703297\n",
       "museum_price         125752.747253\n",
       "art_price            100260.681115\n",
       "traditional_price     65355.362515\n",
       "theater_price         29273.717949\n",
       "movie_price           28654.981550\n",
       "performance_price    122775.510204\n",
       "dtype: float64"
      ]
     },
     "execution_count": 24,
     "metadata": {},
     "output_type": "execute_result"
    },
    {
     "data": {
      "text/plain": [
       "<Axes: >"
      ]
     },
     "execution_count": 24,
     "metadata": {},
     "output_type": "execute_result"
    },
    {
     "data": {
      "image/png": "[encoded data removed]",
      "text/plain": [
       "<Figure size 640x480 with 1 Axes>"
      ]
     },
     "metadata": {},
     "output_type": "display_data"
    }
   ],
   "source": [
    "# 제일 많이 소비하는 가구소득 층(500만원 이상)에 대해\n",
    "# 각 분야별 소비 금액\n",
    "data = CA\n",
    "data = data[data['income']==7].iloc[:, 3:10].mean(axis=0)\n",
    "data\n",
    "\n",
    "# 시각화\n",
    "x = data.values\n",
    "y = data.index\n",
    "\n",
    "sns.barplot(x=x, y=y)\n",
    "plt.show()\n",
    "\n",
    "# 소비를 가장 많이 하는 가구소득 층(500만원 이상)은\n",
    "# 전통예술공연에 제일 많이 소비하고\n",
    "# 음악 및 무용 발표회 관람, 박물관 관람에 많이 소비한다."
   ]
  },
  {
   "cell_type": "code",
   "execution_count": null,
   "id": "17584132",
   "metadata": {},
   "outputs": [],
   "source": []
  },
  {
   "cell_type": "markdown",
   "id": "330f5ec1",
   "metadata": {},
   "source": [
    "### 고용형태에 따른 소비분석"
   ]
  },
  {
   "cell_type": "code",
   "execution_count": 25,
   "id": "d760ec4c",
   "metadata": {
    "scrolled": false
   },
   "outputs": [
    {
     "data": {
      "text/plain": [
       "work\n",
       "1     84042.648597\n",
       "2    100612.584054\n",
       "3     64687.934783\n",
       "4     49569.306931\n",
       "Name: total_price, dtype: float64"
      ]
     },
     "execution_count": 25,
     "metadata": {},
     "output_type": "execute_result"
    },
    {
     "data": {
      "text/plain": [
       "<Axes: ylabel='total_price'>"
      ]
     },
     "execution_count": 25,
     "metadata": {},
     "output_type": "execute_result"
    },
    {
     "data": {
      "image/png": "[encoded data removed]",
      "text/plain": [
       "<Figure size 640x480 with 1 Axes>"
      ]
     },
     "metadata": {},
     "output_type": "display_data"
    }
   ],
   "source": [
    "# 종사상 지위별 총 소비 금액\n",
    "data = CA\n",
    "column = 'work'\n",
    "\n",
    "data.groupby(column).mean()['total_price']\n",
    "\n",
    "# 시각화\n",
    "x = data[column].value_counts().sort_index().index\n",
    "y = data.groupby(column).mean()['total_price']\n",
    "\n",
    "sns.barplot(x=x, y=y)\n",
    "plt.show()\n",
    "\n",
    "# 고용원을 둔 사업자가 제일 많음"
   ]
  },
  {
   "cell_type": "markdown",
   "id": "cfc7d1c4",
   "metadata": {},
   "source": [
    "### 제일 많이 소비하는 고용형태에 대한 소비분석"
   ]
  },
  {
   "cell_type": "code",
   "execution_count": 26,
   "id": "0d38c91d",
   "metadata": {
    "scrolled": false
   },
   "outputs": [
    {
     "data": {
      "text/plain": [
       "exhibition_price     30869.565217\n",
       "museum_price         61030.303030\n",
       "art_price            56785.714286\n",
       "traditional_price    37413.341646\n",
       "theater_price        14500.000000\n",
       "movie_price           9736.024845\n",
       "performance_price    76865.384615\n",
       "dtype: float64"
      ]
     },
     "execution_count": 26,
     "metadata": {},
     "output_type": "execute_result"
    },
    {
     "data": {
      "text/plain": [
       "<Axes: >"
      ]
     },
     "execution_count": 26,
     "metadata": {},
     "output_type": "execute_result"
    },
    {
     "data": {
      "image/png": "[encoded data removed]",
      "text/plain": [
       "<Figure size 640x480 with 1 Axes>"
      ]
     },
     "metadata": {},
     "output_type": "display_data"
    }
   ],
   "source": [
    "# 제일 많이 소비하는 고용원을 둔 사업자에 대한\n",
    "# 각 분야별 소비 금액\n",
    "data = CA\n",
    "column = 'income'\n",
    "data = data[data[column]==2].iloc[:, 3:10].mean(axis=0)\n",
    "data\n",
    "\n",
    "# 시각화\n",
    "x = data.values\n",
    "y = data.index\n",
    "\n",
    "sns.barplot(x=x, y=y)\n",
    "plt.show()\n",
    "\n",
    "# 소비를 가장 많이 하는 고용형태(고용원을 둔 사업자)의 사람들은\n",
    "# 전통예술공연에 제일 많이 소비하고\n",
    "# 음악 및 무용 발표회 관람, 대중공연 관람에 많이 소비한다.\n",
    "\n",
    "# 특히 다른 집단에 비해 전통예술공연에만 많이 소비하는 것으로 보인다."
   ]
  },
  {
   "cell_type": "code",
   "execution_count": null,
   "id": "ed06d721",
   "metadata": {},
   "outputs": [],
   "source": []
  },
  {
   "cell_type": "markdown",
   "id": "4ecc6290",
   "metadata": {},
   "source": [
    "### 최종학력에 따른 소비분석"
   ]
  },
  {
   "cell_type": "code",
   "execution_count": 27,
   "id": "c259e58b",
   "metadata": {
    "scrolled": false
   },
   "outputs": [
    {
     "data": {
      "text/plain": [
       "education\n",
       "1     56142.857143\n",
       "2     42981.727575\n",
       "3     55016.535114\n",
       "4    103513.120208\n",
       "Name: total_price, dtype: float64"
      ]
     },
     "execution_count": 27,
     "metadata": {},
     "output_type": "execute_result"
    },
    {
     "data": {
      "text/plain": [
       "<Axes: ylabel='total_price'>"
      ]
     },
     "execution_count": 27,
     "metadata": {},
     "output_type": "execute_result"
    },
    {
     "data": {
      "image/png": "[encoded data removed]",
      "text/plain": [
       "<Figure size 640x480 with 1 Axes>"
      ]
     },
     "metadata": {},
     "output_type": "display_data"
    }
   ],
   "source": [
    "# 학별 총 소비 금액\n",
    "data = CA\n",
    "column = 'education'\n",
    "\n",
    "data.groupby(column).mean()['total_price']\n",
    "\n",
    "# 시각화\n",
    "x = data[column].value_counts().sort_index().index\n",
    "y = data.groupby(column).mean()['total_price']\n",
    "\n",
    "sns.barplot(x=x, y=y)\n",
    "plt.show()\n",
    "\n",
    "# 대졸 이상이 제일 많음"
   ]
  },
  {
   "cell_type": "markdown",
   "id": "ae611675",
   "metadata": {},
   "source": [
    "### 제일 많이 소비하는 학력에 대한 소비분석"
   ]
  },
  {
   "cell_type": "code",
   "execution_count": 28,
   "id": "9521aa55",
   "metadata": {
    "scrolled": false
   },
   "outputs": [
    {
     "data": {
      "text/plain": [
       "exhibition_price     41174.434088\n",
       "museum_price         70045.719844\n",
       "art_price            90389.673500\n",
       "traditional_price    51599.999745\n",
       "theater_price        44898.996865\n",
       "movie_price          35623.213265\n",
       "performance_price    99832.020997\n",
       "dtype: float64"
      ]
     },
     "execution_count": 28,
     "metadata": {},
     "output_type": "execute_result"
    },
    {
     "data": {
      "text/plain": [
       "<Axes: >"
      ]
     },
     "execution_count": 28,
     "metadata": {},
     "output_type": "execute_result"
    },
    {
     "data": {
      "image/png": "[encoded data removed]",
      "text/plain": [
       "<Figure size 640x480 with 1 Axes>"
      ]
     },
     "metadata": {},
     "output_type": "display_data"
    }
   ],
   "source": [
    "# 제일 많이 소비하는 대졸 이상에 대한\n",
    "# 각 분야별 소비 금액\n",
    "data = CA\n",
    "column = 'education'\n",
    "data = data[data[column]==4].iloc[:, 3:10].mean(axis=0)\n",
    "\n",
    "data\n",
    "\n",
    "# 시각화\n",
    "x = data.values\n",
    "y = data.index\n",
    "\n",
    "sns.barplot(x=x, y=y)\n",
    "plt.show()\n",
    "\n",
    "# 소비를 가장 많이 하는 학력(대졸 이상)의 사람들은\n",
    "# 전통예술공연에 제일 많이 소비하고\n",
    "# 극장에서 영화 관람, 음악 및 무용 발표회 관람에 많이 소비한다.\n",
    "\n",
    "# 특히 다른 집단에 비해 비교적 여러 분야에 골고루 소비하는 것으로 보인다."
   ]
  },
  {
   "cell_type": "code",
   "execution_count": null,
   "id": "8e8728bc",
   "metadata": {},
   "outputs": [],
   "source": []
  }
 ],
 "metadata": {
  "kernelspec": {
   "display_name": "Python 3 (ipykernel)",
   "language": "python",
   "name": "python3"
  },
  "language_info": {
   "codemirror_mode": {
    "name": "ipython",
    "version": 3
   },
   "file_extension": ".py",
   "mimetype": "text/x-python",
   "name": "python",
   "nbconvert_exporter": "python",
   "pygments_lexer": "ipython3",
   "version": "3.10.9"
  }
 },
 "nbformat": 4,
 "nbformat_minor": 5
}

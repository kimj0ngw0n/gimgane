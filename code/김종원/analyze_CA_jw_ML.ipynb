{
 "cells": [
  {
   "cell_type": "markdown",
   "id": "7fe2e3aa",
   "metadata": {},
   "source": [
    "## 소비분석 데이터 분석\n",
    "- 예측된 문화예술활동 횟수에 따른 feature의 빈도를 토대로 소비분석"
   ]
  },
  {
   "cell_type": "code",
   "execution_count": 1,
   "id": "97817264",
   "metadata": {},
   "outputs": [],
   "source": [
    "from IPython.core.interactiveshell import InteractiveShell\n",
    "InteractiveShell.ast_node_interactivity=\"all\""
   ]
  },
  {
   "cell_type": "code",
   "execution_count": 2,
   "id": "899b2334",
   "metadata": {},
   "outputs": [],
   "source": [
    "import pandas as pd\n",
    "import numpy as np\n",
    "import matplotlib.pyplot as plt\n",
    "%matplotlib inline\n",
    "import seaborn as sns"
   ]
  },
  {
   "cell_type": "code",
   "execution_count": 3,
   "id": "abc8c786",
   "metadata": {},
   "outputs": [],
   "source": [
    "# # 경고 메세지 무시하기\n",
    "# import warnings\n",
    "# warnings.filterwarnings('ignore')"
   ]
  },
  {
   "cell_type": "markdown",
   "id": "b356f434",
   "metadata": {},
   "source": [
    "## 데이터 로드\n",
    "- NaN 값은 해당 문화예술활동에 참여하지 않은 사람\n",
    "- 0은 해당 무료 활동에 참여한 사람"
   ]
  },
  {
   "cell_type": "code",
   "execution_count": 4,
   "id": "05fa402c",
   "metadata": {},
   "outputs": [],
   "source": [
    "CA_raw = pd.read_csv('./data/소비분석.csv')"
   ]
  },
  {
   "cell_type": "code",
   "execution_count": 5,
   "id": "8caa4fe9",
   "metadata": {
    "scrolled": false
   },
   "outputs": [
    {
     "data": {
      "text/html": [
       "<div>\n",
       "<style scoped>\n",
       "    .dataframe tbody tr th:only-of-type {\n",
       "        vertical-align: middle;\n",
       "    }\n",
       "\n",
       "    .dataframe tbody tr th {\n",
       "        vertical-align: top;\n",
       "    }\n",
       "\n",
       "    .dataframe thead th {\n",
       "        text-align: right;\n",
       "    }\n",
       "</style>\n",
       "<table border=\"1\" class=\"dataframe\">\n",
       "  <thead>\n",
       "    <tr style=\"text-align: right;\">\n",
       "      <th></th>\n",
       "      <th>sex</th>\n",
       "      <th>education</th>\n",
       "      <th>income</th>\n",
       "      <th>married</th>\n",
       "      <th>work</th>\n",
       "      <th>age</th>\n",
       "      <th>exhibition_price</th>\n",
       "      <th>museum_price</th>\n",
       "      <th>art_price</th>\n",
       "      <th>traditional_price</th>\n",
       "      <th>theater_price</th>\n",
       "      <th>movie_price</th>\n",
       "      <th>performance_price</th>\n",
       "      <th>total_price</th>\n",
       "    </tr>\n",
       "  </thead>\n",
       "  <tbody>\n",
       "    <tr>\n",
       "      <th>0</th>\n",
       "      <td>1</td>\n",
       "      <td>3</td>\n",
       "      <td>6</td>\n",
       "      <td>2</td>\n",
       "      <td>2</td>\n",
       "      <td>7</td>\n",
       "      <td>NaN</td>\n",
       "      <td>NaN</td>\n",
       "      <td>NaN</td>\n",
       "      <td>NaN</td>\n",
       "      <td>NaN</td>\n",
       "      <td>NaN</td>\n",
       "      <td>NaN</td>\n",
       "      <td>0</td>\n",
       "    </tr>\n",
       "    <tr>\n",
       "      <th>1</th>\n",
       "      <td>1</td>\n",
       "      <td>3</td>\n",
       "      <td>5</td>\n",
       "      <td>2</td>\n",
       "      <td>2</td>\n",
       "      <td>6</td>\n",
       "      <td>NaN</td>\n",
       "      <td>NaN</td>\n",
       "      <td>NaN</td>\n",
       "      <td>NaN</td>\n",
       "      <td>NaN</td>\n",
       "      <td>NaN</td>\n",
       "      <td>NaN</td>\n",
       "      <td>0</td>\n",
       "    </tr>\n",
       "    <tr>\n",
       "      <th>2</th>\n",
       "      <td>1</td>\n",
       "      <td>4</td>\n",
       "      <td>6</td>\n",
       "      <td>2</td>\n",
       "      <td>3</td>\n",
       "      <td>3</td>\n",
       "      <td>NaN</td>\n",
       "      <td>NaN</td>\n",
       "      <td>NaN</td>\n",
       "      <td>NaN</td>\n",
       "      <td>NaN</td>\n",
       "      <td>30000.0</td>\n",
       "      <td>NaN</td>\n",
       "      <td>30000</td>\n",
       "    </tr>\n",
       "    <tr>\n",
       "      <th>3</th>\n",
       "      <td>2</td>\n",
       "      <td>4</td>\n",
       "      <td>6</td>\n",
       "      <td>2</td>\n",
       "      <td>4</td>\n",
       "      <td>3</td>\n",
       "      <td>40000.0</td>\n",
       "      <td>0.0</td>\n",
       "      <td>50000.0</td>\n",
       "      <td>NaN</td>\n",
       "      <td>NaN</td>\n",
       "      <td>20000.0</td>\n",
       "      <td>NaN</td>\n",
       "      <td>110000</td>\n",
       "    </tr>\n",
       "    <tr>\n",
       "      <th>4</th>\n",
       "      <td>2</td>\n",
       "      <td>3</td>\n",
       "      <td>6</td>\n",
       "      <td>3</td>\n",
       "      <td>1</td>\n",
       "      <td>6</td>\n",
       "      <td>0.0</td>\n",
       "      <td>NaN</td>\n",
       "      <td>NaN</td>\n",
       "      <td>NaN</td>\n",
       "      <td>NaN</td>\n",
       "      <td>50000.0</td>\n",
       "      <td>NaN</td>\n",
       "      <td>50000</td>\n",
       "    </tr>\n",
       "  </tbody>\n",
       "</table>\n",
       "</div>"
      ],
      "text/plain": [
       "   sex  education  income  married  work  age  exhibition_price  museum_price  \\\n",
       "0    1          3       6        2     2    7               NaN           NaN   \n",
       "1    1          3       5        2     2    6               NaN           NaN   \n",
       "2    1          4       6        2     3    3               NaN           NaN   \n",
       "3    2          4       6        2     4    3           40000.0           0.0   \n",
       "4    2          3       6        3     1    6               0.0           NaN   \n",
       "\n",
       "   art_price  traditional_price  theater_price  movie_price  \\\n",
       "0        NaN                NaN            NaN          NaN   \n",
       "1        NaN                NaN            NaN          NaN   \n",
       "2        NaN                NaN            NaN      30000.0   \n",
       "3    50000.0                NaN            NaN      20000.0   \n",
       "4        NaN                NaN            NaN      50000.0   \n",
       "\n",
       "   performance_price  total_price  \n",
       "0                NaN            0  \n",
       "1                NaN            0  \n",
       "2                NaN        30000  \n",
       "3                NaN       110000  \n",
       "4                NaN        50000  "
      ]
     },
     "execution_count": 5,
     "metadata": {},
     "output_type": "execute_result"
    },
    {
     "name": "stdout",
     "output_type": "stream",
     "text": [
      "<class 'pandas.core.frame.DataFrame'>\n",
      "RangeIndex: 53597 entries, 0 to 53596\n",
      "Data columns (total 14 columns):\n",
      " #   Column             Non-Null Count  Dtype  \n",
      "---  ------             --------------  -----  \n",
      " 0   sex                53597 non-null  int64  \n",
      " 1   education          53597 non-null  int64  \n",
      " 2   income             53597 non-null  int64  \n",
      " 3   married            53597 non-null  int64  \n",
      " 4   work               53597 non-null  int64  \n",
      " 5   age                53597 non-null  int64  \n",
      " 6   exhibition_price   4380 non-null   float64\n",
      " 7   museum_price       5918 non-null   float64\n",
      " 8   art_price          7349 non-null   float64\n",
      " 9   traditional_price  18772 non-null  float64\n",
      " 10  theater_price      9533 non-null   float64\n",
      " 11  movie_price        22395 non-null  float64\n",
      " 12  performance_price  4727 non-null   float64\n",
      " 13  total_price        53597 non-null  int64  \n",
      "dtypes: float64(7), int64(7)\n",
      "memory usage: 5.7 MB\n"
     ]
    },
    {
     "data": {
      "text/plain": [
       "(53597, 14)"
      ]
     },
     "execution_count": 5,
     "metadata": {},
     "output_type": "execute_result"
    }
   ],
   "source": [
    "CA_raw.head()\n",
    "CA_raw.info()\n",
    "CA_raw.shape"
   ]
  },
  {
   "cell_type": "code",
   "execution_count": 6,
   "id": "901f2acb",
   "metadata": {},
   "outputs": [],
   "source": [
    "CA = CA_raw.copy()"
   ]
  },
  {
   "cell_type": "code",
   "execution_count": 7,
   "id": "87980c01",
   "metadata": {},
   "outputs": [],
   "source": [
    "CS_pred_raw = pd.read_csv('./data/CS_pred.csv')"
   ]
  },
  {
   "cell_type": "code",
   "execution_count": 8,
   "id": "d36c27cf",
   "metadata": {},
   "outputs": [
    {
     "data": {
      "text/html": [
       "<div>\n",
       "<style scoped>\n",
       "    .dataframe tbody tr th:only-of-type {\n",
       "        vertical-align: middle;\n",
       "    }\n",
       "\n",
       "    .dataframe tbody tr th {\n",
       "        vertical-align: top;\n",
       "    }\n",
       "\n",
       "    .dataframe thead th {\n",
       "        text-align: right;\n",
       "    }\n",
       "</style>\n",
       "<table border=\"1\" class=\"dataframe\">\n",
       "  <thead>\n",
       "    <tr style=\"text-align: right;\">\n",
       "      <th></th>\n",
       "      <th>view_cnt</th>\n",
       "      <th>where_cnt</th>\n",
       "      <th>attend_cnt</th>\n",
       "      <th>volunteer_cnt</th>\n",
       "      <th>history_cnt</th>\n",
       "      <th>festival_cnt</th>\n",
       "      <th>standard</th>\n",
       "      <th>block</th>\n",
       "      <th>expense</th>\n",
       "      <th>expense_f</th>\n",
       "      <th>...</th>\n",
       "      <th>sex</th>\n",
       "      <th>age</th>\n",
       "      <th>education</th>\n",
       "      <th>married</th>\n",
       "      <th>work</th>\n",
       "      <th>income</th>\n",
       "      <th>sido</th>\n",
       "      <th>disabled</th>\n",
       "      <th>pred</th>\n",
       "      <th>target</th>\n",
       "    </tr>\n",
       "  </thead>\n",
       "  <tbody>\n",
       "    <tr>\n",
       "      <th>0</th>\n",
       "      <td>49</td>\n",
       "      <td>0</td>\n",
       "      <td>0</td>\n",
       "      <td>0</td>\n",
       "      <td>5</td>\n",
       "      <td>0</td>\n",
       "      <td>1</td>\n",
       "      <td>1</td>\n",
       "      <td>14</td>\n",
       "      <td>14</td>\n",
       "      <td>...</td>\n",
       "      <td>2</td>\n",
       "      <td>5</td>\n",
       "      <td>3</td>\n",
       "      <td>1</td>\n",
       "      <td>5</td>\n",
       "      <td>3</td>\n",
       "      <td>1</td>\n",
       "      <td>1</td>\n",
       "      <td>3</td>\n",
       "      <td>3</td>\n",
       "    </tr>\n",
       "    <tr>\n",
       "      <th>1</th>\n",
       "      <td>3</td>\n",
       "      <td>3</td>\n",
       "      <td>3</td>\n",
       "      <td>0</td>\n",
       "      <td>1</td>\n",
       "      <td>0</td>\n",
       "      <td>2</td>\n",
       "      <td>6</td>\n",
       "      <td>14</td>\n",
       "      <td>9</td>\n",
       "      <td>...</td>\n",
       "      <td>2</td>\n",
       "      <td>5</td>\n",
       "      <td>3</td>\n",
       "      <td>2</td>\n",
       "      <td>5</td>\n",
       "      <td>7</td>\n",
       "      <td>1</td>\n",
       "      <td>1</td>\n",
       "      <td>1</td>\n",
       "      <td>1</td>\n",
       "    </tr>\n",
       "    <tr>\n",
       "      <th>2</th>\n",
       "      <td>22</td>\n",
       "      <td>15</td>\n",
       "      <td>0</td>\n",
       "      <td>0</td>\n",
       "      <td>0</td>\n",
       "      <td>0</td>\n",
       "      <td>2</td>\n",
       "      <td>2</td>\n",
       "      <td>14</td>\n",
       "      <td>14</td>\n",
       "      <td>...</td>\n",
       "      <td>2</td>\n",
       "      <td>5</td>\n",
       "      <td>4</td>\n",
       "      <td>3</td>\n",
       "      <td>1</td>\n",
       "      <td>5</td>\n",
       "      <td>1</td>\n",
       "      <td>1</td>\n",
       "      <td>2</td>\n",
       "      <td>2</td>\n",
       "    </tr>\n",
       "    <tr>\n",
       "      <th>3</th>\n",
       "      <td>10</td>\n",
       "      <td>0</td>\n",
       "      <td>0</td>\n",
       "      <td>0</td>\n",
       "      <td>2</td>\n",
       "      <td>2</td>\n",
       "      <td>2</td>\n",
       "      <td>4</td>\n",
       "      <td>17</td>\n",
       "      <td>11</td>\n",
       "      <td>...</td>\n",
       "      <td>1</td>\n",
       "      <td>5</td>\n",
       "      <td>4</td>\n",
       "      <td>2</td>\n",
       "      <td>1</td>\n",
       "      <td>6</td>\n",
       "      <td>1</td>\n",
       "      <td>1</td>\n",
       "      <td>2</td>\n",
       "      <td>2</td>\n",
       "    </tr>\n",
       "    <tr>\n",
       "      <th>4</th>\n",
       "      <td>7</td>\n",
       "      <td>0</td>\n",
       "      <td>0</td>\n",
       "      <td>0</td>\n",
       "      <td>0</td>\n",
       "      <td>0</td>\n",
       "      <td>3</td>\n",
       "      <td>2</td>\n",
       "      <td>15</td>\n",
       "      <td>12</td>\n",
       "      <td>...</td>\n",
       "      <td>2</td>\n",
       "      <td>5</td>\n",
       "      <td>3</td>\n",
       "      <td>2</td>\n",
       "      <td>1</td>\n",
       "      <td>5</td>\n",
       "      <td>1</td>\n",
       "      <td>1</td>\n",
       "      <td>1</td>\n",
       "      <td>1</td>\n",
       "    </tr>\n",
       "  </tbody>\n",
       "</table>\n",
       "<p>5 rows × 26 columns</p>\n",
       "</div>"
      ],
      "text/plain": [
       "   view_cnt  where_cnt  attend_cnt  volunteer_cnt  history_cnt  festival_cnt  \\\n",
       "0        49          0           0              0            5             0   \n",
       "1         3          3           3              0            1             0   \n",
       "2        22         15           0              0            0             0   \n",
       "3        10          0           0              0            2             2   \n",
       "4         7          0           0              0            0             0   \n",
       "\n",
       "   standard  block  expense  expense_f  ...  sex  age  education  married  \\\n",
       "0         1      1       14         14  ...    2    5          3        1   \n",
       "1         2      6       14          9  ...    2    5          3        2   \n",
       "2         2      2       14         14  ...    2    5          4        3   \n",
       "3         2      4       17         11  ...    1    5          4        2   \n",
       "4         3      2       15         12  ...    2    5          3        2   \n",
       "\n",
       "   work  income  sido  disabled  pred  target  \n",
       "0     5       3     1         1     3       3  \n",
       "1     5       7     1         1     1       1  \n",
       "2     1       5     1         1     2       2  \n",
       "3     1       6     1         1     2       2  \n",
       "4     1       5     1         1     1       1  \n",
       "\n",
       "[5 rows x 26 columns]"
      ]
     },
     "execution_count": 8,
     "metadata": {},
     "output_type": "execute_result"
    },
    {
     "name": "stdout",
     "output_type": "stream",
     "text": [
      "<class 'pandas.core.frame.DataFrame'>\n",
      "RangeIndex: 2144 entries, 0 to 2143\n",
      "Data columns (total 26 columns):\n",
      " #   Column         Non-Null Count  Dtype\n",
      "---  ------         --------------  -----\n",
      " 0   view_cnt       2144 non-null   int64\n",
      " 1   where_cnt      2144 non-null   int64\n",
      " 2   attend_cnt     2144 non-null   int64\n",
      " 3   volunteer_cnt  2144 non-null   int64\n",
      " 4   history_cnt    2144 non-null   int64\n",
      " 5   festival_cnt   2144 non-null   int64\n",
      " 6   standard       2144 non-null   int64\n",
      " 7   block          2144 non-null   int64\n",
      " 8   expense        2144 non-null   int64\n",
      " 9   expense_f      2144 non-null   int64\n",
      " 10  difficulty     2144 non-null   int64\n",
      " 11  intention      2144 non-null   int64\n",
      " 12  history        2144 non-null   int64\n",
      " 13  history_f      2144 non-null   int64\n",
      " 14  festival       2144 non-null   int64\n",
      " 15  festival_f     2144 non-null   int64\n",
      " 16  sex            2144 non-null   int64\n",
      " 17  age            2144 non-null   int64\n",
      " 18  education      2144 non-null   int64\n",
      " 19  married        2144 non-null   int64\n",
      " 20  work           2144 non-null   int64\n",
      " 21  income         2144 non-null   int64\n",
      " 22  sido           2144 non-null   int64\n",
      " 23  disabled       2144 non-null   int64\n",
      " 24  pred           2144 non-null   int64\n",
      " 25  target         2144 non-null   int64\n",
      "dtypes: int64(26)\n",
      "memory usage: 435.6 KB\n"
     ]
    },
    {
     "data": {
      "text/plain": [
       "(2144, 26)"
      ]
     },
     "execution_count": 8,
     "metadata": {},
     "output_type": "execute_result"
    }
   ],
   "source": [
    "CS_pred_raw.head()\n",
    "CS_pred_raw.info()\n",
    "CS_pred_raw.shape"
   ]
  },
  {
   "cell_type": "markdown",
   "id": "1126e02d",
   "metadata": {},
   "source": [
    "## 데이터 전처리 - 소비분석 데이터"
   ]
  },
  {
   "cell_type": "markdown",
   "id": "976da64b",
   "metadata": {},
   "source": [
    "### 문화예술 활동에 전혀 참여하지 않은 사람 제외"
   ]
  },
  {
   "cell_type": "code",
   "execution_count": 9,
   "id": "b1bd0243",
   "metadata": {},
   "outputs": [],
   "source": [
    "CA.dropna(subset=['exhibition_price', 'museum_price', 'art_price', 'traditional_price', 'theater_price', 'movie_price', 'performance_price'],\n",
    "          how='all',\n",
    "          axis=0,\n",
    "          inplace=True,\n",
    "         )"
   ]
  },
  {
   "cell_type": "code",
   "execution_count": 10,
   "id": "a050e9d7",
   "metadata": {},
   "outputs": [
    {
     "data": {
      "text/html": [
       "<div>\n",
       "<style scoped>\n",
       "    .dataframe tbody tr th:only-of-type {\n",
       "        vertical-align: middle;\n",
       "    }\n",
       "\n",
       "    .dataframe tbody tr th {\n",
       "        vertical-align: top;\n",
       "    }\n",
       "\n",
       "    .dataframe thead th {\n",
       "        text-align: right;\n",
       "    }\n",
       "</style>\n",
       "<table border=\"1\" class=\"dataframe\">\n",
       "  <thead>\n",
       "    <tr style=\"text-align: right;\">\n",
       "      <th></th>\n",
       "      <th>sex</th>\n",
       "      <th>education</th>\n",
       "      <th>income</th>\n",
       "      <th>married</th>\n",
       "      <th>work</th>\n",
       "      <th>age</th>\n",
       "      <th>exhibition_price</th>\n",
       "      <th>museum_price</th>\n",
       "      <th>art_price</th>\n",
       "      <th>traditional_price</th>\n",
       "      <th>theater_price</th>\n",
       "      <th>movie_price</th>\n",
       "      <th>performance_price</th>\n",
       "      <th>total_price</th>\n",
       "    </tr>\n",
       "  </thead>\n",
       "  <tbody>\n",
       "    <tr>\n",
       "      <th>2</th>\n",
       "      <td>1</td>\n",
       "      <td>4</td>\n",
       "      <td>6</td>\n",
       "      <td>2</td>\n",
       "      <td>3</td>\n",
       "      <td>3</td>\n",
       "      <td>NaN</td>\n",
       "      <td>NaN</td>\n",
       "      <td>NaN</td>\n",
       "      <td>NaN</td>\n",
       "      <td>NaN</td>\n",
       "      <td>30000.0</td>\n",
       "      <td>NaN</td>\n",
       "      <td>30000</td>\n",
       "    </tr>\n",
       "    <tr>\n",
       "      <th>3</th>\n",
       "      <td>2</td>\n",
       "      <td>4</td>\n",
       "      <td>6</td>\n",
       "      <td>2</td>\n",
       "      <td>4</td>\n",
       "      <td>3</td>\n",
       "      <td>40000.0</td>\n",
       "      <td>0.0</td>\n",
       "      <td>50000.0</td>\n",
       "      <td>NaN</td>\n",
       "      <td>NaN</td>\n",
       "      <td>20000.0</td>\n",
       "      <td>NaN</td>\n",
       "      <td>110000</td>\n",
       "    </tr>\n",
       "    <tr>\n",
       "      <th>4</th>\n",
       "      <td>2</td>\n",
       "      <td>3</td>\n",
       "      <td>6</td>\n",
       "      <td>3</td>\n",
       "      <td>1</td>\n",
       "      <td>6</td>\n",
       "      <td>0.0</td>\n",
       "      <td>NaN</td>\n",
       "      <td>NaN</td>\n",
       "      <td>NaN</td>\n",
       "      <td>NaN</td>\n",
       "      <td>50000.0</td>\n",
       "      <td>NaN</td>\n",
       "      <td>50000</td>\n",
       "    </tr>\n",
       "    <tr>\n",
       "      <th>8</th>\n",
       "      <td>1</td>\n",
       "      <td>3</td>\n",
       "      <td>6</td>\n",
       "      <td>2</td>\n",
       "      <td>1</td>\n",
       "      <td>5</td>\n",
       "      <td>NaN</td>\n",
       "      <td>NaN</td>\n",
       "      <td>NaN</td>\n",
       "      <td>NaN</td>\n",
       "      <td>NaN</td>\n",
       "      <td>20000.0</td>\n",
       "      <td>NaN</td>\n",
       "      <td>20000</td>\n",
       "    </tr>\n",
       "    <tr>\n",
       "      <th>9</th>\n",
       "      <td>2</td>\n",
       "      <td>3</td>\n",
       "      <td>6</td>\n",
       "      <td>2</td>\n",
       "      <td>1</td>\n",
       "      <td>5</td>\n",
       "      <td>NaN</td>\n",
       "      <td>NaN</td>\n",
       "      <td>NaN</td>\n",
       "      <td>NaN</td>\n",
       "      <td>20000.0</td>\n",
       "      <td>20000.0</td>\n",
       "      <td>NaN</td>\n",
       "      <td>40000</td>\n",
       "    </tr>\n",
       "  </tbody>\n",
       "</table>\n",
       "</div>"
      ],
      "text/plain": [
       "   sex  education  income  married  work  age  exhibition_price  museum_price  \\\n",
       "2    1          4       6        2     3    3               NaN           NaN   \n",
       "3    2          4       6        2     4    3           40000.0           0.0   \n",
       "4    2          3       6        3     1    6               0.0           NaN   \n",
       "8    1          3       6        2     1    5               NaN           NaN   \n",
       "9    2          3       6        2     1    5               NaN           NaN   \n",
       "\n",
       "   art_price  traditional_price  theater_price  movie_price  \\\n",
       "2        NaN                NaN            NaN      30000.0   \n",
       "3    50000.0                NaN            NaN      20000.0   \n",
       "4        NaN                NaN            NaN      50000.0   \n",
       "8        NaN                NaN            NaN      20000.0   \n",
       "9        NaN                NaN        20000.0      20000.0   \n",
       "\n",
       "   performance_price  total_price  \n",
       "2                NaN        30000  \n",
       "3                NaN       110000  \n",
       "4                NaN        50000  \n",
       "8                NaN        20000  \n",
       "9                NaN        40000  "
      ]
     },
     "execution_count": 10,
     "metadata": {},
     "output_type": "execute_result"
    },
    {
     "data": {
      "text/plain": [
       "(38287, 14)"
      ]
     },
     "execution_count": 10,
     "metadata": {},
     "output_type": "execute_result"
    }
   ],
   "source": [
    "CA.head()\n",
    "CA.shape"
   ]
  },
  {
   "cell_type": "markdown",
   "id": "fa4f6a89",
   "metadata": {},
   "source": [
    "### 50~60대인 사람만 선택"
   ]
  },
  {
   "cell_type": "code",
   "execution_count": 11,
   "id": "410a1c4f",
   "metadata": {},
   "outputs": [],
   "source": [
    "CA = CA[(CA['age'] == 5) | (CA['age'] == 6)]"
   ]
  },
  {
   "cell_type": "code",
   "execution_count": 12,
   "id": "8aa2f029",
   "metadata": {},
   "outputs": [
    {
     "data": {
      "text/html": [
       "<div>\n",
       "<style scoped>\n",
       "    .dataframe tbody tr th:only-of-type {\n",
       "        vertical-align: middle;\n",
       "    }\n",
       "\n",
       "    .dataframe tbody tr th {\n",
       "        vertical-align: top;\n",
       "    }\n",
       "\n",
       "    .dataframe thead th {\n",
       "        text-align: right;\n",
       "    }\n",
       "</style>\n",
       "<table border=\"1\" class=\"dataframe\">\n",
       "  <thead>\n",
       "    <tr style=\"text-align: right;\">\n",
       "      <th></th>\n",
       "      <th>sex</th>\n",
       "      <th>education</th>\n",
       "      <th>income</th>\n",
       "      <th>married</th>\n",
       "      <th>work</th>\n",
       "      <th>age</th>\n",
       "      <th>exhibition_price</th>\n",
       "      <th>museum_price</th>\n",
       "      <th>art_price</th>\n",
       "      <th>traditional_price</th>\n",
       "      <th>theater_price</th>\n",
       "      <th>movie_price</th>\n",
       "      <th>performance_price</th>\n",
       "      <th>total_price</th>\n",
       "    </tr>\n",
       "  </thead>\n",
       "  <tbody>\n",
       "    <tr>\n",
       "      <th>4</th>\n",
       "      <td>2</td>\n",
       "      <td>3</td>\n",
       "      <td>6</td>\n",
       "      <td>3</td>\n",
       "      <td>1</td>\n",
       "      <td>6</td>\n",
       "      <td>0.0</td>\n",
       "      <td>NaN</td>\n",
       "      <td>NaN</td>\n",
       "      <td>NaN</td>\n",
       "      <td>NaN</td>\n",
       "      <td>50000.0</td>\n",
       "      <td>NaN</td>\n",
       "      <td>50000</td>\n",
       "    </tr>\n",
       "    <tr>\n",
       "      <th>8</th>\n",
       "      <td>1</td>\n",
       "      <td>3</td>\n",
       "      <td>6</td>\n",
       "      <td>2</td>\n",
       "      <td>1</td>\n",
       "      <td>5</td>\n",
       "      <td>NaN</td>\n",
       "      <td>NaN</td>\n",
       "      <td>NaN</td>\n",
       "      <td>NaN</td>\n",
       "      <td>NaN</td>\n",
       "      <td>20000.0</td>\n",
       "      <td>NaN</td>\n",
       "      <td>20000</td>\n",
       "    </tr>\n",
       "    <tr>\n",
       "      <th>9</th>\n",
       "      <td>2</td>\n",
       "      <td>3</td>\n",
       "      <td>6</td>\n",
       "      <td>2</td>\n",
       "      <td>1</td>\n",
       "      <td>5</td>\n",
       "      <td>NaN</td>\n",
       "      <td>NaN</td>\n",
       "      <td>NaN</td>\n",
       "      <td>NaN</td>\n",
       "      <td>20000.0</td>\n",
       "      <td>20000.0</td>\n",
       "      <td>NaN</td>\n",
       "      <td>40000</td>\n",
       "    </tr>\n",
       "    <tr>\n",
       "      <th>10</th>\n",
       "      <td>1</td>\n",
       "      <td>3</td>\n",
       "      <td>5</td>\n",
       "      <td>3</td>\n",
       "      <td>1</td>\n",
       "      <td>5</td>\n",
       "      <td>NaN</td>\n",
       "      <td>NaN</td>\n",
       "      <td>NaN</td>\n",
       "      <td>NaN</td>\n",
       "      <td>NaN</td>\n",
       "      <td>0.0</td>\n",
       "      <td>NaN</td>\n",
       "      <td>0</td>\n",
       "    </tr>\n",
       "    <tr>\n",
       "      <th>19</th>\n",
       "      <td>2</td>\n",
       "      <td>3</td>\n",
       "      <td>5</td>\n",
       "      <td>2</td>\n",
       "      <td>1</td>\n",
       "      <td>5</td>\n",
       "      <td>0.0</td>\n",
       "      <td>NaN</td>\n",
       "      <td>NaN</td>\n",
       "      <td>NaN</td>\n",
       "      <td>NaN</td>\n",
       "      <td>10000.0</td>\n",
       "      <td>NaN</td>\n",
       "      <td>10000</td>\n",
       "    </tr>\n",
       "  </tbody>\n",
       "</table>\n",
       "</div>"
      ],
      "text/plain": [
       "    sex  education  income  married  work  age  exhibition_price  \\\n",
       "4     2          3       6        3     1    6               0.0   \n",
       "8     1          3       6        2     1    5               NaN   \n",
       "9     2          3       6        2     1    5               NaN   \n",
       "10    1          3       5        3     1    5               NaN   \n",
       "19    2          3       5        2     1    5               0.0   \n",
       "\n",
       "    museum_price  art_price  traditional_price  theater_price  movie_price  \\\n",
       "4            NaN        NaN                NaN            NaN      50000.0   \n",
       "8            NaN        NaN                NaN            NaN      20000.0   \n",
       "9            NaN        NaN                NaN        20000.0      20000.0   \n",
       "10           NaN        NaN                NaN            NaN          0.0   \n",
       "19           NaN        NaN                NaN            NaN      10000.0   \n",
       "\n",
       "    performance_price  total_price  \n",
       "4                 NaN        50000  \n",
       "8                 NaN        20000  \n",
       "9                 NaN        40000  \n",
       "10                NaN            0  \n",
       "19                NaN        10000  "
      ]
     },
     "execution_count": 12,
     "metadata": {},
     "output_type": "execute_result"
    },
    {
     "data": {
      "text/plain": [
       "(11997, 14)"
      ]
     },
     "execution_count": 12,
     "metadata": {},
     "output_type": "execute_result"
    }
   ],
   "source": [
    "CA.head()\n",
    "CA.shape"
   ]
  },
  {
   "cell_type": "markdown",
   "id": "531af5a9",
   "metadata": {},
   "source": [
    "## 데이터 전처리 - 문화예술활동 조사 데이터"
   ]
  },
  {
   "cell_type": "markdown",
   "id": "b29828b1",
   "metadata": {},
   "source": [
    "### 열 선택\n",
    "- 국민문화예술활동 데이터와 소비분석 데이터가 겹치는 부분만 선택"
   ]
  },
  {
   "cell_type": "code",
   "execution_count": 13,
   "id": "6163ad49",
   "metadata": {},
   "outputs": [],
   "source": [
    "CS_pred = CS_pred_raw[['sex', 'education', 'income', 'married', 'work', 'target', 'pred']]"
   ]
  },
  {
   "cell_type": "code",
   "execution_count": 14,
   "id": "615353e0",
   "metadata": {},
   "outputs": [
    {
     "data": {
      "text/html": [
       "<div>\n",
       "<style scoped>\n",
       "    .dataframe tbody tr th:only-of-type {\n",
       "        vertical-align: middle;\n",
       "    }\n",
       "\n",
       "    .dataframe tbody tr th {\n",
       "        vertical-align: top;\n",
       "    }\n",
       "\n",
       "    .dataframe thead th {\n",
       "        text-align: right;\n",
       "    }\n",
       "</style>\n",
       "<table border=\"1\" class=\"dataframe\">\n",
       "  <thead>\n",
       "    <tr style=\"text-align: right;\">\n",
       "      <th></th>\n",
       "      <th>sex</th>\n",
       "      <th>education</th>\n",
       "      <th>income</th>\n",
       "      <th>married</th>\n",
       "      <th>work</th>\n",
       "      <th>target</th>\n",
       "      <th>pred</th>\n",
       "    </tr>\n",
       "  </thead>\n",
       "  <tbody>\n",
       "    <tr>\n",
       "      <th>0</th>\n",
       "      <td>2</td>\n",
       "      <td>3</td>\n",
       "      <td>3</td>\n",
       "      <td>1</td>\n",
       "      <td>5</td>\n",
       "      <td>3</td>\n",
       "      <td>3</td>\n",
       "    </tr>\n",
       "    <tr>\n",
       "      <th>1</th>\n",
       "      <td>2</td>\n",
       "      <td>3</td>\n",
       "      <td>7</td>\n",
       "      <td>2</td>\n",
       "      <td>5</td>\n",
       "      <td>1</td>\n",
       "      <td>1</td>\n",
       "    </tr>\n",
       "    <tr>\n",
       "      <th>2</th>\n",
       "      <td>2</td>\n",
       "      <td>4</td>\n",
       "      <td>5</td>\n",
       "      <td>3</td>\n",
       "      <td>1</td>\n",
       "      <td>2</td>\n",
       "      <td>2</td>\n",
       "    </tr>\n",
       "    <tr>\n",
       "      <th>3</th>\n",
       "      <td>1</td>\n",
       "      <td>4</td>\n",
       "      <td>6</td>\n",
       "      <td>2</td>\n",
       "      <td>1</td>\n",
       "      <td>2</td>\n",
       "      <td>2</td>\n",
       "    </tr>\n",
       "    <tr>\n",
       "      <th>4</th>\n",
       "      <td>2</td>\n",
       "      <td>3</td>\n",
       "      <td>5</td>\n",
       "      <td>2</td>\n",
       "      <td>1</td>\n",
       "      <td>1</td>\n",
       "      <td>1</td>\n",
       "    </tr>\n",
       "  </tbody>\n",
       "</table>\n",
       "</div>"
      ],
      "text/plain": [
       "   sex  education  income  married  work  target  pred\n",
       "0    2          3       3        1     5       3     3\n",
       "1    2          3       7        2     5       1     1\n",
       "2    2          4       5        3     1       2     2\n",
       "3    1          4       6        2     1       2     2\n",
       "4    2          3       5        2     1       1     1"
      ]
     },
     "execution_count": 14,
     "metadata": {},
     "output_type": "execute_result"
    }
   ],
   "source": [
    "CS_pred.head()"
   ]
  },
  {
   "cell_type": "markdown",
   "id": "27ecbf01",
   "metadata": {},
   "source": [
    "### 문화예술활동에 적게/많이 참여하는 사람들의 특징 도출"
   ]
  },
  {
   "cell_type": "code",
   "execution_count": 15,
   "id": "e7478363",
   "metadata": {
    "scrolled": false
   },
   "outputs": [
    {
     "data": {
      "text/plain": [
       "[Text(0.5, 1.0, 'sex')]"
      ]
     },
     "execution_count": 15,
     "metadata": {},
     "output_type": "execute_result"
    },
    {
     "data": {
      "image/png": "[encoded data removed]",
      "text/plain": [
       "<Figure size 640x480 with 1 Axes>"
      ]
     },
     "metadata": {},
     "output_type": "display_data"
    },
    {
     "data": {
      "text/plain": [
       "[Text(0.5, 1.0, 'education')]"
      ]
     },
     "execution_count": 15,
     "metadata": {},
     "output_type": "execute_result"
    },
    {
     "data": {
      "image/png": "[encoded data removed]",
      "text/plain": [
       "<Figure size 640x480 with 1 Axes>"
      ]
     },
     "metadata": {},
     "output_type": "display_data"
    },
    {
     "data": {
      "text/plain": [
       "[Text(0.5, 1.0, 'income')]"
      ]
     },
     "execution_count": 15,
     "metadata": {},
     "output_type": "execute_result"
    },
    {
     "data": {
      "image/png": "[encoded data removed]",
      "text/plain": [
       "<Figure size 640x480 with 1 Axes>"
      ]
     },
     "metadata": {},
     "output_type": "display_data"
    },
    {
     "data": {
      "text/plain": [
       "[Text(0.5, 1.0, 'married')]"
      ]
     },
     "execution_count": 15,
     "metadata": {},
     "output_type": "execute_result"
    },
    {
     "data": {
      "image/png": "[encoded data removed]",
      "text/plain": [
       "<Figure size 640x480 with 1 Axes>"
      ]
     },
     "metadata": {},
     "output_type": "display_data"
    },
    {
     "data": {
      "text/plain": [
       "[Text(0.5, 1.0, 'work')]"
      ]
     },
     "execution_count": 15,
     "metadata": {},
     "output_type": "execute_result"
    },
    {
     "data": {
      "image/png": "[encoded data removed]",
      "text/plain": [
       "<Figure size 640x480 with 1 Axes>"
      ]
     },
     "metadata": {},
     "output_type": "display_data"
    }
   ],
   "source": [
    "# 문화예술활동에 적게 참여하는 사람들의 특징 시각화\n",
    "data = CS_pred[CS_pred['target'] == 1]\n",
    "\n",
    "for i, column in enumerate(data.columns[:-2]):\n",
    "    vc = data[column].value_counts()/CS_pred[column].value_counts()\n",
    "    sns.barplot(x = vc.index,\n",
    "                y = vc.values,\n",
    "               ).set(title=column)\n",
    "    plt.show()\n",
    "    \n",
    "# 문화예술활동에 적게 참여하는 사람들은 저소득층이 많다."
   ]
  },
  {
   "cell_type": "code",
   "execution_count": 16,
   "id": "341dcb41",
   "metadata": {
    "scrolled": false
   },
   "outputs": [
    {
     "data": {
      "text/plain": [
       "[Text(0.5, 1.0, 'sex')]"
      ]
     },
     "execution_count": 16,
     "metadata": {},
     "output_type": "execute_result"
    },
    {
     "data": {
      "image/png": "[encoded data removed]",
      "text/plain": [
       "<Figure size 640x480 with 1 Axes>"
      ]
     },
     "metadata": {},
     "output_type": "display_data"
    },
    {
     "data": {
      "text/plain": [
       "[Text(0.5, 1.0, 'education')]"
      ]
     },
     "execution_count": 16,
     "metadata": {},
     "output_type": "execute_result"
    },
    {
     "data": {
      "image/png": "[encoded data removed]",
      "text/plain": [
       "<Figure size 640x480 with 1 Axes>"
      ]
     },
     "metadata": {},
     "output_type": "display_data"
    },
    {
     "data": {
      "text/plain": [
       "[Text(0.5, 1.0, 'income')]"
      ]
     },
     "execution_count": 16,
     "metadata": {},
     "output_type": "execute_result"
    },
    {
     "data": {
      "image/png": "[encoded data removed]",
      "text/plain": [
       "<Figure size 640x480 with 1 Axes>"
      ]
     },
     "metadata": {},
     "output_type": "display_data"
    },
    {
     "data": {
      "text/plain": [
       "[Text(0.5, 1.0, 'married')]"
      ]
     },
     "execution_count": 16,
     "metadata": {},
     "output_type": "execute_result"
    },
    {
     "data": {
      "image/png": "[encoded data removed]",
      "text/plain": [
       "<Figure size 640x480 with 1 Axes>"
      ]
     },
     "metadata": {},
     "output_type": "display_data"
    },
    {
     "data": {
      "text/plain": [
       "[Text(0.5, 1.0, 'work')]"
      ]
     },
     "execution_count": 16,
     "metadata": {},
     "output_type": "execute_result"
    },
    {
     "data": {
      "image/png": "[encoded data removed]",
      "text/plain": [
       "<Figure size 640x480 with 1 Axes>"
      ]
     },
     "metadata": {},
     "output_type": "display_data"
    }
   ],
   "source": [
    "# 문화예술활동에 많이 참여하는 사람들의 특징 시각화\n",
    "data = CS_pred[CS_pred['target'] == 3]\n",
    "\n",
    "for i, column in enumerate(data.columns[:-2]):\n",
    "    vc = data[column].value_counts()/CS_pred[column].value_counts()\n",
    "    sns.barplot(x = vc.index,\n",
    "                y = vc.values,\n",
    "               ).set(title=column)\n",
    "    plt.show()\n",
    "    \n",
    "# 문화예술활동에 많이 참여하는 사람들은 고소득층이 많다."
   ]
  },
  {
   "cell_type": "code",
   "execution_count": 17,
   "id": "2f7ad13f",
   "metadata": {},
   "outputs": [
    {
     "name": "stdout",
     "output_type": "stream",
     "text": [
      "저소득층의 연간 문화활동 소비 비용 평균 :  42125 원\n",
      "고소득층의 연간 문화활동 소비 비용 평균 :  245843 원\n"
     ]
    }
   ],
   "source": [
    "# 저/고소득층의 연간 문화활동 소비 비용 평균 비교\n",
    "print('저소득층의 연간 문화활동 소비 비용 평균 : ', int(CA[CA['income'] == 1]['total_price'].mean()), '원')\n",
    "print('고소득층의 연간 문화활동 소비 비용 평균 : ', int(CA[CA['income'] == 7]['total_price'].mean()), '원')"
   ]
  },
  {
   "cell_type": "code",
   "execution_count": null,
   "id": "3190b3e0",
   "metadata": {},
   "outputs": [],
   "source": []
  },
  {
   "cell_type": "markdown",
   "id": "44d63df5",
   "metadata": {},
   "source": [
    "### 가구소득별 분포(단위 : %)"
   ]
  },
  {
   "cell_type": "code",
   "execution_count": 18,
   "id": "2016b11c",
   "metadata": {
    "scrolled": true
   },
   "outputs": [
    {
     "data": {
      "text/plain": [
       "1     3\n",
       "2     7\n",
       "3    16\n",
       "4    18\n",
       "5    15\n",
       "6    31\n",
       "7     7\n",
       "Name: income, dtype: int64"
      ]
     },
     "execution_count": 18,
     "metadata": {},
     "output_type": "execute_result"
    }
   ],
   "source": [
    "(CA['income'].value_counts()/len(CA)*100).apply(int).sort_index()"
   ]
  },
  {
   "cell_type": "code",
   "execution_count": null,
   "id": "b5cb4cb5",
   "metadata": {},
   "outputs": [],
   "source": []
  },
  {
   "cell_type": "markdown",
   "id": "955c8481",
   "metadata": {},
   "source": [
    "### 저소득층이 많이 소비하는 문화활동 분야\n",
    "- 저소득층이면 문화예술활동을 적게 참여할 것이다."
   ]
  },
  {
   "cell_type": "code",
   "execution_count": 19,
   "id": "34ab0b31",
   "metadata": {
    "scrolled": false
   },
   "outputs": [
    {
     "data": {
      "text/plain": [
       "exhibition_price      1434\n",
       "museum_price          2858\n",
       "art_price             4890\n",
       "traditional_price    15079\n",
       "theater_price         2840\n",
       "movie_price          11799\n",
       "performance_price     3221\n",
       "dtype: int64"
      ]
     },
     "execution_count": 19,
     "metadata": {},
     "output_type": "execute_result"
    },
    {
     "data": {
      "text/plain": [
       "<Axes: >"
      ]
     },
     "execution_count": 19,
     "metadata": {},
     "output_type": "execute_result"
    },
    {
     "data": {
      "image/png": "[encoded data removed]",
      "text/plain": [
       "<Figure size 640x480 with 1 Axes>"
      ]
     },
     "metadata": {},
     "output_type": "display_data"
    }
   ],
   "source": [
    "# 저소득층이 많이 소비하는 문화활동 분야\n",
    "data = CA\n",
    "data = data.fillna(0)\n",
    "column = 'income'\n",
    "data = data[data[column]==1].iloc[:, 6:13].mean(axis=0)\n",
    "data.apply(int)\n",
    "\n",
    "# 시각화\n",
    "x = data.values\n",
    "y = data.index\n",
    "\n",
    "sns.barplot(x=x, y=y)\n",
    "    \n",
    "plt.show()"
   ]
  },
  {
   "cell_type": "code",
   "execution_count": null,
   "id": "013981c7",
   "metadata": {},
   "outputs": [],
   "source": []
  },
  {
   "cell_type": "markdown",
   "id": "7936d503",
   "metadata": {},
   "source": [
    "### 고소득층이 많이 소비하는 문화활동 분야\n",
    "- 고소득층이면 문화예술활동을 많이 참여할 것이다."
   ]
  },
  {
   "cell_type": "code",
   "execution_count": 20,
   "id": "95456b0e",
   "metadata": {
    "scrolled": false
   },
   "outputs": [
    {
     "data": {
      "text/plain": [
       "exhibition_price     14910\n",
       "museum_price         37371\n",
       "art_price            48163\n",
       "traditional_price    71594\n",
       "theater_price        21742\n",
       "movie_price          20188\n",
       "performance_price    31872\n",
       "dtype: int64"
      ]
     },
     "execution_count": 20,
     "metadata": {},
     "output_type": "execute_result"
    },
    {
     "data": {
      "text/plain": [
       "<Axes: >"
      ]
     },
     "execution_count": 20,
     "metadata": {},
     "output_type": "execute_result"
    },
    {
     "data": {
      "image/png": "[encoded data removed]",
      "text/plain": [
       "<Figure size 640x480 with 1 Axes>"
      ]
     },
     "metadata": {},
     "output_type": "display_data"
    }
   ],
   "source": [
    "# 고소득층이 많이 소비하는 문화활동 분야\n",
    "data = CA\n",
    "data = data.fillna(0)\n",
    "column = 'income'\n",
    "data = data[data[column]==7].iloc[:, 6:13].mean(axis=0)\n",
    "data.apply(int)\n",
    "\n",
    "# 시각화\n",
    "x = data.values\n",
    "y = data.index\n",
    "\n",
    "sns.barplot(x=x, y=y)\n",
    "    \n",
    "plt.show()"
   ]
  },
  {
   "cell_type": "markdown",
   "id": "037819f6",
   "metadata": {},
   "source": [
    "### 저/고소득층 비교"
   ]
  },
  {
   "cell_type": "code",
   "execution_count": 21,
   "id": "7807815c",
   "metadata": {},
   "outputs": [
    {
     "data": {
      "text/plain": [
       "exhibition_price      1434\n",
       "museum_price          2858\n",
       "art_price             4890\n",
       "traditional_price    15079\n",
       "theater_price         2840\n",
       "movie_price          11799\n",
       "performance_price     3221\n",
       "dtype: int64"
      ]
     },
     "execution_count": 21,
     "metadata": {},
     "output_type": "execute_result"
    },
    {
     "data": {
      "text/plain": [
       "[(0.0, 80000.0)]"
      ]
     },
     "execution_count": 21,
     "metadata": {},
     "output_type": "execute_result"
    },
    {
     "data": {
      "text/plain": [
       "exhibition_price     14910\n",
       "museum_price         37371\n",
       "art_price            48163\n",
       "traditional_price    71594\n",
       "theater_price        21742\n",
       "movie_price          20188\n",
       "performance_price    31872\n",
       "dtype: int64"
      ]
     },
     "execution_count": 21,
     "metadata": {},
     "output_type": "execute_result"
    },
    {
     "data": {
      "text/plain": [
       "[(0.0, 80000.0)]"
      ]
     },
     "execution_count": 21,
     "metadata": {},
     "output_type": "execute_result"
    },
    {
     "data": {
      "image/png": "[encoded data removed]",
      "text/plain": [
       "<Figure size 640x480 with 2 Axes>"
      ]
     },
     "metadata": {},
     "output_type": "display_data"
    }
   ],
   "source": [
    "# 저/고소득층의 문화 활동 분야별 소비하는 금액\n",
    "nrow = 2\n",
    "ncol = 1\n",
    "\n",
    "fig, axis = plt.subplots(nrow, ncol, constrained_layout=True)\n",
    "\n",
    "data = CA\n",
    "data = data.fillna(0)\n",
    "column = 'income'\n",
    "cond = (data[column] == 1), (data[column] == 7)\n",
    "\n",
    "for i in range(nrow*ncol):\n",
    "    data_sub = data[cond[i]].iloc[:, 6:13].mean(axis=0)\n",
    "    data_sub.apply(int)\n",
    "    x = data_sub.values\n",
    "    y = data_sub.index\n",
    "\n",
    "    s = sns.barplot(x=x, y=y, ax=axis[i])\n",
    "    s.set(xlim=(0, 80000))\n",
    "\n",
    "plt.show()\n",
    "\n",
    "# 전체적으로 고소득층이 문화예술행사에 더 많이 소비한다."
   ]
  },
  {
   "cell_type": "code",
   "execution_count": 22,
   "id": "c2acdbd1",
   "metadata": {},
   "outputs": [
    {
     "data": {
      "text/plain": [
       "exhibition_price      1434\n",
       "museum_price          2858\n",
       "art_price             4890\n",
       "traditional_price    15079\n",
       "theater_price         2840\n",
       "movie_price          11799\n",
       "performance_price     3221\n",
       "dtype: int64"
      ]
     },
     "execution_count": 22,
     "metadata": {},
     "output_type": "execute_result"
    },
    {
     "data": {
      "text/plain": [
       "[(0.0, 0.4)]"
      ]
     },
     "execution_count": 22,
     "metadata": {},
     "output_type": "execute_result"
    },
    {
     "data": {
      "text/plain": [
       "exhibition_price     14910\n",
       "museum_price         37371\n",
       "art_price            48163\n",
       "traditional_price    71594\n",
       "theater_price        21742\n",
       "movie_price          20188\n",
       "performance_price    31872\n",
       "dtype: int64"
      ]
     },
     "execution_count": 22,
     "metadata": {},
     "output_type": "execute_result"
    },
    {
     "data": {
      "text/plain": [
       "[(0.0, 0.4)]"
      ]
     },
     "execution_count": 22,
     "metadata": {},
     "output_type": "execute_result"
    },
    {
     "data": {
      "image/png": "[encoded data removed]",
      "text/plain": [
       "<Figure size 640x480 with 2 Axes>"
      ]
     },
     "metadata": {},
     "output_type": "display_data"
    }
   ],
   "source": [
    "# 저/고소득층의 문화 활동 분야별 소비하는 금액 비율\n",
    "nrow = 2\n",
    "ncol = 1\n",
    "\n",
    "fig, axis = plt.subplots(nrow, ncol, constrained_layout=True)\n",
    "\n",
    "data = CA\n",
    "data = data.fillna(0)\n",
    "column = 'income'\n",
    "cond = (data[column] == 1), (data[column] == 7)\n",
    "\n",
    "for i in range(nrow*ncol):\n",
    "    data_sub = data[cond[i]].iloc[:, 6:13].mean(axis=0)\n",
    "    data_sub.apply(int)\n",
    "    x = data_sub.values/data_sub.values.sum()\n",
    "    y = data_sub.index\n",
    "\n",
    "    s = sns.barplot(x=x, y=y, ax=axis[i])\n",
    "    s.set(xlim=(0, 0.40))\n",
    "\n",
    "plt.show()\n",
    "\n",
    "# 저소득층은 영화 관람에 소비하는 비율이 높다."
   ]
  },
  {
   "cell_type": "code",
   "execution_count": 23,
   "id": "3b76510e",
   "metadata": {},
   "outputs": [
    {
     "data": {
      "text/plain": [
       "<Axes: >"
      ]
     },
     "execution_count": 23,
     "metadata": {},
     "output_type": "execute_result"
    },
    {
     "data": {
      "image/png": "[encoded data removed]",
      "text/plain": [
       "<Figure size 640x480 with 1 Axes>"
      ]
     },
     "metadata": {},
     "output_type": "display_data"
    }
   ],
   "source": [
    "# 저소득층과 고소득층의 문화 활동 분야별 소비하는 금액 비율의 차이\n",
    "data = CA\n",
    "data = data.fillna(0)\n",
    "column = 'income'\n",
    "cond = (data[column] == 1), (data[column] == 7)\n",
    "\n",
    "\n",
    "a = data[cond[0]].iloc[:, 6:13].mean(axis=0) / data[cond[0]].iloc[:, 6:13].mean(axis=0).sum()\n",
    "b = data[cond[1]].iloc[:, 6:13].mean(axis=0) / data[cond[1]].iloc[:, 6:13].mean(axis=0).sum()\n",
    "temp = (b-a).sort_values(ascending=False)\n",
    "\n",
    "sns.barplot(x=temp.values, y=temp.index)\n",
    "\n",
    "# 위쪽으로 갈수록 고소득층이 많이 소비하는 분야\n",
    "# 아래쪽으로 갈수록 저소득층이 많이 소비하는 분야\n",
    "# 시니어의 경우, 저소득층일수록 문화예술활동에 적게 참여하는 것으로 예측됨.\n",
    "# 영화는 비용 및 접근성 면에서 저소득층이 접하기 쉽다.\n",
    "# 박물관, 음악 및 무용 발표회는 비용 및 접근성 면에서 저소득층이 접하기 어렵다.\n",
    "# ~~~\n",
    "# 최우선적으로 5~60대 저소득층에게 박물관 관람과 음악 및 무용 발표회 관람에 먼저 지원해야 한다.\n",
    "# 다만, 지원하는 방향을 무조건적인 금전 지원뿐만 아니라 정보를 주는 식의 지원이 필요하다."
   ]
  },
  {
   "cell_type": "markdown",
   "id": "7a29dcc0",
   "metadata": {},
   "source": [
    "- 머신러닝 설명할 때 생각 과정\n",
    "target이 1인 경우, 저소득층이 많음\n",
    "\n",
    "total_price의 평균이 a이다\n",
    "\n",
    "target이 3인 경우, 고소득층이 많음\n",
    "\n",
    "total_price의 평균이 b이다\n",
    "\n",
    "두 수치 비교\n",
    "\n",
    "\n",
    "\n",
    "저소득층인 경우 -> target이 1일 것이다\n",
    "\n",
    "어느 분야에 돈을 많이 쓰는가? 얼마나 쓰는가?\n",
    "\n",
    "고소득층인 경우 -> target이 3일 것이다\n",
    "\n",
    "어느 분야에 돈을 많이 쓰는가? 얼마나 쓰는가?\n",
    "\n",
    "\n",
    "\n",
    "=> 저소득층이 문화 소비 소외층임\n",
    "\n",
    "어떤 분야에 지원을 해야하는지 알 수 있음"
   ]
  },
  {
   "cell_type": "code",
   "execution_count": null,
   "id": "dec08d39",
   "metadata": {},
   "outputs": [],
   "source": []
  }
 ],
 "metadata": {
  "kernelspec": {
   "display_name": "Python 3 (ipykernel)",
   "language": "python",
   "name": "python3"
  },
  "language_info": {
   "codemirror_mode": {
    "name": "ipython",
    "version": 3
   },
   "file_extension": ".py",
   "mimetype": "text/x-python",
   "name": "python",
   "nbconvert_exporter": "python",
   "pygments_lexer": "ipython3",
   "version": "3.10.9"
  }
 },
 "nbformat": 4,
 "nbformat_minor": 5
}

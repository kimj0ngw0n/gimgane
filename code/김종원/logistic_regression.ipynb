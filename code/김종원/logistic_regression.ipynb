{
 "cells": [
  {
   "cell_type": "markdown",
   "id": "db74fa9e",
   "metadata": {},
   "source": [
    "## 로지스틱 회귀 분석\n",
    "- Logistic Regression"
   ]
  },
  {
   "cell_type": "markdown",
   "id": "7874ac60",
   "metadata": {},
   "source": [
    "- 적용 분류 기준\n",
    "    1. 전처리\n",
    "        - scailing(min-max)\n",
    "        - log1p\n",
    "    2. target 카테고리 개수\n",
    "    3. 하이퍼 파라미터\n",
    "        - C : 작을수록 규제 강도가 큼"
   ]
  },
  {
   "cell_type": "code",
   "execution_count": 1,
   "id": "7de7d63b",
   "metadata": {},
   "outputs": [],
   "source": [
    "from IPython.core.interactiveshell import InteractiveShell\n",
    "InteractiveShell.ast_node_interactivity=\"all\""
   ]
  },
  {
   "cell_type": "code",
   "execution_count": 2,
   "id": "42a2c312",
   "metadata": {},
   "outputs": [],
   "source": [
    "import pandas as pd\n",
    "import numpy as np\n",
    "import matplotlib.pyplot as plt\n",
    "%matplotlib inline\n",
    "import seaborn as sns\n",
    "import warnings\n",
    "warnings.filterwarnings('ignore')\n",
    "\n",
    "from sklearn.datasets import load_breast_cancer\n",
    "from sklearn.linear_model import LogisticRegression"
   ]
  },
  {
   "cell_type": "markdown",
   "id": "f9b9008e",
   "metadata": {},
   "source": [
    "### 데이터 로드"
   ]
  },
  {
   "cell_type": "code",
   "execution_count": 3,
   "id": "0bda5ffa",
   "metadata": {},
   "outputs": [],
   "source": [
    "CS = pd.read_csv('./data/CS.csv')\n",
    "cs = CS.copy()"
   ]
  },
  {
   "cell_type": "code",
   "execution_count": 4,
   "id": "edaa58a8",
   "metadata": {},
   "outputs": [],
   "source": [
    "# 5~60대로 filtering\n",
    "cs = cs[(cs['age'] == 5) | (cs['age'] == 6)]\n",
    "# 수도권으로 filtering\n",
    "cs = cs[(cs['sido'] == 1) | (cs['sido'] == 9)]"
   ]
  },
  {
   "cell_type": "code",
   "execution_count": 5,
   "id": "bd171011",
   "metadata": {},
   "outputs": [
    {
     "data": {
      "text/plain": [
       "Int64Index([5, 6], dtype='int64')"
      ]
     },
     "execution_count": 5,
     "metadata": {},
     "output_type": "execute_result"
    }
   ],
   "source": [
    "# filtering 확인\n",
    "cs['age'].value_counts().index"
   ]
  },
  {
   "cell_type": "code",
   "execution_count": 6,
   "id": "2ce2c41e",
   "metadata": {},
   "outputs": [
    {
     "data": {
      "text/plain": [
       "Int64Index([9, 1], dtype='int64')"
      ]
     },
     "execution_count": 6,
     "metadata": {},
     "output_type": "execute_result"
    }
   ],
   "source": [
    "# filtering 확인\n",
    "cs['sido'].value_counts().index"
   ]
  },
  {
   "cell_type": "code",
   "execution_count": 7,
   "id": "a090c158",
   "metadata": {
    "scrolled": false
   },
   "outputs": [
    {
     "data": {
      "text/html": [
       "<div>\n",
       "<style scoped>\n",
       "    .dataframe tbody tr th:only-of-type {\n",
       "        vertical-align: middle;\n",
       "    }\n",
       "\n",
       "    .dataframe tbody tr th {\n",
       "        vertical-align: top;\n",
       "    }\n",
       "\n",
       "    .dataframe thead th {\n",
       "        text-align: right;\n",
       "    }\n",
       "</style>\n",
       "<table border=\"1\" class=\"dataframe\">\n",
       "  <thead>\n",
       "    <tr style=\"text-align: right;\">\n",
       "      <th></th>\n",
       "      <th>view_cnt</th>\n",
       "      <th>where_cnt</th>\n",
       "      <th>attend_cnt</th>\n",
       "      <th>volunteer_cnt</th>\n",
       "      <th>history_cnt</th>\n",
       "      <th>festival_cnt</th>\n",
       "      <th>standard</th>\n",
       "      <th>block</th>\n",
       "      <th>expense</th>\n",
       "      <th>expense_f</th>\n",
       "      <th>...</th>\n",
       "      <th>festival</th>\n",
       "      <th>festival_f</th>\n",
       "      <th>sex</th>\n",
       "      <th>age</th>\n",
       "      <th>education</th>\n",
       "      <th>married</th>\n",
       "      <th>work</th>\n",
       "      <th>income</th>\n",
       "      <th>sido</th>\n",
       "      <th>disabled</th>\n",
       "    </tr>\n",
       "  </thead>\n",
       "  <tbody>\n",
       "    <tr>\n",
       "      <th>0</th>\n",
       "      <td>49</td>\n",
       "      <td>0</td>\n",
       "      <td>0</td>\n",
       "      <td>0</td>\n",
       "      <td>5</td>\n",
       "      <td>0</td>\n",
       "      <td>1</td>\n",
       "      <td>1</td>\n",
       "      <td>14</td>\n",
       "      <td>14</td>\n",
       "      <td>...</td>\n",
       "      <td>2</td>\n",
       "      <td>6</td>\n",
       "      <td>2</td>\n",
       "      <td>5</td>\n",
       "      <td>3</td>\n",
       "      <td>1</td>\n",
       "      <td>5</td>\n",
       "      <td>3</td>\n",
       "      <td>1</td>\n",
       "      <td>1</td>\n",
       "    </tr>\n",
       "    <tr>\n",
       "      <th>1</th>\n",
       "      <td>3</td>\n",
       "      <td>3</td>\n",
       "      <td>3</td>\n",
       "      <td>0</td>\n",
       "      <td>1</td>\n",
       "      <td>0</td>\n",
       "      <td>2</td>\n",
       "      <td>6</td>\n",
       "      <td>14</td>\n",
       "      <td>9</td>\n",
       "      <td>...</td>\n",
       "      <td>2</td>\n",
       "      <td>7</td>\n",
       "      <td>2</td>\n",
       "      <td>5</td>\n",
       "      <td>3</td>\n",
       "      <td>2</td>\n",
       "      <td>5</td>\n",
       "      <td>7</td>\n",
       "      <td>1</td>\n",
       "      <td>1</td>\n",
       "    </tr>\n",
       "    <tr>\n",
       "      <th>6</th>\n",
       "      <td>22</td>\n",
       "      <td>15</td>\n",
       "      <td>0</td>\n",
       "      <td>0</td>\n",
       "      <td>0</td>\n",
       "      <td>0</td>\n",
       "      <td>2</td>\n",
       "      <td>2</td>\n",
       "      <td>14</td>\n",
       "      <td>14</td>\n",
       "      <td>...</td>\n",
       "      <td>2</td>\n",
       "      <td>5</td>\n",
       "      <td>2</td>\n",
       "      <td>5</td>\n",
       "      <td>4</td>\n",
       "      <td>3</td>\n",
       "      <td>1</td>\n",
       "      <td>5</td>\n",
       "      <td>1</td>\n",
       "      <td>1</td>\n",
       "    </tr>\n",
       "    <tr>\n",
       "      <th>7</th>\n",
       "      <td>10</td>\n",
       "      <td>0</td>\n",
       "      <td>0</td>\n",
       "      <td>0</td>\n",
       "      <td>2</td>\n",
       "      <td>2</td>\n",
       "      <td>2</td>\n",
       "      <td>4</td>\n",
       "      <td>17</td>\n",
       "      <td>11</td>\n",
       "      <td>...</td>\n",
       "      <td>1</td>\n",
       "      <td>6</td>\n",
       "      <td>1</td>\n",
       "      <td>5</td>\n",
       "      <td>4</td>\n",
       "      <td>2</td>\n",
       "      <td>1</td>\n",
       "      <td>6</td>\n",
       "      <td>1</td>\n",
       "      <td>1</td>\n",
       "    </tr>\n",
       "    <tr>\n",
       "      <th>9</th>\n",
       "      <td>7</td>\n",
       "      <td>0</td>\n",
       "      <td>0</td>\n",
       "      <td>0</td>\n",
       "      <td>0</td>\n",
       "      <td>0</td>\n",
       "      <td>3</td>\n",
       "      <td>2</td>\n",
       "      <td>15</td>\n",
       "      <td>12</td>\n",
       "      <td>...</td>\n",
       "      <td>2</td>\n",
       "      <td>5</td>\n",
       "      <td>2</td>\n",
       "      <td>5</td>\n",
       "      <td>3</td>\n",
       "      <td>2</td>\n",
       "      <td>1</td>\n",
       "      <td>5</td>\n",
       "      <td>1</td>\n",
       "      <td>1</td>\n",
       "    </tr>\n",
       "    <tr>\n",
       "      <th>...</th>\n",
       "      <td>...</td>\n",
       "      <td>...</td>\n",
       "      <td>...</td>\n",
       "      <td>...</td>\n",
       "      <td>...</td>\n",
       "      <td>...</td>\n",
       "      <td>...</td>\n",
       "      <td>...</td>\n",
       "      <td>...</td>\n",
       "      <td>...</td>\n",
       "      <td>...</td>\n",
       "      <td>...</td>\n",
       "      <td>...</td>\n",
       "      <td>...</td>\n",
       "      <td>...</td>\n",
       "      <td>...</td>\n",
       "      <td>...</td>\n",
       "      <td>...</td>\n",
       "      <td>...</td>\n",
       "      <td>...</td>\n",
       "      <td>...</td>\n",
       "    </tr>\n",
       "    <tr>\n",
       "      <th>20595</th>\n",
       "      <td>21</td>\n",
       "      <td>0</td>\n",
       "      <td>0</td>\n",
       "      <td>0</td>\n",
       "      <td>0</td>\n",
       "      <td>0</td>\n",
       "      <td>5</td>\n",
       "      <td>4</td>\n",
       "      <td>14</td>\n",
       "      <td>14</td>\n",
       "      <td>...</td>\n",
       "      <td>2</td>\n",
       "      <td>5</td>\n",
       "      <td>1</td>\n",
       "      <td>5</td>\n",
       "      <td>4</td>\n",
       "      <td>2</td>\n",
       "      <td>1</td>\n",
       "      <td>3</td>\n",
       "      <td>9</td>\n",
       "      <td>1</td>\n",
       "    </tr>\n",
       "    <tr>\n",
       "      <th>20599</th>\n",
       "      <td>23</td>\n",
       "      <td>0</td>\n",
       "      <td>0</td>\n",
       "      <td>0</td>\n",
       "      <td>1</td>\n",
       "      <td>0</td>\n",
       "      <td>1</td>\n",
       "      <td>1</td>\n",
       "      <td>17</td>\n",
       "      <td>14</td>\n",
       "      <td>...</td>\n",
       "      <td>2</td>\n",
       "      <td>5</td>\n",
       "      <td>2</td>\n",
       "      <td>5</td>\n",
       "      <td>3</td>\n",
       "      <td>2</td>\n",
       "      <td>1</td>\n",
       "      <td>6</td>\n",
       "      <td>9</td>\n",
       "      <td>1</td>\n",
       "    </tr>\n",
       "    <tr>\n",
       "      <th>20605</th>\n",
       "      <td>30</td>\n",
       "      <td>1</td>\n",
       "      <td>0</td>\n",
       "      <td>0</td>\n",
       "      <td>1</td>\n",
       "      <td>0</td>\n",
       "      <td>4</td>\n",
       "      <td>1</td>\n",
       "      <td>8</td>\n",
       "      <td>8</td>\n",
       "      <td>...</td>\n",
       "      <td>2</td>\n",
       "      <td>4</td>\n",
       "      <td>2</td>\n",
       "      <td>6</td>\n",
       "      <td>2</td>\n",
       "      <td>2</td>\n",
       "      <td>3</td>\n",
       "      <td>4</td>\n",
       "      <td>9</td>\n",
       "      <td>1</td>\n",
       "    </tr>\n",
       "    <tr>\n",
       "      <th>20618</th>\n",
       "      <td>7</td>\n",
       "      <td>2</td>\n",
       "      <td>0</td>\n",
       "      <td>0</td>\n",
       "      <td>4</td>\n",
       "      <td>0</td>\n",
       "      <td>1</td>\n",
       "      <td>2</td>\n",
       "      <td>16</td>\n",
       "      <td>16</td>\n",
       "      <td>...</td>\n",
       "      <td>2</td>\n",
       "      <td>5</td>\n",
       "      <td>2</td>\n",
       "      <td>5</td>\n",
       "      <td>3</td>\n",
       "      <td>2</td>\n",
       "      <td>3</td>\n",
       "      <td>6</td>\n",
       "      <td>1</td>\n",
       "      <td>1</td>\n",
       "    </tr>\n",
       "    <tr>\n",
       "      <th>20621</th>\n",
       "      <td>4</td>\n",
       "      <td>0</td>\n",
       "      <td>0</td>\n",
       "      <td>0</td>\n",
       "      <td>0</td>\n",
       "      <td>0</td>\n",
       "      <td>1</td>\n",
       "      <td>2</td>\n",
       "      <td>17</td>\n",
       "      <td>14</td>\n",
       "      <td>...</td>\n",
       "      <td>2</td>\n",
       "      <td>4</td>\n",
       "      <td>1</td>\n",
       "      <td>5</td>\n",
       "      <td>4</td>\n",
       "      <td>2</td>\n",
       "      <td>2</td>\n",
       "      <td>6</td>\n",
       "      <td>1</td>\n",
       "      <td>1</td>\n",
       "    </tr>\n",
       "  </tbody>\n",
       "</table>\n",
       "<p>2144 rows × 24 columns</p>\n",
       "</div>"
      ],
      "text/plain": [
       "       view_cnt  where_cnt  attend_cnt  volunteer_cnt  history_cnt  \\\n",
       "0            49          0           0              0            5   \n",
       "1             3          3           3              0            1   \n",
       "6            22         15           0              0            0   \n",
       "7            10          0           0              0            2   \n",
       "9             7          0           0              0            0   \n",
       "...         ...        ...         ...            ...          ...   \n",
       "20595        21          0           0              0            0   \n",
       "20599        23          0           0              0            1   \n",
       "20605        30          1           0              0            1   \n",
       "20618         7          2           0              0            4   \n",
       "20621         4          0           0              0            0   \n",
       "\n",
       "       festival_cnt  standard  block  expense  expense_f  ...  festival  \\\n",
       "0                 0         1      1       14         14  ...         2   \n",
       "1                 0         2      6       14          9  ...         2   \n",
       "6                 0         2      2       14         14  ...         2   \n",
       "7                 2         2      4       17         11  ...         1   \n",
       "9                 0         3      2       15         12  ...         2   \n",
       "...             ...       ...    ...      ...        ...  ...       ...   \n",
       "20595             0         5      4       14         14  ...         2   \n",
       "20599             0         1      1       17         14  ...         2   \n",
       "20605             0         4      1        8          8  ...         2   \n",
       "20618             0         1      2       16         16  ...         2   \n",
       "20621             0         1      2       17         14  ...         2   \n",
       "\n",
       "       festival_f  sex  age  education  married  work  income  sido  disabled  \n",
       "0               6    2    5          3        1     5       3     1         1  \n",
       "1               7    2    5          3        2     5       7     1         1  \n",
       "6               5    2    5          4        3     1       5     1         1  \n",
       "7               6    1    5          4        2     1       6     1         1  \n",
       "9               5    2    5          3        2     1       5     1         1  \n",
       "...           ...  ...  ...        ...      ...   ...     ...   ...       ...  \n",
       "20595           5    1    5          4        2     1       3     9         1  \n",
       "20599           5    2    5          3        2     1       6     9         1  \n",
       "20605           4    2    6          2        2     3       4     9         1  \n",
       "20618           5    2    5          3        2     3       6     1         1  \n",
       "20621           4    1    5          4        2     2       6     1         1  \n",
       "\n",
       "[2144 rows x 24 columns]"
      ]
     },
     "execution_count": 7,
     "metadata": {},
     "output_type": "execute_result"
    }
   ],
   "source": [
    "# 데이터 세트 확인\n",
    "cs"
   ]
  },
  {
   "cell_type": "markdown",
   "id": "d2eee611",
   "metadata": {},
   "source": [
    "#### target 범주화"
   ]
  },
  {
   "cell_type": "code",
   "execution_count": 8,
   "id": "51c9419d",
   "metadata": {
    "scrolled": true
   },
   "outputs": [
    {
     "data": {
      "text/plain": [
       "count    20624.000000\n",
       "mean        25.158505\n",
       "std         37.865832\n",
       "min          0.000000\n",
       "25%          7.000000\n",
       "50%         15.000000\n",
       "75%         29.000000\n",
       "max        730.000000\n",
       "Name: view_cnt, dtype: float64"
      ]
     },
     "execution_count": 8,
     "metadata": {},
     "output_type": "execute_result"
    }
   ],
   "source": [
    "# 기존 데이터에 대한 기초통계량 출력\n",
    "CS['view_cnt'].describe()\n",
    "\n",
    "# 3개 카테고리로 나누기\n",
    "# 1 : 문화예술행사 관람을 적게 하는 사람\n",
    "# 2 : 문화예술행사 관람을 평범하게 하는 사람\n",
    "# 3 : 문화예술행사 관람을 많이 하는 사람"
   ]
  },
  {
   "cell_type": "code",
   "execution_count": 9,
   "id": "cb503b86",
   "metadata": {},
   "outputs": [],
   "source": [
    "# target 범주화\n",
    "target_min = min(CS['view_cnt'])\n",
    "target_max = max(CS['view_cnt'])\n",
    "\n",
    "target_ranges = [target_min-1, 7, 25, target_max+1]\n",
    "labels = [1, 2, 3,]\n",
    "cs['target'] = pd.cut(CS['view_cnt'], target_ranges, labels=labels)"
   ]
  },
  {
   "cell_type": "code",
   "execution_count": 10,
   "id": "60d8cf9b",
   "metadata": {},
   "outputs": [
    {
     "data": {
      "text/plain": [
       "1    743\n",
       "2    967\n",
       "3    434\n",
       "Name: target, dtype: int64"
      ]
     },
     "execution_count": 10,
     "metadata": {},
     "output_type": "execute_result"
    }
   ],
   "source": [
    "# 범주화 확인\n",
    "cs['target'].value_counts().sort_index()"
   ]
  },
  {
   "cell_type": "markdown",
   "id": "367a6735",
   "metadata": {},
   "source": [
    "### 전처리"
   ]
  },
  {
   "cell_type": "markdown",
   "id": "83e7611c",
   "metadata": {},
   "source": [
    "#### feature / target 분류"
   ]
  },
  {
   "cell_type": "code",
   "execution_count": 11,
   "id": "ae671c0c",
   "metadata": {},
   "outputs": [],
   "source": [
    "# 연령과 거주지를 정하고 분석하기 때문에 제외\n",
    "features = cs.drop(['view_cnt', 'age', 'sido', 'target'], axis=1)\n",
    "target = cs['target']"
   ]
  },
  {
   "cell_type": "markdown",
   "id": "462215bf",
   "metadata": {},
   "source": [
    "#### 연속형 feature에 대해 스케일링 / log 변환"
   ]
  },
  {
   "cell_type": "code",
   "execution_count": 12,
   "id": "0ab6749a",
   "metadata": {},
   "outputs": [
    {
     "data": {
      "text/html": [
       "<div>\n",
       "<style scoped>\n",
       "    .dataframe tbody tr th:only-of-type {\n",
       "        vertical-align: middle;\n",
       "    }\n",
       "\n",
       "    .dataframe tbody tr th {\n",
       "        vertical-align: top;\n",
       "    }\n",
       "\n",
       "    .dataframe thead th {\n",
       "        text-align: right;\n",
       "    }\n",
       "</style>\n",
       "<table border=\"1\" class=\"dataframe\">\n",
       "  <thead>\n",
       "    <tr style=\"text-align: right;\">\n",
       "      <th></th>\n",
       "      <th>where_cnt</th>\n",
       "      <th>attend_cnt</th>\n",
       "      <th>volunteer_cnt</th>\n",
       "      <th>history_cnt</th>\n",
       "      <th>festival_cnt</th>\n",
       "    </tr>\n",
       "  </thead>\n",
       "  <tbody>\n",
       "    <tr>\n",
       "      <th>0</th>\n",
       "      <td>0.000000</td>\n",
       "      <td>0.00</td>\n",
       "      <td>0.0</td>\n",
       "      <td>0.10</td>\n",
       "      <td>0.0</td>\n",
       "    </tr>\n",
       "    <tr>\n",
       "      <th>1</th>\n",
       "      <td>0.012195</td>\n",
       "      <td>0.03</td>\n",
       "      <td>0.0</td>\n",
       "      <td>0.02</td>\n",
       "      <td>0.0</td>\n",
       "    </tr>\n",
       "  </tbody>\n",
       "</table>\n",
       "</div>"
      ],
      "text/plain": [
       "   where_cnt  attend_cnt  volunteer_cnt  history_cnt  festival_cnt\n",
       "0   0.000000        0.00            0.0         0.10           0.0\n",
       "1   0.012195        0.03            0.0         0.02           0.0"
      ]
     },
     "execution_count": 12,
     "metadata": {},
     "output_type": "execute_result"
    }
   ],
   "source": [
    "# 스케일링\n",
    "# 추후 log 변환을 위하여\n",
    "# 정규분포로 스케일링 하지 않고\n",
    "# min-max 스케일링 실시\n",
    "from sklearn.preprocessing import MinMaxScaler\n",
    "\n",
    "mms = MinMaxScaler()\n",
    "features.iloc[:, :5] = mms.fit_transform(features.iloc[:, :5])\n",
    "\n",
    "# 스케일링 확인\n",
    "features.iloc[:, :5].head(2)"
   ]
  },
  {
   "cell_type": "code",
   "execution_count": 13,
   "id": "5acedec4",
   "metadata": {},
   "outputs": [
    {
     "data": {
      "text/html": [
       "<div>\n",
       "<style scoped>\n",
       "    .dataframe tbody tr th:only-of-type {\n",
       "        vertical-align: middle;\n",
       "    }\n",
       "\n",
       "    .dataframe tbody tr th {\n",
       "        vertical-align: top;\n",
       "    }\n",
       "\n",
       "    .dataframe thead th {\n",
       "        text-align: right;\n",
       "    }\n",
       "</style>\n",
       "<table border=\"1\" class=\"dataframe\">\n",
       "  <thead>\n",
       "    <tr style=\"text-align: right;\">\n",
       "      <th></th>\n",
       "      <th>where_cnt</th>\n",
       "      <th>attend_cnt</th>\n",
       "      <th>volunteer_cnt</th>\n",
       "      <th>history_cnt</th>\n",
       "      <th>festival_cnt</th>\n",
       "    </tr>\n",
       "  </thead>\n",
       "  <tbody>\n",
       "    <tr>\n",
       "      <th>0</th>\n",
       "      <td>0.000000</td>\n",
       "      <td>0.000000</td>\n",
       "      <td>0.0</td>\n",
       "      <td>0.095310</td>\n",
       "      <td>0.0</td>\n",
       "    </tr>\n",
       "    <tr>\n",
       "      <th>1</th>\n",
       "      <td>0.012121</td>\n",
       "      <td>0.029559</td>\n",
       "      <td>0.0</td>\n",
       "      <td>0.019803</td>\n",
       "      <td>0.0</td>\n",
       "    </tr>\n",
       "  </tbody>\n",
       "</table>\n",
       "</div>"
      ],
      "text/plain": [
       "   where_cnt  attend_cnt  volunteer_cnt  history_cnt  festival_cnt\n",
       "0   0.000000    0.000000            0.0     0.095310           0.0\n",
       "1   0.012121    0.029559            0.0     0.019803           0.0"
      ]
     },
     "execution_count": 13,
     "metadata": {},
     "output_type": "execute_result"
    }
   ],
   "source": [
    "# log 변환\n",
    "features.iloc[:, :5] = np.log1p(features.iloc[:, :5])\n",
    "\n",
    "# log 변환 확인\n",
    "features.iloc[:, :5].head(2)"
   ]
  },
  {
   "cell_type": "markdown",
   "id": "f5d7e277",
   "metadata": {},
   "source": [
    "#### 범주형 변수 형변환"
   ]
  },
  {
   "cell_type": "code",
   "execution_count": 14,
   "id": "7c349505",
   "metadata": {},
   "outputs": [],
   "source": [
    "features.iloc[:, 5:] = features.iloc[:, 5:].astype(dtype='object')"
   ]
  },
  {
   "cell_type": "code",
   "execution_count": 15,
   "id": "675ac856",
   "metadata": {},
   "outputs": [
    {
     "data": {
      "text/plain": [
       "standard      object\n",
       "block         object\n",
       "expense       object\n",
       "expense_f     object\n",
       "difficulty    object\n",
       "intention     object\n",
       "history       object\n",
       "history_f     object\n",
       "festival      object\n",
       "festival_f    object\n",
       "sex           object\n",
       "education     object\n",
       "married       object\n",
       "work          object\n",
       "income        object\n",
       "disabled      object\n",
       "dtype: object"
      ]
     },
     "execution_count": 15,
     "metadata": {},
     "output_type": "execute_result"
    }
   ],
   "source": [
    "features.iloc[:, 5:].dtypes"
   ]
  },
  {
   "cell_type": "markdown",
   "id": "56ccf9aa",
   "metadata": {},
   "source": [
    "#### 범주형 변수에 대해 원-핫 인코딩"
   ]
  },
  {
   "cell_type": "code",
   "execution_count": 16,
   "id": "88a96221",
   "metadata": {},
   "outputs": [
    {
     "name": "stdout",
     "output_type": "stream",
     "text": [
      "get_dummies() 수행 전 데이터 Shape (2144, 21)\n",
      "get_dummies() 수행 후 데이터 Shape (2144, 111)\n"
     ]
    }
   ],
   "source": [
    "# 원-핫 인코딩 수행 \n",
    "print('get_dummies() 수행 전 데이터 Shape', features.shape)\n",
    "\n",
    "features = pd.get_dummies(features)\n",
    "print('get_dummies() 수행 후 데이터 Shape', features.shape)"
   ]
  },
  {
   "cell_type": "markdown",
   "id": "a04d93f9",
   "metadata": {},
   "source": [
    "#### 데이터 세트 분리"
   ]
  },
  {
   "cell_type": "code",
   "execution_count": 17,
   "id": "d4f67c08",
   "metadata": {},
   "outputs": [],
   "source": [
    "# 데이터 세트 분리\n",
    "from sklearn.model_selection import train_test_split\n",
    "\n",
    "X_train , X_test , y_train , y_test = train_test_split(features, \n",
    "                                                       target, \n",
    "                                                       test_size=0.2, \n",
    "                                                       random_state=0)"
   ]
  },
  {
   "cell_type": "markdown",
   "id": "7b54e951",
   "metadata": {},
   "source": [
    "## 로지스틱 회귀 모델링\n",
    "- Elastic-Net 사용을 위해 최적화에 사용하는 알고리즘으로 saga 사용"
   ]
  },
  {
   "cell_type": "code",
   "execution_count": 18,
   "id": "13b09dc0",
   "metadata": {},
   "outputs": [],
   "source": [
    "# 하이퍼 파라미터 설정 최적 평균 정확도 확인\n",
    "\n",
    "from sklearn.model_selection import GridSearchCV\n",
    "from sklearn.metrics import accuracy_score, roc_auc_score\n",
    "\n",
    "def print_params(cv, parameters):\n",
    "    lr_clf = LogisticRegression(solver='saga')\n",
    "    \n",
    "    grid_lclf = GridSearchCV(lr_clf, param_grid=parameters, scoring='accuracy', cv=cv)\n",
    "    grid_lclf.fit(X_train, y_train)\n",
    "\n",
    "    best_lclf = grid_lclf.best_estimator_\n",
    "\n",
    "    # 최적 하이퍼 파라미터로 학습된 Estimator로 예측/평가 수행\n",
    "    y_pred = best_lclf.predict(X_test)\n",
    "    accuracy = accuracy_score(y_test, y_pred)\n",
    "\n",
    "    # 최종 출력 결과\n",
    "    print('cv{0} 최적 하이퍼 파라미터 : {1}'.format(cv, grid_lclf.best_params_))\n",
    "    print('cv{0} 정확도 : {1:.4f}'.format(cv, grid_lclf.best_score_))\n",
    "    print('cv{0} Best Estimator 정확도 : {1:.4f}'.format(cv, accuracy))\n",
    "    print('')"
   ]
  },
  {
   "cell_type": "code",
   "execution_count": 19,
   "id": "686e42f6",
   "metadata": {},
   "outputs": [],
   "source": [
    "# 파라미터 설정\n",
    "parameters = {\n",
    "    'max_iter' : [500, 1000],\n",
    "    'penalty' : ['l2', 'l1'],\n",
    "    'C' : [0.01, 0.05, 0.1, 0.5, 1, 5, 10],\n",
    "}"
   ]
  },
  {
   "cell_type": "code",
   "execution_count": 20,
   "id": "7571c3a9",
   "metadata": {
    "scrolled": false
   },
   "outputs": [
    {
     "name": "stdout",
     "output_type": "stream",
     "text": [
      "cv3 최적 하이퍼 파라미터 : {'C': 0.5, 'max_iter': 500, 'penalty': 'l1'}\n",
      "cv3 정확도 : 0.5236\n",
      "cv3 Best Estimator 정확도 : 0.4779\n",
      "\n",
      "cv4 최적 하이퍼 파라미터 : {'C': 0.1, 'max_iter': 500, 'penalty': 'l2'}\n",
      "cv4 정확도 : 0.5190\n",
      "cv4 Best Estimator 정확도 : 0.4615\n",
      "\n",
      "cv5 최적 하이퍼 파라미터 : {'C': 1, 'max_iter': 500, 'penalty': 'l1'}\n",
      "cv5 정확도 : 0.5137\n",
      "cv5 Best Estimator 정확도 : 0.4732\n",
      "\n",
      "cv6 최적 하이퍼 파라미터 : {'C': 1, 'max_iter': 500, 'penalty': 'l2'}\n",
      "cv6 정확도 : 0.5271\n",
      "cv6 Best Estimator 정확도 : 0.4685\n",
      "\n",
      "cv7 최적 하이퍼 파라미터 : {'C': 1, 'max_iter': 500, 'penalty': 'l2'}\n",
      "cv7 정확도 : 0.5149\n",
      "cv7 Best Estimator 정확도 : 0.4685\n",
      "\n",
      "cv8 최적 하이퍼 파라미터 : {'C': 1, 'max_iter': 500, 'penalty': 'l2'}\n",
      "cv8 정확도 : 0.5201\n",
      "cv8 Best Estimator 정확도 : 0.4685\n",
      "\n"
     ]
    }
   ],
   "source": [
    "# 교차 검증\n",
    "for cv in range(3, 9):\n",
    "    print_params(cv, parameters)"
   ]
  },
  {
   "cell_type": "markdown",
   "id": "a187cd63",
   "metadata": {},
   "source": [
    "- 가장 높은 정확도를 보인 모델의 정확도는 0.5271로\n",
    "- l2 패널티를 부여했다.\n",
    "- 따라서 l2 패널티(Ridge)에 더 높은 가중치를 주어\n",
    "- Elastic-Net을 적용한다."
   ]
  },
  {
   "cell_type": "code",
   "execution_count": 22,
   "id": "90caa3d5",
   "metadata": {},
   "outputs": [],
   "source": [
    "# 파라미터 설정\n",
    "parameters = {\n",
    "    'max_iter' : [500, 1000],\n",
    "    'penalty' : ['elasticnet',],\n",
    "    'C' : [0.1, 0.5, 1, 5, 10],\n",
    "    # 1에 가까울수록 l1 규제 가중치가 커짐\n",
    "    'l1_ratio' : [0, 0.1, 0.25, 0.3, 0.5],\n",
    "}"
   ]
  },
  {
   "cell_type": "code",
   "execution_count": 24,
   "id": "ce050c0d",
   "metadata": {
    "scrolled": false
   },
   "outputs": [
    {
     "name": "stdout",
     "output_type": "stream",
     "text": [
      "cv3 최적 하이퍼 파라미터 : {'C': 0.5, 'l1_ratio': 0.5, 'max_iter': 500, 'penalty': 'elasticnet'}\n",
      "cv3 정확도 : 0.5236\n",
      "cv3 Best Estimator 정확도 : 0.4755\n",
      "\n",
      "cv4 최적 하이퍼 파라미터 : {'C': 0.1, 'l1_ratio': 0, 'max_iter': 500, 'penalty': 'elasticnet'}\n",
      "cv4 정확도 : 0.5190\n",
      "cv4 Best Estimator 정확도 : 0.4615\n",
      "\n",
      "cv5 최적 하이퍼 파라미터 : {'C': 1, 'l1_ratio': 0.5, 'max_iter': 500, 'penalty': 'elasticnet'}\n",
      "cv5 정확도 : 0.5149\n",
      "cv5 Best Estimator 정확도 : 0.4662\n",
      "\n",
      "cv6 최적 하이퍼 파라미터 : {'C': 1, 'l1_ratio': 0.1, 'max_iter': 500, 'penalty': 'elasticnet'}\n",
      "cv6 정확도 : 0.5294\n",
      "cv6 Best Estimator 정확도 : 0.4662\n",
      "\n",
      "cv7 최적 하이퍼 파라미터 : {'C': 1, 'l1_ratio': 0, 'max_iter': 500, 'penalty': 'elasticnet'}\n",
      "cv7 정확도 : 0.5149\n",
      "cv7 Best Estimator 정확도 : 0.4685\n",
      "\n"
     ]
    }
   ],
   "source": [
    "# 교차 검증\n",
    "for cv in range(3, 8):\n",
    "    print_params(cv, parameters)"
   ]
  },
  {
   "cell_type": "markdown",
   "id": "8bd2d237",
   "metadata": {},
   "source": [
    "- 교차 검증 집단 개수는 6 이고 최대 반복횟수가 500 으로 충분하며,\n",
    "- Elastic-Net 방식을 이용했을 때,\n",
    "- 전체 규제 가중치는 1, Ridge : Lasso 비율은 9 : 1 일 때\n",
    "- 가장 높은 정확도인 0.5294를 나타냈다.\n",
    "- 더 높은 성능의 모델의 파라미터 값을 위해 l1_ratio를 좁혀서 모델링한다."
   ]
  },
  {
   "cell_type": "code",
   "execution_count": 27,
   "id": "78477e0e",
   "metadata": {},
   "outputs": [],
   "source": [
    "# 파라미터 설정\n",
    "parameters = {\n",
    "    'max_iter' : [500],\n",
    "    'penalty' : ['elasticnet',],\n",
    "    # 'C' : [1],  # defalt 값이므로 생략\n",
    "    # 1에 가까울수록 l1 규제 가중치가 커짐\n",
    "    'l1_ratio' : [0.05, 0.1, 0.15, 0.2],\n",
    "}"
   ]
  },
  {
   "cell_type": "code",
   "execution_count": 28,
   "id": "872bf7a8",
   "metadata": {},
   "outputs": [
    {
     "name": "stdout",
     "output_type": "stream",
     "text": [
      "cv6 최적 하이퍼 파라미터 : {'l1_ratio': 0.1, 'max_iter': 500, 'penalty': 'elasticnet'}\n",
      "cv6 정확도 : 0.5294\n",
      "cv6 Best Estimator 정확도 : 0.4662\n",
      "\n"
     ]
    }
   ],
   "source": [
    "# 교차 검증\n",
    "for cv in [6,]:\n",
    "    print_params(cv, parameters)"
   ]
  },
  {
   "cell_type": "markdown",
   "id": "8f9a0e36",
   "metadata": {},
   "source": [
    "- Ridge : Lasso 비율은 그대로 9 : 1 일 때\n",
    "- 가장 높은 정확도를 보인다."
   ]
  },
  {
   "cell_type": "code",
   "execution_count": 21,
   "id": "8df06ee1",
   "metadata": {
    "scrolled": true
   },
   "outputs": [
    {
     "data": {
      "text/html": [
       "<style>#sk-container-id-1 {color: black;background-color: white;}#sk-container-id-1 pre{padding: 0;}#sk-container-id-1 div.sk-toggleable {background-color: white;}#sk-container-id-1 label.sk-toggleable__label {cursor: pointer;display: block;width: 100%;margin-bottom: 0;padding: 0.3em;box-sizing: border-box;text-align: center;}#sk-container-id-1 label.sk-toggleable__label-arrow:before {content: \"▸\";float: left;margin-right: 0.25em;color: #696969;}#sk-container-id-1 label.sk-toggleable__label-arrow:hover:before {color: black;}#sk-container-id-1 div.sk-estimator:hover label.sk-toggleable__label-arrow:before {color: black;}#sk-container-id-1 div.sk-toggleable__content {max-height: 0;max-width: 0;overflow: hidden;text-align: left;background-color: #f0f8ff;}#sk-container-id-1 div.sk-toggleable__content pre {margin: 0.2em;color: black;border-radius: 0.25em;background-color: #f0f8ff;}#sk-container-id-1 input.sk-toggleable__control:checked~div.sk-toggleable__content {max-height: 200px;max-width: 100%;overflow: auto;}#sk-container-id-1 input.sk-toggleable__control:checked~label.sk-toggleable__label-arrow:before {content: \"▾\";}#sk-container-id-1 div.sk-estimator input.sk-toggleable__control:checked~label.sk-toggleable__label {background-color: #d4ebff;}#sk-container-id-1 div.sk-label input.sk-toggleable__control:checked~label.sk-toggleable__label {background-color: #d4ebff;}#sk-container-id-1 input.sk-hidden--visually {border: 0;clip: rect(1px 1px 1px 1px);clip: rect(1px, 1px, 1px, 1px);height: 1px;margin: -1px;overflow: hidden;padding: 0;position: absolute;width: 1px;}#sk-container-id-1 div.sk-estimator {font-family: monospace;background-color: #f0f8ff;border: 1px dotted black;border-radius: 0.25em;box-sizing: border-box;margin-bottom: 0.5em;}#sk-container-id-1 div.sk-estimator:hover {background-color: #d4ebff;}#sk-container-id-1 div.sk-parallel-item::after {content: \"\";width: 100%;border-bottom: 1px solid gray;flex-grow: 1;}#sk-container-id-1 div.sk-label:hover label.sk-toggleable__label {background-color: #d4ebff;}#sk-container-id-1 div.sk-serial::before {content: \"\";position: absolute;border-left: 1px solid gray;box-sizing: border-box;top: 0;bottom: 0;left: 50%;z-index: 0;}#sk-container-id-1 div.sk-serial {display: flex;flex-direction: column;align-items: center;background-color: white;padding-right: 0.2em;padding-left: 0.2em;position: relative;}#sk-container-id-1 div.sk-item {position: relative;z-index: 1;}#sk-container-id-1 div.sk-parallel {display: flex;align-items: stretch;justify-content: center;background-color: white;position: relative;}#sk-container-id-1 div.sk-item::before, #sk-container-id-1 div.sk-parallel-item::before {content: \"\";position: absolute;border-left: 1px solid gray;box-sizing: border-box;top: 0;bottom: 0;left: 50%;z-index: -1;}#sk-container-id-1 div.sk-parallel-item {display: flex;flex-direction: column;z-index: 1;position: relative;background-color: white;}#sk-container-id-1 div.sk-parallel-item:first-child::after {align-self: flex-end;width: 50%;}#sk-container-id-1 div.sk-parallel-item:last-child::after {align-self: flex-start;width: 50%;}#sk-container-id-1 div.sk-parallel-item:only-child::after {width: 0;}#sk-container-id-1 div.sk-dashed-wrapped {border: 1px dashed gray;margin: 0 0.4em 0.5em 0.4em;box-sizing: border-box;padding-bottom: 0.4em;background-color: white;}#sk-container-id-1 div.sk-label label {font-family: monospace;font-weight: bold;display: inline-block;line-height: 1.2em;}#sk-container-id-1 div.sk-label-container {text-align: center;}#sk-container-id-1 div.sk-container {/* jupyter's `normalize.less` sets `[hidden] { display: none; }` but bootstrap.min.css set `[hidden] { display: none !important; }` so we also need the `!important` here to be able to override the default hidden behavior on the sphinx rendered scikit-learn.org. See: https://github.com/scikit-learn/scikit-learn/issues/21755 */display: inline-block !important;position: relative;}#sk-container-id-1 div.sk-text-repr-fallback {display: none;}</style><div id=\"sk-container-id-1\" class=\"sk-top-container\"><div class=\"sk-text-repr-fallback\"><pre>LogisticRegression(l1_ratio=0.1, penalty=&#x27;elasticnet&#x27;, solver=&#x27;saga&#x27;)</pre><b>In a Jupyter environment, please rerun this cell to show the HTML representation or trust the notebook. <br />On GitHub, the HTML representation is unable to render, please try loading this page with nbviewer.org.</b></div><div class=\"sk-container\" hidden><div class=\"sk-item\"><div class=\"sk-estimator sk-toggleable\"><input class=\"sk-toggleable__control sk-hidden--visually\" id=\"sk-estimator-id-1\" type=\"checkbox\" checked><label for=\"sk-estimator-id-1\" class=\"sk-toggleable__label sk-toggleable__label-arrow\">LogisticRegression</label><div class=\"sk-toggleable__content\"><pre>LogisticRegression(l1_ratio=0.1, penalty=&#x27;elasticnet&#x27;, solver=&#x27;saga&#x27;)</pre></div></div></div></div></div>"
      ],
      "text/plain": [
       "LogisticRegression(l1_ratio=0.1, penalty='elasticnet', solver='saga')"
      ]
     },
     "execution_count": 21,
     "metadata": {},
     "output_type": "execute_result"
    },
    {
     "name": "stdout",
     "output_type": "stream",
     "text": [
      "Logistic Regression - Elastic-Net : 0.4662\n"
     ]
    }
   ],
   "source": [
    "# 최종 모델 결과 출력\n",
    "lr_clf = LogisticRegression(solver='saga',\n",
    "                            penalty='elasticnet',\n",
    "                            l1_ratio=0.1\n",
    "                           )\n",
    "\n",
    "lr_clf.fit(X_train, y_train)\n",
    "\n",
    "# 최적 하이퍼 파라미터로 학습된 Estimator로 예측/평가 수행\n",
    "y_pred = lr_clf.predict(X_test)\n",
    "accuracy = accuracy_score(y_test, y_pred)\n",
    "\n",
    "# 최종 출력 결과\n",
    "print('Logistic Regression - Elastic-Net : {0:.4f}'.format(accuracy))"
   ]
  },
  {
   "cell_type": "markdown",
   "id": "d9698e2f",
   "metadata": {},
   "source": [
    "### 회귀계수 분석"
   ]
  },
  {
   "cell_type": "code",
   "execution_count": 39,
   "id": "9c541ddf",
   "metadata": {},
   "outputs": [],
   "source": [
    "# # 회귀 계수 출력\n",
    "# # 가설 함수가 3개가 나오므로 3차원\n",
    "# lr_clf.coef_"
   ]
  },
  {
   "cell_type": "code",
   "execution_count": 38,
   "id": "4792e0f7",
   "metadata": {},
   "outputs": [],
   "source": [
    "# # feature name 출력\n",
    "# lr_clf.feature_names_in_"
   ]
  },
  {
   "cell_type": "code",
   "execution_count": 51,
   "id": "57f90100",
   "metadata": {},
   "outputs": [],
   "source": [
    "# 회귀 계수 시각화 함수\n",
    "def visualize_coefficient(model):\n",
    "    # 3개의 가설 함수 시각화를 위해 3개의 컬럼을 가지는 subplot 생성\n",
    "    fig, axs = plt.subplots(figsize=(24,10),nrows=1, ncols=3)\n",
    "    fig.tight_layout() \n",
    "    # 입력인자로 받은 list객체인 models에서 차례로 model을 추출하여 회귀 계수 시각화. \n",
    "    for i_num, coefs in enumerate(model.coef_):\n",
    "        # feature 이름과 회귀 계수를 하나의 데이터프레임으로 생성 후 정렬\n",
    "        # coef에는 절대값 적용\n",
    "        df = pd.DataFrame({\n",
    "            'feature' : model.feature_names_in_,\n",
    "            'coef' : abs(coefs),\n",
    "        }).sort_values(by=['coef'], ascending=False)\n",
    "        \n",
    "        # 상위 10개 도출\n",
    "        coef_top10 = df[:10]\n",
    "        \n",
    "        # 순차적으로 ax subplot에 barchar로 표현. 한 화면에 표현하기 위해 tick label 위치와 font 크기 조정. \n",
    "        axs[i_num].set_title(model.__class__.__name__ +' Coeffiecents', size=25)\n",
    "        axs[i_num].tick_params(axis=\"y\",direction=\"in\", pad=-120) # 안쪽, 패딩값\n",
    "        for label in (axs[i_num].get_xticklabels() + axs[i_num].get_yticklabels()):\n",
    "            label.set_fontsize(30)\n",
    "        sns.barplot(x=coef_top10['coef'], y=coef_top10['feature'] , ax=axs[i_num])"
   ]
  },
  {
   "cell_type": "code",
   "execution_count": 52,
   "id": "3eae4bda",
   "metadata": {},
   "outputs": [
    {
     "data": {
      "image/png": "[encoded data removed]",
      "text/plain": [
       "<Figure size 2400x1000 with 3 Axes>"
      ]
     },
     "metadata": {},
     "output_type": "display_data"
    }
   ],
   "source": [
    "model = lr_clf\n",
    "visualize_coefficient(model)"
   ]
  },
  {
   "cell_type": "markdown",
   "id": "0b3fb87f",
   "metadata": {},
   "source": [
    "## 결론\n",
    "- 로지스틱 회귀분석 결과\n",
    "- Ridge : Lasso 비율이 9 : 1 로 설정한 Elastic-Net을 이용했을 때,\n",
    "- 정확도 0.4662의 모델이 도출되었다.\n",
    "---\n",
    "- 적게 관람하는 사람들(1), 많이 관람하는 사람들(3)의 회귀계수가 비슷하다.\n",
    "- where_cnt, expense_16, attend_cnt, history_cnt, expense_10이 공통적으로 높다."
   ]
  }
 ],
 "metadata": {
  "kernelspec": {
   "display_name": "Python 3 (ipykernel)",
   "language": "python",
   "name": "python3"
  },
  "language_info": {
   "codemirror_mode": {
    "name": "ipython",
    "version": 3
   },
   "file_extension": ".py",
   "mimetype": "text/x-python",
   "name": "python",
   "nbconvert_exporter": "python",
   "pygments_lexer": "ipython3",
   "version": "3.10.9"
  }
 },
 "nbformat": 4,
 "nbformat_minor": 5
}
